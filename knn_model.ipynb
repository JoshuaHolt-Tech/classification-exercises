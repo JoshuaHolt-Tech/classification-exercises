{
 "cells": [
  {
   "cell_type": "markdown",
   "id": "7969cb5a-816a-4176-a478-5183ba77d323",
   "metadata": {},
   "source": [
    "# Imports, acquire data and data prep:"
   ]
  },
  {
   "cell_type": "code",
   "execution_count": 1,
   "id": "7fb98e2c-95f2-4be0-88b5-b08fc94a3d9b",
   "metadata": {},
   "outputs": [],
   "source": [
    "import pandas as pd\n",
    "import numpy as np\n",
    "import matplotlib.pyplot as plt\n",
    "import seaborn as sns\n",
    "\n",
    "from sklearn.model_selection import train_test_split\n",
    "from sklearn.metrics import (classification_report,\n",
    " confusion_matrix, accuracy_score, precision_score, recall_score)\n",
    "from sklearn.neighbors import KNeighborsClassifier\n",
    "\n",
    "import warnings\n",
    "warnings.filterwarnings(\"ignore\")\n",
    "\n",
    "import acquire, prepare"
   ]
  },
  {
   "cell_type": "code",
   "execution_count": 2,
   "id": "112eeb64-1ad0-4ce2-82b6-0957fe6f414a",
   "metadata": {},
   "outputs": [],
   "source": [
    "#Get titanic data set\n",
    "titanic = acquire.get_titanic_data()"
   ]
  },
  {
   "cell_type": "code",
   "execution_count": 3,
   "id": "9f75033d-a5b9-4757-beba-61fb4abf613d",
   "metadata": {},
   "outputs": [],
   "source": [
    "#Prepare titanic data for processing\n",
    "titanic = prepare.prep_titanic(titanic)"
   ]
  },
  {
   "cell_type": "code",
   "execution_count": 4,
   "id": "552c2ad0-5143-4a40-aef4-5c77df52d2de",
   "metadata": {},
   "outputs": [],
   "source": [
    "#Split the data into train, validate and test sets\n",
    "train, val, test = prepare.train_validate(titanic, 'survived')"
   ]
  },
  {
   "cell_type": "code",
   "execution_count": 5,
   "id": "a43cafaf-5d0f-4812-8355-bc33003760d6",
   "metadata": {},
   "outputs": [],
   "source": [
    "#Seperate the target columns in each set for input into the algorithm\n",
    "X_train = train.drop(columns='survived')\n",
    "y_train = train.survived\n",
    "\n",
    "X_val = val.drop(columns='survived')\n",
    "y_val = val.survived\n",
    "\n",
    "X_test = test.drop(columns='survived')\n",
    "y_test = test.survived"
   ]
  },
  {
   "cell_type": "code",
   "execution_count": 6,
   "id": "a50a624a-6bf3-4438-b77b-aea428cdab92",
   "metadata": {},
   "outputs": [
    {
     "data": {
      "text/plain": [
       "0    192\n",
       "1    119\n",
       "Name: survived, dtype: int64"
      ]
     },
     "execution_count": 6,
     "metadata": {},
     "output_type": "execute_result"
    }
   ],
   "source": [
    "#Shows that deceased is our baseline:\n",
    "train.survived.value_counts()"
   ]
  },
  {
   "cell_type": "markdown",
   "id": "d7977378-6a8c-4eb6-b877-5d697495f8cd",
   "metadata": {},
   "source": [
    "# KNN Exercises:"
   ]
  },
  {
   "cell_type": "markdown",
   "id": "6315b1af-4cb0-4036-863d-e54b430cf863",
   "metadata": {},
   "source": [
    "1. Fit a K-Nearest Neighbors classifier to your training sample and transform (i.e. make predictions on the training sample)"
   ]
  },
  {
   "cell_type": "code",
   "execution_count": 7,
   "id": "44f07654-e10b-4cd7-a134-24c657c0a266",
   "metadata": {},
   "outputs": [
    {
     "data": {
      "text/plain": [
       "KNeighborsClassifier()"
      ]
     },
     "execution_count": 7,
     "metadata": {},
     "output_type": "execute_result"
    }
   ],
   "source": [
    "knn = KNeighborsClassifier()\n",
    "knn.fit(X_train, y_train)"
   ]
  },
  {
   "cell_type": "code",
   "execution_count": 8,
   "id": "13bd97c4-937b-4125-93fe-b9ff8fa42674",
   "metadata": {},
   "outputs": [
    {
     "data": {
      "text/plain": [
       "0.8102893890675241"
      ]
     },
     "execution_count": 8,
     "metadata": {},
     "output_type": "execute_result"
    }
   ],
   "source": [
    "knn.score(X_train, y_train)"
   ]
  },
  {
   "cell_type": "markdown",
   "id": "413035f7-370c-4ac1-bfb1-464b2332305e",
   "metadata": {},
   "source": [
    "2. Evaluate your results using the model score, confusion matrix, and classification report."
   ]
  },
  {
   "cell_type": "code",
   "execution_count": 9,
   "id": "f30b399c-83eb-4ccd-bc10-97a9f4bd5ff1",
   "metadata": {},
   "outputs": [
    {
     "data": {
      "text/plain": [
       "0.7403846153846154"
      ]
     },
     "execution_count": 9,
     "metadata": {},
     "output_type": "execute_result"
    }
   ],
   "source": [
    "knn.score(X_val,y_val)"
   ]
  },
  {
   "cell_type": "code",
   "execution_count": 10,
   "id": "32138e71-7761-423d-ae08-b5f0407adf05",
   "metadata": {},
   "outputs": [],
   "source": [
    "y_pred = knn.predict(X_train)"
   ]
  },
  {
   "cell_type": "code",
   "execution_count": 11,
   "id": "ef33ff91-ba0c-4544-a390-b7de0b9afece",
   "metadata": {},
   "outputs": [],
   "source": [
    "class_report = pd.DataFrame(classification_report(y_train, y_pred, output_dict=True, target_names = ['deceased', 'survived']))"
   ]
  },
  {
   "cell_type": "code",
   "execution_count": 12,
   "id": "42b2c1c1-92c3-4299-8b92-b5ef90346d13",
   "metadata": {},
   "outputs": [
    {
     "data": {
      "text/html": [
       "<div>\n",
       "<style scoped>\n",
       "    .dataframe tbody tr th:only-of-type {\n",
       "        vertical-align: middle;\n",
       "    }\n",
       "\n",
       "    .dataframe tbody tr th {\n",
       "        vertical-align: top;\n",
       "    }\n",
       "\n",
       "    .dataframe thead th {\n",
       "        text-align: right;\n",
       "    }\n",
       "</style>\n",
       "<table border=\"1\" class=\"dataframe\">\n",
       "  <thead>\n",
       "    <tr style=\"text-align: right;\">\n",
       "      <th></th>\n",
       "      <th>0</th>\n",
       "      <th>1</th>\n",
       "    </tr>\n",
       "  </thead>\n",
       "  <tbody>\n",
       "    <tr>\n",
       "      <th>0</th>\n",
       "      <td>159</td>\n",
       "      <td>33</td>\n",
       "    </tr>\n",
       "    <tr>\n",
       "      <th>1</th>\n",
       "      <td>26</td>\n",
       "      <td>93</td>\n",
       "    </tr>\n",
       "  </tbody>\n",
       "</table>\n",
       "</div>"
      ],
      "text/plain": [
       "     0   1\n",
       "0  159  33\n",
       "1   26  93"
      ]
     },
     "execution_count": 12,
     "metadata": {},
     "output_type": "execute_result"
    }
   ],
   "source": [
    "pd.DataFrame(confusion_matrix(y_train, y_pred))"
   ]
  },
  {
   "cell_type": "code",
   "execution_count": 13,
   "id": "89115886-b25c-45c6-af29-c6074c0bf17c",
   "metadata": {},
   "outputs": [
    {
     "data": {
      "text/plain": [
       "(159, 33, 26, 93)"
      ]
     },
     "execution_count": 13,
     "metadata": {},
     "output_type": "execute_result"
    }
   ],
   "source": [
    "tn, fp, fn, tp = confusion_matrix(y_train, y_pred).ravel()\n",
    "tn, fp, fn, tp"
   ]
  },
  {
   "cell_type": "markdown",
   "id": "50e10203-3a22-47e4-89c7-8e74255d962d",
   "metadata": {},
   "source": [
    "3. Print and clearly label the following: Accuracy, true positive rate, false positive rate, true negative rate, false negative rate, precision, recall, f1-score, and support."
   ]
  },
  {
   "cell_type": "code",
   "execution_count": 14,
   "id": "a2371644-ddc6-43ce-8590-f046878622e5",
   "metadata": {},
   "outputs": [
    {
     "data": {
      "text/html": [
       "<div>\n",
       "<style scoped>\n",
       "    .dataframe tbody tr th:only-of-type {\n",
       "        vertical-align: middle;\n",
       "    }\n",
       "\n",
       "    .dataframe tbody tr th {\n",
       "        vertical-align: top;\n",
       "    }\n",
       "\n",
       "    .dataframe thead th {\n",
       "        text-align: right;\n",
       "    }\n",
       "</style>\n",
       "<table border=\"1\" class=\"dataframe\">\n",
       "  <thead>\n",
       "    <tr style=\"text-align: right;\">\n",
       "      <th></th>\n",
       "      <th>deceased</th>\n",
       "      <th>survived</th>\n",
       "      <th>accuracy</th>\n",
       "      <th>macro avg</th>\n",
       "      <th>weighted avg</th>\n",
       "    </tr>\n",
       "  </thead>\n",
       "  <tbody>\n",
       "    <tr>\n",
       "      <th>precision</th>\n",
       "      <td>0.859459</td>\n",
       "      <td>0.738095</td>\n",
       "      <td>0.810289</td>\n",
       "      <td>0.798777</td>\n",
       "      <td>0.813021</td>\n",
       "    </tr>\n",
       "    <tr>\n",
       "      <th>recall</th>\n",
       "      <td>0.828125</td>\n",
       "      <td>0.781513</td>\n",
       "      <td>0.810289</td>\n",
       "      <td>0.804819</td>\n",
       "      <td>0.810289</td>\n",
       "    </tr>\n",
       "    <tr>\n",
       "      <th>f1-score</th>\n",
       "      <td>0.843501</td>\n",
       "      <td>0.759184</td>\n",
       "      <td>0.810289</td>\n",
       "      <td>0.801342</td>\n",
       "      <td>0.811238</td>\n",
       "    </tr>\n",
       "    <tr>\n",
       "      <th>support</th>\n",
       "      <td>192.000000</td>\n",
       "      <td>119.000000</td>\n",
       "      <td>0.810289</td>\n",
       "      <td>311.000000</td>\n",
       "      <td>311.000000</td>\n",
       "    </tr>\n",
       "  </tbody>\n",
       "</table>\n",
       "</div>"
      ],
      "text/plain": [
       "             deceased    survived  accuracy   macro avg  weighted avg\n",
       "precision    0.859459    0.738095  0.810289    0.798777      0.813021\n",
       "recall       0.828125    0.781513  0.810289    0.804819      0.810289\n",
       "f1-score     0.843501    0.759184  0.810289    0.801342      0.811238\n",
       "support    192.000000  119.000000  0.810289  311.000000    311.000000"
      ]
     },
     "execution_count": 14,
     "metadata": {},
     "output_type": "execute_result"
    }
   ],
   "source": [
    "class_report"
   ]
  },
  {
   "cell_type": "code",
   "execution_count": 35,
   "id": "e63b5579-60bf-48c6-a08b-5ae4655b5fb9",
   "metadata": {},
   "outputs": [
    {
     "name": "stdout",
     "output_type": "stream",
     "text": [
      "The true positive rate is: 44.54%\n",
      "The false positive rate is: 9.90%\n",
      "The true negative rate is: 90.10%\n",
      "The false negative rate is: 55.46%\n"
     ]
    }
   ],
   "source": [
    "#What do they mean \"rate\"?\n",
    "tp_rate = tp/(tp+fn)\n",
    "fp_rate = fp/(fp+tn)\n",
    "tn_rate = tn/(fp+tn)\n",
    "fn_rate = fn/(tp+fn)\n",
    "print(f'The true positive rate is: {tp_rate*100:.2f}%')\n",
    "print(f'The false positive rate is: {fp_rate*100:.2f}%')\n",
    "print(f'The true negative rate is: {tn_rate*100:.2f}%')\n",
    "print(f'The false negative rate is: {fn_rate*100:.2f}%')\n"
   ]
  },
  {
   "cell_type": "markdown",
   "id": "da0f5402-804c-4fa9-8f32-6485adb2f878",
   "metadata": {},
   "source": [
    "4. Run through steps 1-3 setting k to 10"
   ]
  },
  {
   "cell_type": "code",
   "execution_count": 16,
   "id": "aaa77c03-6e94-4222-a8d5-1e52ede8dbcc",
   "metadata": {},
   "outputs": [
    {
     "data": {
      "text/plain": [
       "KNeighborsClassifier(n_neighbors=10)"
      ]
     },
     "execution_count": 16,
     "metadata": {},
     "output_type": "execute_result"
    }
   ],
   "source": [
    "knn2 = KNeighborsClassifier(n_neighbors=10)\n",
    "knn2.fit(X_train, y_train)"
   ]
  },
  {
   "cell_type": "code",
   "execution_count": 17,
   "id": "f5d50234-2a49-498b-9a30-360b9d58cbcd",
   "metadata": {},
   "outputs": [
    {
     "data": {
      "text/plain": [
       "0.7652733118971061"
      ]
     },
     "execution_count": 17,
     "metadata": {},
     "output_type": "execute_result"
    }
   ],
   "source": [
    "knn2.score(X_train, y_train)"
   ]
  },
  {
   "cell_type": "code",
   "execution_count": 18,
   "id": "00da27f8-185d-4446-9b4f-ed6b25289d28",
   "metadata": {},
   "outputs": [],
   "source": [
    "y_pred2 = knn2.predict(X_train)"
   ]
  },
  {
   "cell_type": "code",
   "execution_count": 19,
   "id": "d468f2f2-c7e0-4e39-b6e9-631d3ecbd874",
   "metadata": {},
   "outputs": [
    {
     "data": {
      "text/html": [
       "<div>\n",
       "<style scoped>\n",
       "    .dataframe tbody tr th:only-of-type {\n",
       "        vertical-align: middle;\n",
       "    }\n",
       "\n",
       "    .dataframe tbody tr th {\n",
       "        vertical-align: top;\n",
       "    }\n",
       "\n",
       "    .dataframe thead th {\n",
       "        text-align: right;\n",
       "    }\n",
       "</style>\n",
       "<table border=\"1\" class=\"dataframe\">\n",
       "  <thead>\n",
       "    <tr style=\"text-align: right;\">\n",
       "      <th></th>\n",
       "      <th>deceased</th>\n",
       "      <th>survived</th>\n",
       "      <th>accuracy</th>\n",
       "      <th>macro avg</th>\n",
       "      <th>weighted avg</th>\n",
       "    </tr>\n",
       "  </thead>\n",
       "  <tbody>\n",
       "    <tr>\n",
       "      <th>precision</th>\n",
       "      <td>0.784689</td>\n",
       "      <td>0.725490</td>\n",
       "      <td>0.765273</td>\n",
       "      <td>0.755090</td>\n",
       "      <td>0.762037</td>\n",
       "    </tr>\n",
       "    <tr>\n",
       "      <th>recall</th>\n",
       "      <td>0.854167</td>\n",
       "      <td>0.621849</td>\n",
       "      <td>0.765273</td>\n",
       "      <td>0.738008</td>\n",
       "      <td>0.765273</td>\n",
       "    </tr>\n",
       "    <tr>\n",
       "      <th>f1-score</th>\n",
       "      <td>0.817955</td>\n",
       "      <td>0.669683</td>\n",
       "      <td>0.765273</td>\n",
       "      <td>0.743819</td>\n",
       "      <td>0.761221</td>\n",
       "    </tr>\n",
       "    <tr>\n",
       "      <th>support</th>\n",
       "      <td>192.000000</td>\n",
       "      <td>119.000000</td>\n",
       "      <td>0.765273</td>\n",
       "      <td>311.000000</td>\n",
       "      <td>311.000000</td>\n",
       "    </tr>\n",
       "  </tbody>\n",
       "</table>\n",
       "</div>"
      ],
      "text/plain": [
       "             deceased    survived  accuracy   macro avg  weighted avg\n",
       "precision    0.784689    0.725490  0.765273    0.755090      0.762037\n",
       "recall       0.854167    0.621849  0.765273    0.738008      0.765273\n",
       "f1-score     0.817955    0.669683  0.765273    0.743819      0.761221\n",
       "support    192.000000  119.000000  0.765273  311.000000    311.000000"
      ]
     },
     "execution_count": 19,
     "metadata": {},
     "output_type": "execute_result"
    }
   ],
   "source": [
    "class_report2 = pd.DataFrame(classification_report(y_train, y_pred2, output_dict=True, target_names = ['deceased', 'survived']))\n",
    "class_report2"
   ]
  },
  {
   "cell_type": "code",
   "execution_count": 20,
   "id": "619b1953-6fde-4255-8a85-6e7645dce893",
   "metadata": {},
   "outputs": [
    {
     "data": {
      "text/html": [
       "<div>\n",
       "<style scoped>\n",
       "    .dataframe tbody tr th:only-of-type {\n",
       "        vertical-align: middle;\n",
       "    }\n",
       "\n",
       "    .dataframe tbody tr th {\n",
       "        vertical-align: top;\n",
       "    }\n",
       "\n",
       "    .dataframe thead th {\n",
       "        text-align: right;\n",
       "    }\n",
       "</style>\n",
       "<table border=\"1\" class=\"dataframe\">\n",
       "  <thead>\n",
       "    <tr style=\"text-align: right;\">\n",
       "      <th></th>\n",
       "      <th>0</th>\n",
       "      <th>1</th>\n",
       "    </tr>\n",
       "  </thead>\n",
       "  <tbody>\n",
       "    <tr>\n",
       "      <th>0</th>\n",
       "      <td>164</td>\n",
       "      <td>28</td>\n",
       "    </tr>\n",
       "    <tr>\n",
       "      <th>1</th>\n",
       "      <td>45</td>\n",
       "      <td>74</td>\n",
       "    </tr>\n",
       "  </tbody>\n",
       "</table>\n",
       "</div>"
      ],
      "text/plain": [
       "     0   1\n",
       "0  164  28\n",
       "1   45  74"
      ]
     },
     "execution_count": 20,
     "metadata": {},
     "output_type": "execute_result"
    }
   ],
   "source": [
    "pd.DataFrame(confusion_matrix(y_train, y_pred2))"
   ]
  },
  {
   "cell_type": "code",
   "execution_count": 21,
   "id": "2f0ae91b-8b19-4dae-8d0f-b714ed1c5424",
   "metadata": {},
   "outputs": [
    {
     "data": {
      "text/plain": [
       "(164, 28, 45, 74)"
      ]
     },
     "execution_count": 21,
     "metadata": {},
     "output_type": "execute_result"
    }
   ],
   "source": [
    "tn, fp, fn, tp = confusion_matrix(y_train, y_pred2).ravel()\n",
    "tn, fp, fn, tp"
   ]
  },
  {
   "cell_type": "markdown",
   "id": "e9a6f04e-5554-4d19-b9a2-3ed3b9d1b62f",
   "metadata": {},
   "source": [
    "5. Run through steps 1-3 setting k to 20"
   ]
  },
  {
   "cell_type": "code",
   "execution_count": 22,
   "id": "5bd100bd-fee1-47e1-ae10-b46fb1c010cb",
   "metadata": {},
   "outputs": [
    {
     "data": {
      "text/plain": [
       "KNeighborsClassifier(n_neighbors=20)"
      ]
     },
     "execution_count": 22,
     "metadata": {},
     "output_type": "execute_result"
    }
   ],
   "source": [
    "knn3 = KNeighborsClassifier(n_neighbors=20)\n",
    "knn3.fit(X_train, y_train)"
   ]
  },
  {
   "cell_type": "code",
   "execution_count": 23,
   "id": "4cad48f4-3987-4a51-96f7-e4e3fbb52fe9",
   "metadata": {},
   "outputs": [
    {
     "data": {
      "text/plain": [
       "0.7266881028938906"
      ]
     },
     "execution_count": 23,
     "metadata": {},
     "output_type": "execute_result"
    }
   ],
   "source": [
    "knn3.score(X_train, y_train)"
   ]
  },
  {
   "cell_type": "code",
   "execution_count": 24,
   "id": "ceb0be37-7721-4efb-9f32-07540ac5ed50",
   "metadata": {},
   "outputs": [],
   "source": [
    "y_pred3 = knn3.predict(X_train)"
   ]
  },
  {
   "cell_type": "code",
   "execution_count": 25,
   "id": "157b63cf-f8f8-40c8-9ea1-aee1e8640d1b",
   "metadata": {},
   "outputs": [
    {
     "data": {
      "text/html": [
       "<div>\n",
       "<style scoped>\n",
       "    .dataframe tbody tr th:only-of-type {\n",
       "        vertical-align: middle;\n",
       "    }\n",
       "\n",
       "    .dataframe tbody tr th {\n",
       "        vertical-align: top;\n",
       "    }\n",
       "\n",
       "    .dataframe thead th {\n",
       "        text-align: right;\n",
       "    }\n",
       "</style>\n",
       "<table border=\"1\" class=\"dataframe\">\n",
       "  <thead>\n",
       "    <tr style=\"text-align: right;\">\n",
       "      <th></th>\n",
       "      <th>deceased</th>\n",
       "      <th>survived</th>\n",
       "      <th>accuracy</th>\n",
       "      <th>macro avg</th>\n",
       "      <th>weighted avg</th>\n",
       "    </tr>\n",
       "  </thead>\n",
       "  <tbody>\n",
       "    <tr>\n",
       "      <th>precision</th>\n",
       "      <td>0.723849</td>\n",
       "      <td>0.736111</td>\n",
       "      <td>0.726688</td>\n",
       "      <td>0.729980</td>\n",
       "      <td>0.728541</td>\n",
       "    </tr>\n",
       "    <tr>\n",
       "      <th>recall</th>\n",
       "      <td>0.901042</td>\n",
       "      <td>0.445378</td>\n",
       "      <td>0.726688</td>\n",
       "      <td>0.673210</td>\n",
       "      <td>0.726688</td>\n",
       "    </tr>\n",
       "    <tr>\n",
       "      <th>f1-score</th>\n",
       "      <td>0.802784</td>\n",
       "      <td>0.554974</td>\n",
       "      <td>0.726688</td>\n",
       "      <td>0.678879</td>\n",
       "      <td>0.707963</td>\n",
       "    </tr>\n",
       "    <tr>\n",
       "      <th>support</th>\n",
       "      <td>192.000000</td>\n",
       "      <td>119.000000</td>\n",
       "      <td>0.726688</td>\n",
       "      <td>311.000000</td>\n",
       "      <td>311.000000</td>\n",
       "    </tr>\n",
       "  </tbody>\n",
       "</table>\n",
       "</div>"
      ],
      "text/plain": [
       "             deceased    survived  accuracy   macro avg  weighted avg\n",
       "precision    0.723849    0.736111  0.726688    0.729980      0.728541\n",
       "recall       0.901042    0.445378  0.726688    0.673210      0.726688\n",
       "f1-score     0.802784    0.554974  0.726688    0.678879      0.707963\n",
       "support    192.000000  119.000000  0.726688  311.000000    311.000000"
      ]
     },
     "execution_count": 25,
     "metadata": {},
     "output_type": "execute_result"
    }
   ],
   "source": [
    "class_report3 = pd.DataFrame(classification_report(y_train, y_pred3, output_dict=True, target_names = ['deceased', 'survived']))\n",
    "class_report3"
   ]
  },
  {
   "cell_type": "code",
   "execution_count": 26,
   "id": "68fc346e-9b1d-4db0-86e4-59ee9b5cc8e8",
   "metadata": {},
   "outputs": [
    {
     "data": {
      "text/html": [
       "<div>\n",
       "<style scoped>\n",
       "    .dataframe tbody tr th:only-of-type {\n",
       "        vertical-align: middle;\n",
       "    }\n",
       "\n",
       "    .dataframe tbody tr th {\n",
       "        vertical-align: top;\n",
       "    }\n",
       "\n",
       "    .dataframe thead th {\n",
       "        text-align: right;\n",
       "    }\n",
       "</style>\n",
       "<table border=\"1\" class=\"dataframe\">\n",
       "  <thead>\n",
       "    <tr style=\"text-align: right;\">\n",
       "      <th></th>\n",
       "      <th>0</th>\n",
       "      <th>1</th>\n",
       "    </tr>\n",
       "  </thead>\n",
       "  <tbody>\n",
       "    <tr>\n",
       "      <th>0</th>\n",
       "      <td>173</td>\n",
       "      <td>19</td>\n",
       "    </tr>\n",
       "    <tr>\n",
       "      <th>1</th>\n",
       "      <td>66</td>\n",
       "      <td>53</td>\n",
       "    </tr>\n",
       "  </tbody>\n",
       "</table>\n",
       "</div>"
      ],
      "text/plain": [
       "     0   1\n",
       "0  173  19\n",
       "1   66  53"
      ]
     },
     "execution_count": 26,
     "metadata": {},
     "output_type": "execute_result"
    }
   ],
   "source": [
    "pd.DataFrame(confusion_matrix(y_train, y_pred3))"
   ]
  },
  {
   "cell_type": "code",
   "execution_count": 27,
   "id": "0323c131-f632-4685-ae68-d0bfc3b706d4",
   "metadata": {},
   "outputs": [
    {
     "data": {
      "text/plain": [
       "(173, 19, 66, 53)"
      ]
     },
     "execution_count": 27,
     "metadata": {},
     "output_type": "execute_result"
    }
   ],
   "source": [
    "tn, fp, fn, tp = confusion_matrix(y_train, y_pred3).ravel()\n",
    "tn, fp, fn, tp"
   ]
  },
  {
   "cell_type": "markdown",
   "id": "d3b9934c-1f9f-45e2-a509-49c9b9d678ca",
   "metadata": {},
   "source": [
    "6. What are the differences in the evaluation metrics? Which performs better on your in-sample data? Why?"
   ]
  },
  {
   "cell_type": "code",
   "execution_count": 28,
   "id": "003505ad-dae4-47d5-a669-01557b246f3b",
   "metadata": {},
   "outputs": [
    {
     "name": "stdout",
     "output_type": "stream",
     "text": [
      "---------------------------------------------------------------------\n",
      "             deceased    survived  accuracy   macro avg  weighted avg\n",
      "precision    0.859459    0.738095  0.810289    0.798777      0.813021\n",
      "recall       0.828125    0.781513  0.810289    0.804819      0.810289\n",
      "f1-score     0.843501    0.759184  0.810289    0.801342      0.811238\n",
      "support    192.000000  119.000000  0.810289  311.000000    311.000000\n",
      "---------------------------------------------------------------------\n",
      "             deceased    survived  accuracy   macro avg  weighted avg\n",
      "precision    0.784689    0.725490  0.765273    0.755090      0.762037\n",
      "recall       0.854167    0.621849  0.765273    0.738008      0.765273\n",
      "f1-score     0.817955    0.669683  0.765273    0.743819      0.761221\n",
      "support    192.000000  119.000000  0.765273  311.000000    311.000000\n",
      "---------------------------------------------------------------------\n",
      "             deceased    survived  accuracy   macro avg  weighted avg\n",
      "precision    0.723849    0.736111  0.726688    0.729980      0.728541\n",
      "recall       0.901042    0.445378  0.726688    0.673210      0.726688\n",
      "f1-score     0.802784    0.554974  0.726688    0.678879      0.707963\n",
      "support    192.000000  119.000000  0.726688  311.000000    311.000000\n",
      "---------------------------------------------------------------------\n"
     ]
    }
   ],
   "source": [
    "print(\"---------------------------------------------------------------------\")\n",
    "print(class_report)\n",
    "print(\"---------------------------------------------------------------------\")\n",
    "print(class_report2)\n",
    "print(\"---------------------------------------------------------------------\")\n",
    "print(class_report3)\n",
    "print(\"---------------------------------------------------------------------\")"
   ]
  },
  {
   "cell_type": "markdown",
   "id": "9a7901b4-ef9a-444c-8314-b615a5785027",
   "metadata": {},
   "source": [
    "- Model 1 preformed the best with the training data."
   ]
  },
  {
   "cell_type": "markdown",
   "id": "755c7eef-67e3-4803-a3ff-cb78f0f08503",
   "metadata": {},
   "source": [
    "7. Which model performs best on our out-of-sample data from validate?"
   ]
  },
  {
   "cell_type": "code",
   "execution_count": 29,
   "id": "a8d967b4-14c9-43ce-ad11-7e76c21676c3",
   "metadata": {},
   "outputs": [
    {
     "name": "stdout",
     "output_type": "stream",
     "text": [
      "-----------------------------------------------------------------------------\n",
      "Model 1 accuracy with the training set is: 81.0% and validation set is: 74.0%\n",
      "-----------------------------------------------------------------------------\n",
      "Model 2 accuracy with the training set is: 76.5% and validation set is: 74.7%\n",
      "-----------------------------------------------------------------------------\n",
      "Model 3 accuracy with the training set is: 72.7% and validation set is: 70.8%\n",
      "-----------------------------------------------------------------------------\n"
     ]
    }
   ],
   "source": [
    "print(\"-----------------------------------------------------------------------------\")\n",
    "print(f'Model 1 accuracy with the training set is: {knn.score(X_train, y_train) * 100:.1f}% and validation set is: {knn.score(X_val, y_val)*100:.1f}%')\n",
    "print(\"-----------------------------------------------------------------------------\")\n",
    "print(f'Model 2 accuracy with the training set is: {knn2.score(X_train, y_train)*100:.1f}% and validation set is: {knn2.score(X_val, y_val)*100:.1f}%')\n",
    "print(\"-----------------------------------------------------------------------------\")\n",
    "print(f'Model 3 accuracy with the training set is: {knn3.score(X_train, y_train)*100:.1f}% and validation set is: {knn3.score(X_val, y_val)*100:.1f}%')\n",
    "print(\"-----------------------------------------------------------------------------\")"
   ]
  },
  {
   "cell_type": "markdown",
   "id": "9c581d54-7af7-476a-b8f0-ebbc933f7f1c",
   "metadata": {
    "tags": []
   },
   "source": [
    "- It appears model 2 performs the best or has the lowest difference between the training and validation sets."
   ]
  },
  {
   "cell_type": "code",
   "execution_count": 30,
   "id": "35cf66fd-5a4d-4f99-98a2-074a785f39e1",
   "metadata": {
    "tags": []
   },
   "outputs": [],
   "source": [
    "metrics = []\n",
    "\n",
    "for i in range(1, 51, 2): #Remember not to use even numbers to prevent gridlock.\n",
    "    knn_5 = KNeighborsClassifier(n_neighbors=i)\n",
    "    knn_5 = knn_5.fit(X_train, y_train)\n",
    "    in_sample_accuracy = knn_5.score(X_train, y_train)\n",
    "    out_of_sample_accuracy = knn_5.score(X_val, y_val)\n",
    "\n",
    "    output = {\"max_depth\" : i, \"train_accuracy\": in_sample_accuracy, \"validate_accuracy\": out_of_sample_accuracy}\n",
    "              \n",
    "    metrics.append(output)\n",
    "\n",
    "df = pd.DataFrame(metrics)              \n",
    "df['difference'] = df.train_accuracy - df.validate_accuracy              \n",
    "#df              \n"
   ]
  },
  {
   "cell_type": "code",
   "execution_count": 31,
   "id": "609015e4-0ea5-411b-98e8-4b6d4f8c4710",
   "metadata": {
    "tags": []
   },
   "outputs": [
    {
     "data": {
      "image/png": "[encoded data removed]",
      "text/plain": [
       "<Figure size 1200x600 with 1 Axes>"
      ]
     },
     "metadata": {},
     "output_type": "display_data"
    }
   ],
   "source": [
    "\n",
    "plt.figure(figsize=(12,6))\n",
    "plt.plot(df.max_depth, df.train_accuracy, marker = 'o', label= 'Train')\n",
    "plt.plot(df.max_depth, df.validate_accuracy, marker = 'o', label= 'Validate')\n",
    "plt.plot(df.max_depth, df.difference, marker = '.', label = 'Difference')\n",
    "plt.legend()\n",
    "plt.title(\"KNN using from 1 - 51 nearest neighbors\")\n",
    "plt.xlabel(\"Number of n_neighbors\")\n",
    "plt.ylabel(\"Accuracy\")\n",
    "plt.show()\n"
   ]
  },
  {
   "cell_type": "code",
   "execution_count": 32,
   "id": "74679828-3903-4f66-ba33-eb32b370fd17",
   "metadata": {
    "tags": []
   },
   "outputs": [],
   "source": [
    "metrics = []\n",
    "\n",
    "for i in range(1, 51, 2): #Remember not to use even numbers to prevent gridlock.\n",
    "    knn_5 = KNeighborsClassifier(n_neighbors=i, leaf_size=51-i)\n",
    "    knn_5 = knn_5.fit(X_train, y_train)\n",
    "    in_sample_accuracy = knn_5.score(X_train, y_train)\n",
    "    out_of_sample_accuracy = knn_5.score(X_val, y_val)\n",
    "\n",
    "    output = {\"max_depth\" : i, \"train_accuracy\": in_sample_accuracy, \"validate_accuracy\": out_of_sample_accuracy}\n",
    "              \n",
    "    metrics.append(output)\n",
    "\n",
    "df = pd.DataFrame(metrics)              \n",
    "df['difference'] = df.train_accuracy - df.validate_accuracy              \n",
    "#df              \n"
   ]
  },
  {
   "cell_type": "code",
   "execution_count": 33,
   "id": "fe4afc47-6ce3-4acc-97f7-9832e20d96a7",
   "metadata": {
    "tags": []
   },
   "outputs": [
    {
     "data": {
      "image/png": "[encoded data removed]",
      "text/plain": [
       "<Figure size 1200x600 with 1 Axes>"
      ]
     },
     "metadata": {},
     "output_type": "display_data"
    }
   ],
   "source": [
    "\n",
    "plt.figure(figsize=(12,6))\n",
    "plt.plot(df.max_depth, df.train_accuracy, marker = 'o', label= 'Train')\n",
    "plt.plot(df.max_depth, df.validate_accuracy, marker = 'o', label= 'Validate')\n",
    "plt.plot(df.max_depth, df.difference, marker = '.', label = 'Difference')\n",
    "plt.legend()\n",
    "plt.title(\"KNN using from 1 - 51 nearest neighbors\")\n",
    "plt.xlabel(\"Number of n_neighbors\")\n",
    "plt.ylabel(\"Accuracy\")\n",
    "plt.show()\n"
   ]
  },
  {
   "cell_type": "code",
   "execution_count": null,
   "id": "88e88891-0bcc-44c6-a4fa-9e887f5fc9bf",
   "metadata": {},
   "outputs": [],
   "source": []
  }
 ],
 "metadata": {
  "kernelspec": {
   "display_name": "Python 3 (ipykernel)",
   "language": "python",
   "name": "python3"
  },
  "language_info": {
   "codemirror_mode": {
    "name": "ipython",
    "version": 3
   },
   "file_extension": ".py",
   "mimetype": "text/x-python",
   "name": "python",
   "nbconvert_exporter": "python",
   "pygments_lexer": "ipython3",
   "version": "3.9.15"
  }
 },
 "nbformat": 4,
 "nbformat_minor": 5
}
