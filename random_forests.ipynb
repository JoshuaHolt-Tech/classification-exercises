{
 "cells": [
  {
   "cell_type": "markdown",
   "id": "ff5050f2-8bbc-483b-bf05-07df4d4964e9",
   "metadata": {},
   "source": [
    "# Imports:"
   ]
  },
  {
   "cell_type": "code",
   "execution_count": 1,
   "id": "7f07d114-0820-4e09-984a-714c7a048eb3",
   "metadata": {},
   "outputs": [],
   "source": [
    "import pandas as pd\n",
    "import numpy as np\n",
    "from scipy import stats\n",
    "import seaborn as sns\n",
    "import matplotlib.pyplot as plt\n",
    "\n",
    "from sklearn.model_selection import train_test_split\n",
    "from sklearn.tree import DecisionTreeClassifier\n",
    "from sklearn.tree import plot_tree\n",
    "from sklearn.metrics import (classification_report,\n",
    " confusion_matrix, accuracy_score, precision_score, recall_score)\n",
    "from sklearn.ensemble import RandomForestClassifier\n",
    "\n",
    "import warnings\n",
    "warnings.filterwarnings(\"ignore\")\n",
    "\n",
    "from env import get_connection\n",
    "import acquire, prepare\n",
    "\n",
    "pd.options.display.max_columns = None"
   ]
  },
  {
   "cell_type": "code",
   "execution_count": 2,
   "id": "9fd7dc1b-7e25-4959-8fdd-9d3f322b4723",
   "metadata": {},
   "outputs": [],
   "source": [
    "# 20% test, 80% train_validate\n",
    "# then of the 80% train_validate: 30% validate, 70% train. \n",
    "def train_validate(df, stratify_col = None):\n",
    "    \"\"\"\n",
    "    This function takes in a DataFrame and column name for the stratify argument (defualt is None).\n",
    "    It will split the data into three parts for training, testing and validating.\n",
    "    \"\"\"\n",
    "    #This is logic to set the stratify argument:\n",
    "    stratify_arg = ''\n",
    "    if stratify_col != None:\n",
    "        stratify_arg = df[stratify_col]\n",
    "    else:\n",
    "        stratify_arg = None\n",
    "    \n",
    "    #This splits the DataFrame into 'train' and 'test':\n",
    "    train, test = train_test_split(df, train_size=.7, stratify=stratify_arg, random_state = 321)\n",
    "    \n",
    "    #The length of the stratify column changed and needs to be adjusted:\n",
    "    if stratify_col != None:\n",
    "        stratify_arg = train[stratify_col]\n",
    "        \n",
    "    #This splits the larger 'train' DataFrame into a smaller 'train' and 'validate' DataFrames:\n",
    "    train, validate = train_test_split(train, test_size=.5, stratify=stratify_arg, random_state = 321)\n",
    "    return train, validate, test"
   ]
  },
  {
   "cell_type": "code",
   "execution_count": 3,
   "id": "75d27929-8ce3-4995-a1c6-e649e51c51dc",
   "metadata": {},
   "outputs": [],
   "source": [
    "#Acquire and prepare data for processing:\n",
    "titanic = acquire.get_titanic_data()\n",
    "titanic = prepare.prep_titanic(titanic)"
   ]
  },
  {
   "cell_type": "code",
   "execution_count": 4,
   "id": "a98fb0b3-1a8a-4b6d-bacb-85c02089f23a",
   "metadata": {},
   "outputs": [],
   "source": [
    "#Split data into train, validate and test:\n",
    "ti_train, ti_val, ti_test = train_validate(titanic, 'survived')"
   ]
  },
  {
   "cell_type": "code",
   "execution_count": 5,
   "id": "33a34627-fb73-4e6e-ad30-4e71a2027779",
   "metadata": {},
   "outputs": [
    {
     "data": {
      "text/plain": [
       "0    192\n",
       "1    119\n",
       "Name: survived, dtype: int64"
      ]
     },
     "execution_count": 5,
     "metadata": {},
     "output_type": "execute_result"
    }
   ],
   "source": [
    "ti_train.survived.value_counts()"
   ]
  },
  {
   "cell_type": "code",
   "execution_count": 6,
   "id": "0a62e1bc-3c0d-4d75-ae98-06cf852ac600",
   "metadata": {},
   "outputs": [
    {
     "data": {
      "text/plain": [
       "0    0\n",
       "Name: survived, dtype: int64"
      ]
     },
     "execution_count": 6,
     "metadata": {},
     "output_type": "execute_result"
    }
   ],
   "source": [
    "ti_train.survived.mode()"
   ]
  },
  {
   "cell_type": "code",
   "execution_count": 7,
   "id": "26f1b8b7-df08-4964-a455-b80732ebb915",
   "metadata": {},
   "outputs": [],
   "source": [
    "#Creates the various sets and drops the target column from the X set:\n",
    "X_train = ti_train.drop(columns=['survived'])\n",
    "y_train = ti_train['survived']\n",
    "\n",
    "X_val = ti_val.drop(columns=['survived'])\n",
    "y_val = ti_val['survived']\n",
    "\n",
    "X_test = ti_test.drop(columns=['survived'])\n",
    "y_test = ti_test['survived']"
   ]
  },
  {
   "cell_type": "markdown",
   "id": "f8468c38-8152-47db-b94f-724b499c66a2",
   "metadata": {},
   "source": [
    "# Random Forest Exercises"
   ]
  },
  {
   "cell_type": "markdown",
   "id": "87c4ce26-dbf4-482c-8024-e3ceadb06f08",
   "metadata": {},
   "source": [
    "1. Fit the Random Forest classifier to your training sample and transform (i.e. make predictions on the training sample) setting the random_state accordingly and setting min_samples_leaf = 1 and max_depth = 10."
   ]
  },
  {
   "cell_type": "code",
   "execution_count": 8,
   "id": "211d3d79-a74a-408d-bc85-85717cc9e50f",
   "metadata": {},
   "outputs": [],
   "source": [
    "rf = RandomForestClassifier(max_depth=10, min_samples_leaf = 1, random_state= 42)"
   ]
  },
  {
   "cell_type": "code",
   "execution_count": 9,
   "id": "0d3a276d-1256-4f53-93d2-e015de223145",
   "metadata": {},
   "outputs": [
    {
     "data": {
      "text/plain": [
       "RandomForestClassifier(max_depth=10, random_state=42)"
      ]
     },
     "execution_count": 9,
     "metadata": {},
     "output_type": "execute_result"
    }
   ],
   "source": [
    "rf.fit(X_train, y_train)"
   ]
  },
  {
   "cell_type": "code",
   "execution_count": 10,
   "id": "9925e4ea-ecbf-4ea8-8d43-5f38c1cd3315",
   "metadata": {},
   "outputs": [],
   "source": [
    "y_pred = rf.predict(X_train)"
   ]
  },
  {
   "cell_type": "markdown",
   "id": "8437942e-f2d6-4ec6-8f28-5ad051926e69",
   "metadata": {},
   "source": [
    "2. Evaluate your results using the model score, confusion matrix, and classification report."
   ]
  },
  {
   "cell_type": "code",
   "execution_count": 11,
   "id": "e7eaaf50-aeb3-42be-a23b-0c7df68a831b",
   "metadata": {},
   "outputs": [
    {
     "data": {
      "text/plain": [
       "0.9421221864951769"
      ]
     },
     "execution_count": 11,
     "metadata": {},
     "output_type": "execute_result"
    }
   ],
   "source": [
    "rf.score(X_train, y_train)"
   ]
  },
  {
   "cell_type": "code",
   "execution_count": 12,
   "id": "16b77bfd-ac66-4d18-a6fb-c2772109fe8e",
   "metadata": {},
   "outputs": [
    {
     "data": {
      "text/html": [
       "<div>\n",
       "<style scoped>\n",
       "    .dataframe tbody tr th:only-of-type {\n",
       "        vertical-align: middle;\n",
       "    }\n",
       "\n",
       "    .dataframe tbody tr th {\n",
       "        vertical-align: top;\n",
       "    }\n",
       "\n",
       "    .dataframe thead th {\n",
       "        text-align: right;\n",
       "    }\n",
       "</style>\n",
       "<table border=\"1\" class=\"dataframe\">\n",
       "  <thead>\n",
       "    <tr style=\"text-align: right;\">\n",
       "      <th></th>\n",
       "      <th>Act_death</th>\n",
       "      <th>Act_live</th>\n",
       "    </tr>\n",
       "  </thead>\n",
       "  <tbody>\n",
       "    <tr>\n",
       "      <th>Pred_death</th>\n",
       "      <td>189</td>\n",
       "      <td>3</td>\n",
       "    </tr>\n",
       "    <tr>\n",
       "      <th>Pred_live</th>\n",
       "      <td>15</td>\n",
       "      <td>104</td>\n",
       "    </tr>\n",
       "  </tbody>\n",
       "</table>\n",
       "</div>"
      ],
      "text/plain": [
       "            Act_death  Act_live\n",
       "Pred_death        189         3\n",
       "Pred_live          15       104"
      ]
     },
     "execution_count": 12,
     "metadata": {},
     "output_type": "execute_result"
    }
   ],
   "source": [
    "pd.DataFrame(confusion_matrix(y_train, y_pred), index=['Pred_death', 'Pred_live'], columns=['Act_death', 'Act_live'])"
   ]
  },
  {
   "cell_type": "code",
   "execution_count": 13,
   "id": "a14e66e3-e595-437e-a006-8aac978bdd73",
   "metadata": {},
   "outputs": [
    {
     "name": "stdout",
     "output_type": "stream",
     "text": [
      "              precision    recall  f1-score   support\n",
      "\n",
      "           0       0.93      0.98      0.95       192\n",
      "           1       0.97      0.87      0.92       119\n",
      "\n",
      "    accuracy                           0.94       311\n",
      "   macro avg       0.95      0.93      0.94       311\n",
      "weighted avg       0.94      0.94      0.94       311\n",
      "\n"
     ]
    }
   ],
   "source": [
    "print(classification_report(y_train, y_pred))"
   ]
  },
  {
   "cell_type": "markdown",
   "id": "8848d130-5461-44ab-bc8c-1293d55b4f3f",
   "metadata": {},
   "source": [
    "3. Print and clearly label the following: Accuracy, true positive rate, false positive rate, true negative rate, false negative rate, precision, recall, f1-score, and support."
   ]
  },
  {
   "cell_type": "code",
   "execution_count": 14,
   "id": "9fc7fb78-10c3-4827-8a27-66b49cf0bcf7",
   "metadata": {},
   "outputs": [
    {
     "data": {
      "text/html": [
       "<div>\n",
       "<style scoped>\n",
       "    .dataframe tbody tr th:only-of-type {\n",
       "        vertical-align: middle;\n",
       "    }\n",
       "\n",
       "    .dataframe tbody tr th {\n",
       "        vertical-align: top;\n",
       "    }\n",
       "\n",
       "    .dataframe thead th {\n",
       "        text-align: right;\n",
       "    }\n",
       "</style>\n",
       "<table border=\"1\" class=\"dataframe\">\n",
       "  <thead>\n",
       "    <tr style=\"text-align: right;\">\n",
       "      <th></th>\n",
       "      <th>0</th>\n",
       "      <th>1</th>\n",
       "      <th>accuracy</th>\n",
       "      <th>macro avg</th>\n",
       "      <th>weighted avg</th>\n",
       "    </tr>\n",
       "  </thead>\n",
       "  <tbody>\n",
       "    <tr>\n",
       "      <th>precision</th>\n",
       "      <td>0.93</td>\n",
       "      <td>0.97</td>\n",
       "      <td>0.94</td>\n",
       "      <td>0.95</td>\n",
       "      <td>0.94</td>\n",
       "    </tr>\n",
       "    <tr>\n",
       "      <th>recall</th>\n",
       "      <td>0.98</td>\n",
       "      <td>0.87</td>\n",
       "      <td>0.94</td>\n",
       "      <td>0.93</td>\n",
       "      <td>0.94</td>\n",
       "    </tr>\n",
       "    <tr>\n",
       "      <th>f1-score</th>\n",
       "      <td>0.95</td>\n",
       "      <td>0.92</td>\n",
       "      <td>0.94</td>\n",
       "      <td>0.94</td>\n",
       "      <td>0.94</td>\n",
       "    </tr>\n",
       "    <tr>\n",
       "      <th>support</th>\n",
       "      <td>192.00</td>\n",
       "      <td>119.00</td>\n",
       "      <td>0.94</td>\n",
       "      <td>311.00</td>\n",
       "      <td>311.00</td>\n",
       "    </tr>\n",
       "  </tbody>\n",
       "</table>\n",
       "</div>"
      ],
      "text/plain": [
       "                0       1  accuracy  macro avg  weighted avg\n",
       "precision    0.93    0.97      0.94       0.95          0.94\n",
       "recall       0.98    0.87      0.94       0.93          0.94\n",
       "f1-score     0.95    0.92      0.94       0.94          0.94\n",
       "support    192.00  119.00      0.94     311.00        311.00"
      ]
     },
     "execution_count": 14,
     "metadata": {},
     "output_type": "execute_result"
    }
   ],
   "source": [
    "train_df = pd.DataFrame(classification_report(y_train, y_pred, output_dict=True))\n",
    "train_df.round(2)\n",
    "#target_names = ['deceased', 'survived']"
   ]
  },
  {
   "cell_type": "code",
   "execution_count": 15,
   "id": "9c1bff34-c8f7-43b7-88f1-0422e7b74e10",
   "metadata": {},
   "outputs": [
    {
     "data": {
      "text/plain": [
       "(189, 3, 15, 104)"
      ]
     },
     "execution_count": 15,
     "metadata": {},
     "output_type": "execute_result"
    }
   ],
   "source": [
    "TN, FP, FN, TP = confusion_matrix(y_train, y_pred).ravel()\n",
    "TN, FP, FN, TP"
   ]
  },
  {
   "cell_type": "code",
   "execution_count": 16,
   "id": "a7c45b60-9da2-40cb-90f5-671c7b8aebd2",
   "metadata": {},
   "outputs": [
    {
     "data": {
      "text/plain": [
       "0.94"
      ]
     },
     "execution_count": 16,
     "metadata": {},
     "output_type": "execute_result"
    }
   ],
   "source": [
    "rf_acc = round((TP + TN)/(TP+FP+FN+TN),2)\n",
    "rf_acc"
   ]
  },
  {
   "cell_type": "code",
   "execution_count": 17,
   "id": "eda47862-70f9-4a3f-9ed7-5f97ddfe930a",
   "metadata": {},
   "outputs": [
    {
     "data": {
      "text/plain": [
       "0.97"
      ]
     },
     "execution_count": 17,
     "metadata": {},
     "output_type": "execute_result"
    }
   ],
   "source": [
    "rf_prec = round(TP/(TP+FP),2)\n",
    "rf_prec"
   ]
  },
  {
   "cell_type": "code",
   "execution_count": 18,
   "id": "d5e7f4f2-b720-459c-99c8-4428174281a1",
   "metadata": {},
   "outputs": [
    {
     "data": {
      "text/plain": [
       "0.87"
      ]
     },
     "execution_count": 18,
     "metadata": {},
     "output_type": "execute_result"
    }
   ],
   "source": [
    "rf_recall = round(TP/(TP+FN), 2)\n",
    "rf_recall"
   ]
  },
  {
   "cell_type": "markdown",
   "id": "3645b0fe-8f02-4c7c-8874-9bdf57cad534",
   "metadata": {},
   "source": [
    "4. Run through steps increasing your min_samples_leaf and decreasing your max_depth."
   ]
  },
  {
   "cell_type": "code",
   "execution_count": 30,
   "id": "e875087a-6c35-459d-a395-d173f1ea9bdb",
   "metadata": {},
   "outputs": [
    {
     "name": "stdout",
     "output_type": "stream",
     "text": [
      " Max depth of 1. Train accuracy: 0.7717. Validation accuracy: 0.7436\n",
      "\n",
      "-------------------------------------\n",
      " Max depth of 2. Train accuracy: 0.8103. Validation accuracy: 0.7821\n",
      "\n",
      "-------------------------------------\n",
      " Max depth of 3. Train accuracy: 0.8167. Validation accuracy: 0.7885\n",
      "\n",
      "-------------------------------------\n",
      " Max depth of 4. Train accuracy: 0.8521. Validation accuracy: 0.7949\n",
      "\n",
      "-------------------------------------\n",
      " Max depth of 5. Train accuracy: 0.8907. Validation accuracy: 0.8077\n",
      "\n",
      "-------------------------------------\n",
      " Max depth of 6. Train accuracy: 0.8971. Validation accuracy: 0.7949\n",
      "\n",
      "-------------------------------------\n",
      " Max depth of 7. Train accuracy: 0.9228. Validation accuracy: 0.8109\n",
      "\n",
      "-------------------------------------\n",
      " Max depth of 8. Train accuracy: 0.9357. Validation accuracy: 0.8173\n",
      "\n",
      "-------------------------------------\n",
      " Max depth of 9. Train accuracy: 0.9421. Validation accuracy: 0.8109\n",
      "\n",
      "-------------------------------------\n",
      " Max depth of 10. Train accuracy: 0.9421. Validation accuracy: 0.8045\n",
      "\n",
      "-------------------------------------\n"
     ]
    }
   ],
   "source": [
    "seed = 42\n",
    "#Write a for loop to create a new forest for each depth.\n",
    "for i in range (1, 11):\n",
    "    rf = RandomForestClassifier(max_depth=i, random_state=seed, min_samples_leaf=1)\n",
    "    rf.fit(X_train, y_train)\n",
    "    train_acc = rf.score(X_train, y_train)\n",
    "    val_acc = rf.score(X_val, y_val)\n",
    "    \n",
    "    print(f' Max depth of {i}. Train accuracy: {train_acc:.4f}. Validation accuracy: {val_acc:.4f}')\n",
    "    print()\n",
    "    print('-------------------------------------')\n",
    "    #Build object to hold metrics to explore:"
   ]
  },
  {
   "cell_type": "code",
   "execution_count": 31,
   "id": "13cfb109-e9dc-419a-9829-56a00e020c24",
   "metadata": {},
   "outputs": [
    {
     "name": "stdout",
     "output_type": "stream",
     "text": [
      " Min_samples_leaf of 1. Train accuracy: 0.9421. Validation accuracy: 0.8045\n",
      "\n",
      "-------------------------------------\n",
      " Min_samples_leaf of 2. Train accuracy: 0.9035. Validation accuracy: 0.8013\n",
      "\n",
      "-------------------------------------\n",
      " Min_samples_leaf of 3. Train accuracy: 0.8875. Validation accuracy: 0.7853\n",
      "\n",
      "-------------------------------------\n",
      " Min_samples_leaf of 4. Train accuracy: 0.8650. Validation accuracy: 0.7885\n",
      "\n",
      "-------------------------------------\n",
      " Min_samples_leaf of 5. Train accuracy: 0.8553. Validation accuracy: 0.7853\n",
      "\n",
      "-------------------------------------\n",
      " Min_samples_leaf of 6. Train accuracy: 0.8585. Validation accuracy: 0.7885\n",
      "\n",
      "-------------------------------------\n",
      " Min_samples_leaf of 7. Train accuracy: 0.8296. Validation accuracy: 0.7853\n",
      "\n",
      "-------------------------------------\n",
      " Min_samples_leaf of 8. Train accuracy: 0.8457. Validation accuracy: 0.7885\n",
      "\n",
      "-------------------------------------\n",
      " Min_samples_leaf of 9. Train accuracy: 0.8135. Validation accuracy: 0.7885\n",
      "\n",
      "-------------------------------------\n",
      " Min_samples_leaf of 10. Train accuracy: 0.8199. Validation accuracy: 0.7853\n",
      "\n",
      "-------------------------------------\n"
     ]
    }
   ],
   "source": [
    "seed = 42\n",
    "#Write a for loop to create a new forest for each depth.\n",
    "for i in range (1, 11):\n",
    "    rf = RandomForestClassifier(max_depth=10, random_state=seed, min_samples_leaf=i)\n",
    "    rf.fit(X_train, y_train)\n",
    "    train_acc = rf.score(X_train, y_train)\n",
    "    val_acc = rf.score(X_val, y_val)\n",
    "    \n",
    "    print(f' Min_samples_leaf of {i}. Train accuracy: {train_acc:.4f}. Validation accuracy: {val_acc:.4f}')\n",
    "    print()\n",
    "    print('-------------------------------------')\n",
    "    #Build object to hold metrics to explore:"
   ]
  },
  {
   "cell_type": "code",
   "execution_count": 19,
   "id": "54065bad-f860-4da3-93a6-82f035b9a57c",
   "metadata": {},
   "outputs": [],
   "source": [
    "rf_2 = RandomForestClassifier(max_depth=15, min_samples_leaf = 5, random_state= 42)"
   ]
  },
  {
   "cell_type": "code",
   "execution_count": 20,
   "id": "26d59e11-af44-4bca-a9b7-6889b04fb6e2",
   "metadata": {},
   "outputs": [
    {
     "data": {
      "text/plain": [
       "RandomForestClassifier(max_depth=15, min_samples_leaf=5, random_state=42)"
      ]
     },
     "execution_count": 20,
     "metadata": {},
     "output_type": "execute_result"
    }
   ],
   "source": [
    "rf_2.fit(X_train, y_train)"
   ]
  },
  {
   "cell_type": "code",
   "execution_count": 21,
   "id": "4b620e82-a608-43db-b15c-b2765d2252c7",
   "metadata": {},
   "outputs": [],
   "source": [
    "y_pred_2 = rf_2.predict(X_train)"
   ]
  },
  {
   "cell_type": "code",
   "execution_count": 22,
   "id": "31e99506-466b-4427-bb18-896b8f95c911",
   "metadata": {},
   "outputs": [],
   "source": [
    "y_val_pred = rf.predict(X_val)"
   ]
  },
  {
   "cell_type": "code",
   "execution_count": 23,
   "id": "0ee14872-a93f-4fb3-b942-a342f436bcd6",
   "metadata": {},
   "outputs": [],
   "source": [
    "y_2_val_pred = rf.predict(X_val)"
   ]
  },
  {
   "cell_type": "markdown",
   "id": "d3ff17fa-8cc1-45a5-b815-1da41f4281ef",
   "metadata": {},
   "source": [
    "5. What are the differences in the evaluation metrics? Which performs better on your in-sample data? Why?"
   ]
  },
  {
   "cell_type": "code",
   "execution_count": 24,
   "id": "b5a6659f-83ed-42ea-8477-ec9d2de45c44",
   "metadata": {},
   "outputs": [
    {
     "name": "stdout",
     "output_type": "stream",
     "text": [
      "Report for first train random_forest:\n",
      "              precision    recall  f1-score   support\n",
      "\n",
      "           0       0.93      0.98      0.95       192\n",
      "           1       0.97      0.87      0.92       119\n",
      "\n",
      "    accuracy                           0.94       311\n",
      "   macro avg       0.95      0.93      0.94       311\n",
      "weighted avg       0.94      0.94      0.94       311\n",
      "\n",
      "-------------------------------------------------\n",
      "Report for second train random_forest:\n",
      "              precision    recall  f1-score   support\n",
      "\n",
      "           0       0.85      0.94      0.89       192\n",
      "           1       0.88      0.73      0.80       119\n",
      "\n",
      "    accuracy                           0.86       311\n",
      "   macro avg       0.86      0.83      0.84       311\n",
      "weighted avg       0.86      0.86      0.86       311\n",
      "\n",
      "=================================================\n",
      "Report for first validate random_forest:\n",
      "              precision    recall  f1-score   support\n",
      "\n",
      "           0       0.79      0.93      0.85       192\n",
      "           1       0.84      0.61      0.71       120\n",
      "\n",
      "    accuracy                           0.80       312\n",
      "   macro avg       0.82      0.77      0.78       312\n",
      "weighted avg       0.81      0.80      0.80       312\n",
      "\n",
      "-------------------------------------------------\n",
      "Report for second validate random_forest:\n",
      "              precision    recall  f1-score   support\n",
      "\n",
      "           0       0.79      0.93      0.85       192\n",
      "           1       0.84      0.61      0.71       120\n",
      "\n",
      "    accuracy                           0.80       312\n",
      "   macro avg       0.82      0.77      0.78       312\n",
      "weighted avg       0.81      0.80      0.80       312\n",
      "\n"
     ]
    }
   ],
   "source": [
    "print(\"Report for first train random_forest:\")\n",
    "print(classification_report(y_train, y_pred))\n",
    "print(\"-------------------------------------------------\")\n",
    "print(\"Report for second train random_forest:\")\n",
    "print(classification_report(y_train, y_pred_2))\n",
    "print(\"=================================================\")\n",
    "print(\"Report for first validate random_forest:\")\n",
    "print(classification_report(y_val, y_val_pred))\n",
    "print(\"-------------------------------------------------\")\n",
    "print(\"Report for second validate random_forest:\")\n",
    "print(classification_report(y_val, y_2_val_pred))"
   ]
  },
  {
   "cell_type": "code",
   "execution_count": 25,
   "id": "6d4f269f-6841-4b5a-b9ac-2ef09ef6babb",
   "metadata": {},
   "outputs": [
    {
     "data": {
      "text/html": [
       "<div>\n",
       "<style scoped>\n",
       "    .dataframe tbody tr th:only-of-type {\n",
       "        vertical-align: middle;\n",
       "    }\n",
       "\n",
       "    .dataframe tbody tr th {\n",
       "        vertical-align: top;\n",
       "    }\n",
       "\n",
       "    .dataframe thead th {\n",
       "        text-align: right;\n",
       "    }\n",
       "</style>\n",
       "<table border=\"1\" class=\"dataframe\">\n",
       "  <thead>\n",
       "    <tr style=\"text-align: right;\">\n",
       "      <th></th>\n",
       "      <th>Act_live</th>\n",
       "      <th>Act_death</th>\n",
       "    </tr>\n",
       "  </thead>\n",
       "  <tbody>\n",
       "    <tr>\n",
       "      <th>Pred_live</th>\n",
       "      <td>178</td>\n",
       "      <td>14</td>\n",
       "    </tr>\n",
       "    <tr>\n",
       "      <th>Pred_death</th>\n",
       "      <td>47</td>\n",
       "      <td>73</td>\n",
       "    </tr>\n",
       "  </tbody>\n",
       "</table>\n",
       "</div>"
      ],
      "text/plain": [
       "            Act_live  Act_death\n",
       "Pred_live        178         14\n",
       "Pred_death        47         73"
      ]
     },
     "execution_count": 25,
     "metadata": {},
     "output_type": "execute_result"
    }
   ],
   "source": [
    "pd.DataFrame(confusion_matrix(y_val, y_2_val_pred), index=['Pred_live', 'Pred_death'], columns=['Act_live','Act_death'])"
   ]
  },
  {
   "cell_type": "markdown",
   "id": "662927ad-d439-487a-a5c4-8bccc14570ca",
   "metadata": {},
   "source": [
    "### Question: After making a few models, which one has the best performance (or closest metrics) on both train and validate?"
   ]
  },
  {
   "cell_type": "markdown",
   "id": "37b627ea-63e6-4203-a015-0bfc42cd57e8",
   "metadata": {},
   "source": [
    "- Answer: The first model (10 layers deep) has the best but there are indications that it is overfit. The training set scored an accuracy of 94 but the validation set scored 86."
   ]
  },
  {
   "cell_type": "code",
   "execution_count": null,
   "id": "794212d6-d922-49a5-9d34-53072644785e",
   "metadata": {},
   "outputs": [],
   "source": []
  }
 ],
 "metadata": {
  "kernelspec": {
   "display_name": "Python 3 (ipykernel)",
   "language": "python",
   "name": "python3"
  },
  "language_info": {
   "codemirror_mode": {
    "name": "ipython",
    "version": 3
   },
   "file_extension": ".py",
   "mimetype": "text/x-python",
   "name": "python",
   "nbconvert_exporter": "python",
   "pygments_lexer": "ipython3",
   "version": "3.9.15"
  }
 },
 "nbformat": 4,
 "nbformat_minor": 5
}
