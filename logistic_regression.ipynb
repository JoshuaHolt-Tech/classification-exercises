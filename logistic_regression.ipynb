{
 "cells": [
  {
   "cell_type": "markdown",
   "id": "b4f4552e-da7a-4119-bd8f-7a4d836e0275",
   "metadata": {},
   "source": [
    "# Imports, acquire and prepare data:"
   ]
  },
  {
   "cell_type": "markdown",
   "id": "283e6269-53df-4ca0-b109-5f56d00c3c96",
   "metadata": {},
   "source": [
    "Use the titanic data set:"
   ]
  },
  {
   "cell_type": "code",
   "execution_count": 1,
   "id": "ca4f68c4-b0af-4890-b7ba-ba8146c3dd78",
   "metadata": {},
   "outputs": [],
   "source": [
    "import pandas as pd\n",
    "import numpy as np\n",
    "import matplotlib.pyplot as plt\n",
    "import seaborn as sns\n",
    "\n",
    "from sklearn.model_selection import train_test_split\n",
    "from sklearn.metrics import (classification_report,\n",
    " confusion_matrix, accuracy_score, precision_score, recall_score)\n",
    "from sklearn.linear_model import LogisticRegression\n",
    "\n",
    "import warnings\n",
    "warnings.filterwarnings(\"ignore\")\n",
    "\n",
    "import acquire, prepare\n",
    "\n",
    "pd.options.display.max_columns = None\n",
    "pd.options.display.max_rows = None"
   ]
  },
  {
   "cell_type": "code",
   "execution_count": 2,
   "id": "4e86b966-d7e9-4070-88ac-6cb70adf1003",
   "metadata": {},
   "outputs": [],
   "source": [
    "#Get titanic data set\n",
    "titanic = acquire.get_titanic_data()"
   ]
  },
  {
   "cell_type": "markdown",
   "id": "9142534d-f0d3-4edf-94a7-20b80a1bc150",
   "metadata": {},
   "source": [
    "# Questions:"
   ]
  },
  {
   "cell_type": "markdown",
   "id": "d9bc15ab-fca0-47fc-b2a8-1d90280898ac",
   "metadata": {},
   "source": [
    "## 1. Create a model that includes only age, fare, and pclass. Does this model perform better than your baseline?"
   ]
  },
  {
   "cell_type": "code",
   "execution_count": 3,
   "id": "3d243f6e-f5c1-4f11-b87a-6fcc14d31a64",
   "metadata": {},
   "outputs": [],
   "source": [
    "cols_to_keep = ['survived', 'age', 'fare', 'pclass']"
   ]
  },
  {
   "cell_type": "code",
   "execution_count": 4,
   "id": "8cb884d5-24a1-4d81-a1c4-000b9ac0720f",
   "metadata": {},
   "outputs": [],
   "source": [
    "working_df = titanic[cols_to_keep]\n",
    "working_df2 = titanic[cols_to_keep]"
   ]
  },
  {
   "cell_type": "code",
   "execution_count": 5,
   "id": "9a071c55-ad87-4d20-a382-dcdda82f23f4",
   "metadata": {},
   "outputs": [],
   "source": [
    "working_df.age = working_df.age.fillna(working_df.age.median())"
   ]
  },
  {
   "cell_type": "code",
   "execution_count": 6,
   "id": "a77aa9f5-da61-48ea-a3c7-0f9afb863d8b",
   "metadata": {},
   "outputs": [],
   "source": [
    "working_df2 = working_df2.dropna(how='any')"
   ]
  },
  {
   "cell_type": "code",
   "execution_count": 7,
   "id": "63f838c7-95f6-442d-bf9b-8fec751c81b6",
   "metadata": {},
   "outputs": [],
   "source": [
    "#Prepare titanic data for processing\n",
    "#titanic = prepare.prep_titanic(titanic)"
   ]
  },
  {
   "cell_type": "code",
   "execution_count": 8,
   "id": "c698fe35-b949-48c5-abce-826de16cac1b",
   "metadata": {},
   "outputs": [],
   "source": [
    "#Split the data into train, validate and test sets\n",
    "train, val, test = prepare.train_validate(working_df, 'survived')"
   ]
  },
  {
   "cell_type": "code",
   "execution_count": 9,
   "id": "f5e20e76-2b9d-4c55-8941-fec354676df5",
   "metadata": {},
   "outputs": [],
   "source": [
    "#Split the data into train, validate and test sets\n",
    "train1, val1, test1 = prepare.train_validate(working_df2, 'survived')"
   ]
  },
  {
   "cell_type": "code",
   "execution_count": 10,
   "id": "bd04a1b7-c3af-46bb-b11e-9d2c513ff032",
   "metadata": {},
   "outputs": [],
   "source": [
    "#Seperate the target columns in each set for input into the algorithm\n",
    "X_train = train.drop(columns='survived')\n",
    "y_train = train.survived\n",
    "\n",
    "X_val = val.drop(columns='survived')\n",
    "y_val = val.survived\n",
    "\n",
    "X_test = test.drop(columns='survived')\n",
    "y_test = test.survived"
   ]
  },
  {
   "cell_type": "code",
   "execution_count": 11,
   "id": "5ed70a57-fb7e-42b1-8078-bf4a870f9357",
   "metadata": {},
   "outputs": [],
   "source": [
    "#Seperate the target columns in each set for input into the algorithm\n",
    "X_train1 = train1.drop(columns='survived')\n",
    "y_train1 = train1.survived\n",
    "\n",
    "X_val1 = val1.drop(columns='survived')\n",
    "y_val1 = val1.survived\n",
    "\n",
    "X_test1 = test1.drop(columns='survived')\n",
    "y_test1 = test1.survived"
   ]
  },
  {
   "cell_type": "code",
   "execution_count": 12,
   "id": "ab3d6378-710a-4f74-8e4a-34cacfc8ab8b",
   "metadata": {},
   "outputs": [
    {
     "data": {
      "text/plain": [
       "0    192\n",
       "1    119\n",
       "Name: survived, dtype: int64"
      ]
     },
     "execution_count": 12,
     "metadata": {},
     "output_type": "execute_result"
    }
   ],
   "source": [
    "#Shows that deceased is our baseline:\n",
    "train.survived.value_counts()"
   ]
  },
  {
   "cell_type": "code",
   "execution_count": 13,
   "id": "583846d5-553f-48cc-898e-5441485f5145",
   "metadata": {},
   "outputs": [
    {
     "data": {
      "text/plain": [
       "0    148\n",
       "1    101\n",
       "Name: survived, dtype: int64"
      ]
     },
     "execution_count": 13,
     "metadata": {},
     "output_type": "execute_result"
    }
   ],
   "source": [
    "#Shows that deceased is our baseline:\n",
    "train1.survived.value_counts()"
   ]
  },
  {
   "cell_type": "code",
   "execution_count": 14,
   "id": "dbad2e32-9aaa-45a8-87aa-7a4421c3ddee",
   "metadata": {},
   "outputs": [],
   "source": [
    "logit = LogisticRegression()"
   ]
  },
  {
   "cell_type": "code",
   "execution_count": 15,
   "id": "5466c29d-939d-40cd-a7e7-e60168405b7e",
   "metadata": {},
   "outputs": [],
   "source": [
    "logit1 = LogisticRegression()"
   ]
  },
  {
   "cell_type": "code",
   "execution_count": 16,
   "id": "cd901f46-2e65-43c6-a89d-7a6fb08d96b0",
   "metadata": {},
   "outputs": [
    {
     "data": {
      "text/plain": [
       "LogisticRegression()"
      ]
     },
     "execution_count": 16,
     "metadata": {},
     "output_type": "execute_result"
    }
   ],
   "source": [
    "logit.fit(X_train, y_train)"
   ]
  },
  {
   "cell_type": "code",
   "execution_count": 17,
   "id": "aca2aad4-eb4c-4d00-873e-14f628ba7586",
   "metadata": {},
   "outputs": [
    {
     "data": {
      "text/plain": [
       "LogisticRegression()"
      ]
     },
     "execution_count": 17,
     "metadata": {},
     "output_type": "execute_result"
    }
   ],
   "source": [
    "logit1.fit(X_train1, y_train1)"
   ]
  },
  {
   "cell_type": "code",
   "execution_count": 18,
   "id": "f72adc10-a3e2-45c3-b478-94bb3c54cd84",
   "metadata": {},
   "outputs": [
    {
     "data": {
      "text/plain": [
       "0.7202572347266881"
      ]
     },
     "execution_count": 18,
     "metadata": {},
     "output_type": "execute_result"
    }
   ],
   "source": [
    "logit.score(X_train, y_train)"
   ]
  },
  {
   "cell_type": "code",
   "execution_count": 19,
   "id": "a16d2dbb-06a3-4958-9405-bf46dbc628c6",
   "metadata": {},
   "outputs": [
    {
     "data": {
      "text/plain": [
       "0.6891025641025641"
      ]
     },
     "execution_count": 19,
     "metadata": {},
     "output_type": "execute_result"
    }
   ],
   "source": [
    "logit.score(X_val, y_val)"
   ]
  },
  {
   "cell_type": "code",
   "execution_count": 20,
   "id": "3033b60a-e84b-46a5-b42e-78f6c4b804b0",
   "metadata": {},
   "outputs": [
    {
     "data": {
      "text/plain": [
       "0.7349397590361446"
      ]
     },
     "execution_count": 20,
     "metadata": {},
     "output_type": "execute_result"
    }
   ],
   "source": [
    "logit1.score(X_train1, y_train1)"
   ]
  },
  {
   "cell_type": "code",
   "execution_count": 21,
   "id": "0ddf6959-b4ad-4e6b-a397-fc4839598bdf",
   "metadata": {},
   "outputs": [
    {
     "data": {
      "text/plain": [
       "0.712"
      ]
     },
     "execution_count": 21,
     "metadata": {},
     "output_type": "execute_result"
    }
   ],
   "source": [
    "logit1.score(X_val1, y_val1)"
   ]
  },
  {
   "cell_type": "code",
   "execution_count": 22,
   "id": "c28addd7-2efb-4ba6-a6e0-bee1425314dc",
   "metadata": {},
   "outputs": [
    {
     "data": {
      "text/plain": [
       "0.617"
      ]
     },
     "execution_count": 22,
     "metadata": {},
     "output_type": "execute_result"
    }
   ],
   "source": [
    "bl_fill_na = round(len(train[train.survived == 0]) / len(train.survived),3)\n",
    "bl_fill_na"
   ]
  },
  {
   "cell_type": "code",
   "execution_count": 23,
   "id": "deaa06ee-f9b3-4200-948c-bc3063235e85",
   "metadata": {},
   "outputs": [
    {
     "data": {
      "text/plain": [
       "0.594"
      ]
     },
     "execution_count": 23,
     "metadata": {},
     "output_type": "execute_result"
    }
   ],
   "source": [
    "bl_drop_na = round(len(train1[train1.survived == 0]) / len(train1.survived),3)\n",
    "bl_drop_na"
   ]
  },
  {
   "cell_type": "code",
   "execution_count": 24,
   "id": "5559cd45-fb90-4028-9e47-792229aab425",
   "metadata": {},
   "outputs": [],
   "source": [
    "y_pred = logit.predict(X_train)\n",
    "y_pred1 = logit1.predict(X_train1)\n"
   ]
  },
  {
   "cell_type": "code",
   "execution_count": 25,
   "id": "547d3d0e-4043-4b1a-90ca-a50498b4d59d",
   "metadata": {},
   "outputs": [
    {
     "data": {
      "text/html": [
       "<div>\n",
       "<style scoped>\n",
       "    .dataframe tbody tr th:only-of-type {\n",
       "        vertical-align: middle;\n",
       "    }\n",
       "\n",
       "    .dataframe tbody tr th {\n",
       "        vertical-align: top;\n",
       "    }\n",
       "\n",
       "    .dataframe thead th {\n",
       "        text-align: right;\n",
       "    }\n",
       "</style>\n",
       "<table border=\"1\" class=\"dataframe\">\n",
       "  <thead>\n",
       "    <tr style=\"text-align: right;\">\n",
       "      <th></th>\n",
       "      <th>Act_live</th>\n",
       "      <th>Act_death</th>\n",
       "    </tr>\n",
       "  </thead>\n",
       "  <tbody>\n",
       "    <tr>\n",
       "      <th>Pred_live</th>\n",
       "      <td>172</td>\n",
       "      <td>20</td>\n",
       "    </tr>\n",
       "    <tr>\n",
       "      <th>Pred_death</th>\n",
       "      <td>67</td>\n",
       "      <td>52</td>\n",
       "    </tr>\n",
       "  </tbody>\n",
       "</table>\n",
       "</div>"
      ],
      "text/plain": [
       "            Act_live  Act_death\n",
       "Pred_live        172         20\n",
       "Pred_death        67         52"
      ]
     },
     "execution_count": 25,
     "metadata": {},
     "output_type": "execute_result"
    }
   ],
   "source": [
    "pd.DataFrame(confusion_matrix(y_train, y_pred), index=['Pred_live', 'Pred_death'], columns=['Act_live','Act_death'])"
   ]
  },
  {
   "cell_type": "code",
   "execution_count": 26,
   "id": "b3f6b0d9-a540-49e2-85f1-9c408a877408",
   "metadata": {},
   "outputs": [
    {
     "data": {
      "text/html": [
       "<div>\n",
       "<style scoped>\n",
       "    .dataframe tbody tr th:only-of-type {\n",
       "        vertical-align: middle;\n",
       "    }\n",
       "\n",
       "    .dataframe tbody tr th {\n",
       "        vertical-align: top;\n",
       "    }\n",
       "\n",
       "    .dataframe thead th {\n",
       "        text-align: right;\n",
       "    }\n",
       "</style>\n",
       "<table border=\"1\" class=\"dataframe\">\n",
       "  <thead>\n",
       "    <tr style=\"text-align: right;\">\n",
       "      <th></th>\n",
       "      <th>Act_live</th>\n",
       "      <th>Act_death</th>\n",
       "    </tr>\n",
       "  </thead>\n",
       "  <tbody>\n",
       "    <tr>\n",
       "      <th>Pred_live</th>\n",
       "      <td>125</td>\n",
       "      <td>23</td>\n",
       "    </tr>\n",
       "    <tr>\n",
       "      <th>Pred_death</th>\n",
       "      <td>43</td>\n",
       "      <td>58</td>\n",
       "    </tr>\n",
       "  </tbody>\n",
       "</table>\n",
       "</div>"
      ],
      "text/plain": [
       "            Act_live  Act_death\n",
       "Pred_live        125         23\n",
       "Pred_death        43         58"
      ]
     },
     "execution_count": 26,
     "metadata": {},
     "output_type": "execute_result"
    }
   ],
   "source": [
    "pd.DataFrame(confusion_matrix(y_train1, y_pred1), index=['Pred_live', 'Pred_death'], columns=['Act_live','Act_death'])"
   ]
  },
  {
   "cell_type": "code",
   "execution_count": 27,
   "id": "d7f80fc9-f951-4713-b84c-9e6fe5eea577",
   "metadata": {},
   "outputs": [
    {
     "name": "stdout",
     "output_type": "stream",
     "text": [
      "              precision    recall  f1-score   support\n",
      "\n",
      "           0       0.72      0.90      0.80       192\n",
      "           1       0.72      0.44      0.54       119\n",
      "\n",
      "    accuracy                           0.72       311\n",
      "   macro avg       0.72      0.67      0.67       311\n",
      "weighted avg       0.72      0.72      0.70       311\n",
      "\n"
     ]
    }
   ],
   "source": [
    "print(classification_report(y_train, y_pred))"
   ]
  },
  {
   "cell_type": "code",
   "execution_count": 28,
   "id": "b9f1ad05-a7b7-42fc-ac0a-2e4394569d4a",
   "metadata": {},
   "outputs": [
    {
     "name": "stdout",
     "output_type": "stream",
     "text": [
      "              precision    recall  f1-score   support\n",
      "\n",
      "           0       0.74      0.84      0.79       148\n",
      "           1       0.72      0.57      0.64       101\n",
      "\n",
      "    accuracy                           0.73       249\n",
      "   macro avg       0.73      0.71      0.71       249\n",
      "weighted avg       0.73      0.73      0.73       249\n",
      "\n"
     ]
    }
   ],
   "source": [
    "print(classification_report(y_train1, y_pred1))"
   ]
  },
  {
   "cell_type": "markdown",
   "id": "d06b2a32-a88b-4ea1-ad1e-a5a123269eab",
   "metadata": {
    "tags": []
   },
   "source": [
    "## 2. Include sex in your model as well. Note that you'll need to encode or create a dummy variable of this feature before including it in a model."
   ]
  },
  {
   "cell_type": "code",
   "execution_count": 29,
   "id": "01a1242e-b256-4ba8-bc11-efa575b0da5a",
   "metadata": {},
   "outputs": [],
   "source": [
    "cols_to_keep = ['sex','survived', 'age', 'fare', 'pclass']\n",
    "with_sex = titanic[cols_to_keep]\n",
    "with_sex1 = titanic[cols_to_keep]"
   ]
  },
  {
   "cell_type": "code",
   "execution_count": 30,
   "id": "642a396d-d388-41a0-a171-320837c1876c",
   "metadata": {},
   "outputs": [],
   "source": [
    "with_sex.age = with_sex.age.fillna(with_sex.age.median())"
   ]
  },
  {
   "cell_type": "code",
   "execution_count": 31,
   "id": "a9cf2891-7ba1-4755-b18d-d05d9b78b4b7",
   "metadata": {},
   "outputs": [
    {
     "data": {
      "text/plain": [
       "male      577\n",
       "female    314\n",
       "Name: sex, dtype: int64"
      ]
     },
     "execution_count": 31,
     "metadata": {},
     "output_type": "execute_result"
    }
   ],
   "source": [
    "with_sex.sex.value_counts()"
   ]
  },
  {
   "cell_type": "code",
   "execution_count": 32,
   "id": "f11973d5-ac46-4898-9cd8-bcd61dd7f776",
   "metadata": {},
   "outputs": [],
   "source": [
    "dummy_df = pd.get_dummies(with_sex[['sex']], drop_first=True)"
   ]
  },
  {
   "cell_type": "code",
   "execution_count": 33,
   "id": "131b3e1d-b534-44c7-8128-b3fb59a89198",
   "metadata": {},
   "outputs": [],
   "source": [
    "with_sex = pd.concat([with_sex, dummy_df], axis=1)"
   ]
  },
  {
   "cell_type": "code",
   "execution_count": 34,
   "id": "49747f51-2db7-4735-ac30-801b7d46b96f",
   "metadata": {},
   "outputs": [],
   "source": [
    "with_sex1 = with_sex1.dropna(how='any')"
   ]
  },
  {
   "cell_type": "code",
   "execution_count": 35,
   "id": "0fd26bfd-352c-40c2-89ab-47c376030935",
   "metadata": {
    "tags": []
   },
   "outputs": [
    {
     "data": {
      "text/plain": [
       "male      453\n",
       "female    261\n",
       "Name: sex, dtype: int64"
      ]
     },
     "execution_count": 35,
     "metadata": {},
     "output_type": "execute_result"
    }
   ],
   "source": [
    "with_sex1.sex.value_counts()"
   ]
  },
  {
   "cell_type": "code",
   "execution_count": 36,
   "id": "c2afcda8-360f-4a0c-a3df-283e2beb5335",
   "metadata": {},
   "outputs": [],
   "source": [
    "dummy_df1 = pd.get_dummies(with_sex1[['sex']], drop_first=True)"
   ]
  },
  {
   "cell_type": "code",
   "execution_count": 37,
   "id": "7e85b08d-cc80-41e3-8c51-3904d5783b7c",
   "metadata": {},
   "outputs": [],
   "source": [
    "with_sex1 = pd.concat([with_sex1, dummy_df1], axis=1)"
   ]
  },
  {
   "cell_type": "code",
   "execution_count": 38,
   "id": "3961e495-3c46-4c02-9207-9ee86d44d164",
   "metadata": {
    "tags": []
   },
   "outputs": [],
   "source": [
    "with_sex = with_sex.drop(columns='sex')"
   ]
  },
  {
   "cell_type": "code",
   "execution_count": 39,
   "id": "d2317477-464b-4474-b572-43fe9c74c951",
   "metadata": {},
   "outputs": [],
   "source": [
    "with_sex1 = with_sex1.drop(columns='sex')"
   ]
  },
  {
   "cell_type": "code",
   "execution_count": 40,
   "id": "c1ef6af6-94f1-4817-8817-eefd1515ca6d",
   "metadata": {},
   "outputs": [],
   "source": [
    "#Split the data into train, validate and test sets\n",
    "train2, val2, test2 = prepare.train_validate(with_sex, 'survived')"
   ]
  },
  {
   "cell_type": "code",
   "execution_count": 41,
   "id": "8836a2cb-5c56-4f55-970b-a94d2c21b033",
   "metadata": {},
   "outputs": [],
   "source": [
    "#Split the data into train, validate and test sets\n",
    "train3, val3, test3 = prepare.train_validate(with_sex1, 'survived')"
   ]
  },
  {
   "cell_type": "code",
   "execution_count": 42,
   "id": "53924823-b878-4b1e-9f41-cedccf5f6b7e",
   "metadata": {},
   "outputs": [],
   "source": [
    "#Seperate the target columns in each set for input into the algorithm\n",
    "#Instead of creating a new training set, you could just access the X_train via DataFrame X_train['sex','survived', 'age', 'fare', 'pclass'].\n",
    "\n",
    "X_train2 = train2.drop(columns='survived')\n",
    "y_train2 = train2.survived\n",
    "\n",
    "X_val2 = val2.drop(columns='survived')\n",
    "y_val2 = val2.survived\n",
    "\n",
    "X_test2 = test2.drop(columns='survived')\n",
    "y_test2 = test2.survived"
   ]
  },
  {
   "cell_type": "code",
   "execution_count": 43,
   "id": "9dbac36e-9580-4a54-8e1a-d9dadc4f4100",
   "metadata": {},
   "outputs": [],
   "source": [
    "#Seperate the target columns in each set for input into the algorithm\n",
    "X_train3 = train3.drop(columns='survived')\n",
    "y_train3 = train3.survived\n",
    "\n",
    "X_val3 = val3.drop(columns='survived')\n",
    "y_val3 = val3.survived\n",
    "\n",
    "X_test3 = test3.drop(columns='survived')\n",
    "y_test3 = test3.survived"
   ]
  },
  {
   "cell_type": "code",
   "execution_count": 44,
   "id": "5e6a3f2d-3766-47f4-bf52-3e80a6629102",
   "metadata": {},
   "outputs": [],
   "source": [
    "logit2 = LogisticRegression()"
   ]
  },
  {
   "cell_type": "code",
   "execution_count": 45,
   "id": "fb81f687-56ed-404b-a711-0c26a68c9903",
   "metadata": {},
   "outputs": [],
   "source": [
    "logit3 = LogisticRegression()"
   ]
  },
  {
   "cell_type": "code",
   "execution_count": 46,
   "id": "471e66f0-d1f2-4f8a-bbcd-b27768735132",
   "metadata": {},
   "outputs": [
    {
     "data": {
      "text/plain": [
       "LogisticRegression()"
      ]
     },
     "execution_count": 46,
     "metadata": {},
     "output_type": "execute_result"
    }
   ],
   "source": [
    "logit2.fit(X_train2, y_train2)"
   ]
  },
  {
   "cell_type": "code",
   "execution_count": 47,
   "id": "d9a8e021-afe5-4fde-a37d-2257084ff23c",
   "metadata": {},
   "outputs": [
    {
     "data": {
      "text/plain": [
       "LogisticRegression()"
      ]
     },
     "execution_count": 47,
     "metadata": {},
     "output_type": "execute_result"
    }
   ],
   "source": [
    "logit3.fit(X_train3, y_train3)"
   ]
  },
  {
   "cell_type": "code",
   "execution_count": 48,
   "id": "84963b18-a899-4c9e-a2be-554094546e07",
   "metadata": {},
   "outputs": [
    {
     "data": {
      "text/plain": [
       "0.8135048231511254"
      ]
     },
     "execution_count": 48,
     "metadata": {},
     "output_type": "execute_result"
    }
   ],
   "source": [
    "logit2.score(X_train2, y_train2)"
   ]
  },
  {
   "cell_type": "code",
   "execution_count": 49,
   "id": "9e041a13-4be1-43ac-a8e7-c13b5abfe548",
   "metadata": {},
   "outputs": [
    {
     "data": {
      "text/plain": [
       "0.8205128205128205"
      ]
     },
     "execution_count": 49,
     "metadata": {},
     "output_type": "execute_result"
    }
   ],
   "source": [
    "logit2.score(X_val2, y_val2)"
   ]
  },
  {
   "cell_type": "code",
   "execution_count": 50,
   "id": "b0b8d54d-ac4d-40a0-a1e8-ed6a6988d6e2",
   "metadata": {},
   "outputs": [
    {
     "data": {
      "text/plain": [
       "0.8112449799196787"
      ]
     },
     "execution_count": 50,
     "metadata": {},
     "output_type": "execute_result"
    }
   ],
   "source": [
    "logit3.score(X_train3, y_train3)"
   ]
  },
  {
   "cell_type": "code",
   "execution_count": 51,
   "id": "0e050409-9b42-48aa-a84c-4744063b287a",
   "metadata": {},
   "outputs": [
    {
     "data": {
      "text/plain": [
       "0.808"
      ]
     },
     "execution_count": 51,
     "metadata": {},
     "output_type": "execute_result"
    }
   ],
   "source": [
    "logit3.score(X_val3, y_val3)"
   ]
  },
  {
   "cell_type": "code",
   "execution_count": 52,
   "id": "bc3d2f37-883b-4856-8f27-3adec6add1b1",
   "metadata": {},
   "outputs": [],
   "source": [
    "y_pred2 = logit2.predict(X_train2)\n",
    "y_pred3 = logit3.predict(X_train3)"
   ]
  },
  {
   "cell_type": "code",
   "execution_count": 53,
   "id": "16dada5b-6104-4aa8-874f-4676e10faf7a",
   "metadata": {},
   "outputs": [
    {
     "data": {
      "text/html": [
       "<div>\n",
       "<style scoped>\n",
       "    .dataframe tbody tr th:only-of-type {\n",
       "        vertical-align: middle;\n",
       "    }\n",
       "\n",
       "    .dataframe tbody tr th {\n",
       "        vertical-align: top;\n",
       "    }\n",
       "\n",
       "    .dataframe thead th {\n",
       "        text-align: right;\n",
       "    }\n",
       "</style>\n",
       "<table border=\"1\" class=\"dataframe\">\n",
       "  <thead>\n",
       "    <tr style=\"text-align: right;\">\n",
       "      <th></th>\n",
       "      <th>Act_live</th>\n",
       "      <th>Act_death</th>\n",
       "    </tr>\n",
       "  </thead>\n",
       "  <tbody>\n",
       "    <tr>\n",
       "      <th>Pred_live</th>\n",
       "      <td>165</td>\n",
       "      <td>27</td>\n",
       "    </tr>\n",
       "    <tr>\n",
       "      <th>Pred_death</th>\n",
       "      <td>31</td>\n",
       "      <td>88</td>\n",
       "    </tr>\n",
       "  </tbody>\n",
       "</table>\n",
       "</div>"
      ],
      "text/plain": [
       "            Act_live  Act_death\n",
       "Pred_live        165         27\n",
       "Pred_death        31         88"
      ]
     },
     "execution_count": 53,
     "metadata": {},
     "output_type": "execute_result"
    }
   ],
   "source": [
    "pd.DataFrame(confusion_matrix(y_train2, y_pred2), index=['Pred_live', 'Pred_death'], columns=['Act_live','Act_death'])"
   ]
  },
  {
   "cell_type": "code",
   "execution_count": 54,
   "id": "28c7234c-75e0-4a72-b407-f7028ed91655",
   "metadata": {},
   "outputs": [
    {
     "data": {
      "text/html": [
       "<div>\n",
       "<style scoped>\n",
       "    .dataframe tbody tr th:only-of-type {\n",
       "        vertical-align: middle;\n",
       "    }\n",
       "\n",
       "    .dataframe tbody tr th {\n",
       "        vertical-align: top;\n",
       "    }\n",
       "\n",
       "    .dataframe thead th {\n",
       "        text-align: right;\n",
       "    }\n",
       "</style>\n",
       "<table border=\"1\" class=\"dataframe\">\n",
       "  <thead>\n",
       "    <tr style=\"text-align: right;\">\n",
       "      <th></th>\n",
       "      <th>Act_live</th>\n",
       "      <th>Act_death</th>\n",
       "    </tr>\n",
       "  </thead>\n",
       "  <tbody>\n",
       "    <tr>\n",
       "      <th>Pred_live</th>\n",
       "      <td>127</td>\n",
       "      <td>21</td>\n",
       "    </tr>\n",
       "    <tr>\n",
       "      <th>Pred_death</th>\n",
       "      <td>26</td>\n",
       "      <td>75</td>\n",
       "    </tr>\n",
       "  </tbody>\n",
       "</table>\n",
       "</div>"
      ],
      "text/plain": [
       "            Act_live  Act_death\n",
       "Pred_live        127         21\n",
       "Pred_death        26         75"
      ]
     },
     "execution_count": 54,
     "metadata": {},
     "output_type": "execute_result"
    }
   ],
   "source": [
    "pd.DataFrame(confusion_matrix(y_train3, y_pred3), index=['Pred_live', 'Pred_death'], columns=['Act_live','Act_death'])"
   ]
  },
  {
   "cell_type": "code",
   "execution_count": 55,
   "id": "e3c27a34-3c80-4267-b6be-e6bcb74b0ff1",
   "metadata": {},
   "outputs": [
    {
     "name": "stdout",
     "output_type": "stream",
     "text": [
      "              precision    recall  f1-score   support\n",
      "\n",
      "           0       0.84      0.86      0.85       192\n",
      "           1       0.77      0.74      0.75       119\n",
      "\n",
      "    accuracy                           0.81       311\n",
      "   macro avg       0.80      0.80      0.80       311\n",
      "weighted avg       0.81      0.81      0.81       311\n",
      "\n"
     ]
    }
   ],
   "source": [
    "print(classification_report(y_train2, y_pred2))"
   ]
  },
  {
   "cell_type": "code",
   "execution_count": 56,
   "id": "665e8ade-8e4e-4180-b425-14e41ff8009c",
   "metadata": {},
   "outputs": [
    {
     "name": "stdout",
     "output_type": "stream",
     "text": [
      "              precision    recall  f1-score   support\n",
      "\n",
      "           0       0.83      0.86      0.84       148\n",
      "           1       0.78      0.74      0.76       101\n",
      "\n",
      "    accuracy                           0.81       249\n",
      "   macro avg       0.81      0.80      0.80       249\n",
      "weighted avg       0.81      0.81      0.81       249\n",
      "\n"
     ]
    }
   ],
   "source": [
    "print(classification_report(y_train3, y_pred3))"
   ]
  },
  {
   "cell_type": "code",
   "execution_count": null,
   "id": "03c11bd5-3ce7-48a0-933e-9edd617a8e6f",
   "metadata": {},
   "outputs": [],
   "source": []
  },
  {
   "cell_type": "markdown",
   "id": "86828ac0-b401-4d1d-a2eb-8a7193fb3ff3",
   "metadata": {},
   "source": [
    "## 3. Try out other combinations of features and models."
   ]
  },
  {
   "cell_type": "code",
   "execution_count": 57,
   "id": "4a28e6af-8a20-4ed5-9b76-fa2a384de1dd",
   "metadata": {},
   "outputs": [
    {
     "data": {
      "text/html": [
       "<div>\n",
       "<style scoped>\n",
       "    .dataframe tbody tr th:only-of-type {\n",
       "        vertical-align: middle;\n",
       "    }\n",
       "\n",
       "    .dataframe tbody tr th {\n",
       "        vertical-align: top;\n",
       "    }\n",
       "\n",
       "    .dataframe thead th {\n",
       "        text-align: right;\n",
       "    }\n",
       "</style>\n",
       "<table border=\"1\" class=\"dataframe\">\n",
       "  <thead>\n",
       "    <tr style=\"text-align: right;\">\n",
       "      <th></th>\n",
       "      <th>passenger_id</th>\n",
       "      <th>survived</th>\n",
       "      <th>pclass</th>\n",
       "      <th>sex</th>\n",
       "      <th>age</th>\n",
       "      <th>sibsp</th>\n",
       "      <th>parch</th>\n",
       "      <th>fare</th>\n",
       "      <th>embarked</th>\n",
       "      <th>class</th>\n",
       "      <th>deck</th>\n",
       "      <th>embark_town</th>\n",
       "      <th>alone</th>\n",
       "    </tr>\n",
       "  </thead>\n",
       "  <tbody>\n",
       "    <tr>\n",
       "      <th>0</th>\n",
       "      <td>0</td>\n",
       "      <td>0</td>\n",
       "      <td>3</td>\n",
       "      <td>male</td>\n",
       "      <td>22.0</td>\n",
       "      <td>1</td>\n",
       "      <td>0</td>\n",
       "      <td>7.2500</td>\n",
       "      <td>S</td>\n",
       "      <td>Third</td>\n",
       "      <td>NaN</td>\n",
       "      <td>Southampton</td>\n",
       "      <td>0</td>\n",
       "    </tr>\n",
       "    <tr>\n",
       "      <th>1</th>\n",
       "      <td>1</td>\n",
       "      <td>1</td>\n",
       "      <td>1</td>\n",
       "      <td>female</td>\n",
       "      <td>38.0</td>\n",
       "      <td>1</td>\n",
       "      <td>0</td>\n",
       "      <td>71.2833</td>\n",
       "      <td>C</td>\n",
       "      <td>First</td>\n",
       "      <td>C</td>\n",
       "      <td>Cherbourg</td>\n",
       "      <td>0</td>\n",
       "    </tr>\n",
       "    <tr>\n",
       "      <th>2</th>\n",
       "      <td>2</td>\n",
       "      <td>1</td>\n",
       "      <td>3</td>\n",
       "      <td>female</td>\n",
       "      <td>26.0</td>\n",
       "      <td>0</td>\n",
       "      <td>0</td>\n",
       "      <td>7.9250</td>\n",
       "      <td>S</td>\n",
       "      <td>Third</td>\n",
       "      <td>NaN</td>\n",
       "      <td>Southampton</td>\n",
       "      <td>1</td>\n",
       "    </tr>\n",
       "    <tr>\n",
       "      <th>3</th>\n",
       "      <td>3</td>\n",
       "      <td>1</td>\n",
       "      <td>1</td>\n",
       "      <td>female</td>\n",
       "      <td>35.0</td>\n",
       "      <td>1</td>\n",
       "      <td>0</td>\n",
       "      <td>53.1000</td>\n",
       "      <td>S</td>\n",
       "      <td>First</td>\n",
       "      <td>C</td>\n",
       "      <td>Southampton</td>\n",
       "      <td>0</td>\n",
       "    </tr>\n",
       "    <tr>\n",
       "      <th>4</th>\n",
       "      <td>4</td>\n",
       "      <td>0</td>\n",
       "      <td>3</td>\n",
       "      <td>male</td>\n",
       "      <td>35.0</td>\n",
       "      <td>0</td>\n",
       "      <td>0</td>\n",
       "      <td>8.0500</td>\n",
       "      <td>S</td>\n",
       "      <td>Third</td>\n",
       "      <td>NaN</td>\n",
       "      <td>Southampton</td>\n",
       "      <td>1</td>\n",
       "    </tr>\n",
       "  </tbody>\n",
       "</table>\n",
       "</div>"
      ],
      "text/plain": [
       "   passenger_id  survived  pclass     sex   age  sibsp  parch     fare  \\\n",
       "0             0         0       3    male  22.0      1      0   7.2500   \n",
       "1             1         1       1  female  38.0      1      0  71.2833   \n",
       "2             2         1       3  female  26.0      0      0   7.9250   \n",
       "3             3         1       1  female  35.0      1      0  53.1000   \n",
       "4             4         0       3    male  35.0      0      0   8.0500   \n",
       "\n",
       "  embarked  class deck  embark_town  alone  \n",
       "0        S  Third  NaN  Southampton      0  \n",
       "1        C  First    C    Cherbourg      0  \n",
       "2        S  Third  NaN  Southampton      1  \n",
       "3        S  First    C  Southampton      0  \n",
       "4        S  Third  NaN  Southampton      1  "
      ]
     },
     "execution_count": 57,
     "metadata": {},
     "output_type": "execute_result"
    }
   ],
   "source": [
    "titanic.head()"
   ]
  },
  {
   "cell_type": "code",
   "execution_count": 58,
   "id": "b81b2755-e792-408a-bb6a-e4752847e9c0",
   "metadata": {
    "tags": []
   },
   "outputs": [
    {
     "name": "stdout",
     "output_type": "stream",
     "text": [
      "Train score: 0.8135048231511254\n",
      "Validate score: 0.8076923076923077\n",
      "            Act_live  Act_death\n",
      "Pred_live        168         24\n",
      "Pred_death        34         85\n",
      "-----------------------------------------------\n",
      "              precision    recall  f1-score   support\n",
      "\n",
      "           0       0.83      0.88      0.85       192\n",
      "           1       0.78      0.71      0.75       119\n",
      "\n",
      "    accuracy                           0.81       311\n",
      "   macro avg       0.81      0.79      0.80       311\n",
      "weighted avg       0.81      0.81      0.81       311\n",
      "\n"
     ]
    }
   ],
   "source": [
    "cols_to_keep = ['sex','survived', 'age', 'fare', 'pclass', 'embark_town']\n",
    "new_df = titanic[cols_to_keep]\n",
    "\n",
    "new_df.age = new_df.age.fillna(new_df.age.median())\n",
    "\n",
    "new_df.sex.value_counts()\n",
    "\n",
    "dummy_df = pd.get_dummies(new_df[['sex', 'embark_town']], drop_first=True)\n",
    "\n",
    "new_df = pd.concat([new_df, dummy_df], axis=1)\n",
    "\n",
    "new_df = new_df.drop(columns=['sex', 'embark_town'])\n",
    "\n",
    "#Split the data into train, validate and test sets\n",
    "train4, val4, test4 = prepare.train_validate(new_df, 'survived')\n",
    "\n",
    "#Seperate the target columns in each set for input into the algorithm\n",
    "X_train4 = train4.drop(columns='survived')\n",
    "y_train4 = train4.survived\n",
    "\n",
    "X_val4 = val4.drop(columns='survived')\n",
    "y_val4 = val4.survived\n",
    "\n",
    "X_test4 = test4.drop(columns='survived')\n",
    "y_test4 = test4.survived\n",
    "\n",
    "logit4 = LogisticRegression()\n",
    "\n",
    "logit4.fit(X_train4, y_train4)\n",
    "\n",
    "print(f'Train score: {logit4.score(X_train4, y_train4)}')\n",
    "\n",
    "print(f'Validate score: {logit4.score(X_val4, y_val4)}')\n",
    "\n",
    "y_pred4 = logit4.predict(X_train4)\n",
    "\n",
    "print(pd.DataFrame(confusion_matrix(y_train4, y_pred4), index=['Pred_live', 'Pred_death'], columns=['Act_live','Act_death']))\n",
    "print(\"-----------------------------------------------\")\n",
    "print(classification_report(y_train4, y_pred4))"
   ]
  },
  {
   "cell_type": "markdown",
   "id": "f8019b99-ceba-4355-982c-18f273e8842a",
   "metadata": {},
   "source": [
    "## 4. Use you best 3 models to predict and evaluate on your validate sample."
   ]
  },
  {
   "cell_type": "code",
   "execution_count": 59,
   "id": "b5609c83-2670-4df6-821e-ce887a7dca73",
   "metadata": {},
   "outputs": [
    {
     "name": "stdout",
     "output_type": "stream",
     "text": [
      "Model 0 validate score: 0.689\n",
      "Model 1 validate score: 0.712\n",
      "Model 2 validate score: 0.821\n",
      "Model 3 validate score: 0.808\n",
      "Model 4 validate score: 0.808\n"
     ]
    }
   ],
   "source": [
    "print(f'Model 0 validate score: {logit.score(X_val, y_val):.3f}')\n",
    "print(f'Model 1 validate score: {logit1.score(X_val1, y_val1):.3f}')\n",
    "print(f'Model 2 validate score: {logit2.score(X_val2, y_val2):.3f}')\n",
    "print(f'Model 3 validate score: {logit3.score(X_val3, y_val3):.3f}')\n",
    "print(f'Model 4 validate score: {logit4.score(X_val4, y_val4):.3f}')\n"
   ]
  },
  {
   "cell_type": "markdown",
   "id": "2dcf4398-e12d-47c9-8eba-a2d7fc970566",
   "metadata": {},
   "source": [
    "## 5. Choose you best model from the validation performation, and evaluate it on the test dataset. How do the performance metrics compare to validate? to train?"
   ]
  },
  {
   "cell_type": "code",
   "execution_count": 60,
   "id": "10068646-20d9-4a92-ab12-32a4acfbe45f",
   "metadata": {},
   "outputs": [
    {
     "name": "stdout",
     "output_type": "stream",
     "text": [
      "Model 2 test score: 0.735\n"
     ]
    }
   ],
   "source": [
    "print(f'Model 2 test score: {logit2.score(X_test2, y_test2):.3f}')"
   ]
  },
  {
   "cell_type": "markdown",
   "id": "2b5f4b06-cb1e-4a61-a754-3359d04e1ee5",
   "metadata": {},
   "source": [
    "## Bonus1 How do different strategies for handling the missing values in the age column affect model performance?"
   ]
  },
  {
   "cell_type": "code",
   "execution_count": 61,
   "id": "6b124560-2ba3-4d7d-9de8-0a3d5cee5bce",
   "metadata": {},
   "outputs": [
    {
     "name": "stdout",
     "output_type": "stream",
     "text": [
      "These models used median age to fill NAs:\n",
      "Model 0 test score:     0.698\n",
      "Model 0 validate score: 0.689\n",
      "------------------------------------\n",
      "Model 2 test score:     0.735\n",
      "Model 2 validate score: 0.821\n",
      "====================================\n",
      "These models dropped age rows with NAs:\n",
      "Model 1 test score:     0.674\n",
      "Model 1 validate score: 0.712\n",
      "------------------------------------\n",
      "Model 3 test score:     0.795\n",
      "Model 3 validate score: 0.808\n"
     ]
    }
   ],
   "source": [
    "print('These models used median age to fill NAs:')\n",
    "print(f'Model 0 test score:     {logit.score(X_test, y_test):.3f}')\n",
    "print(f'Model 0 validate score: {logit.score(X_val, y_val):.3f}')\n",
    "print('------------------------------------')\n",
    "print(f'Model 2 test score:     {logit2.score(X_test2, y_test2):.3f}')\n",
    "print(f'Model 2 validate score: {logit2.score(X_val2, y_val2):.3f}')\n",
    "print('====================================')\n",
    "print('These models dropped age rows with NAs:')\n",
    "print(f'Model 1 test score:     {logit1.score(X_test1, y_test1):.3f}')\n",
    "print(f'Model 1 validate score: {logit1.score(X_val1, y_val1):.3f}')\n",
    "print('------------------------------------')\n",
    "print(f'Model 3 test score:     {logit3.score(X_test3, y_test3):.3f}')\n",
    "print(f'Model 3 validate score: {logit3.score(X_val3, y_val3):.3f}')"
   ]
  },
  {
   "cell_type": "markdown",
   "id": "3bb4aa10-3f0c-496d-8c67-7fcd55451eac",
   "metadata": {},
   "source": [
    "## Bonus2: How do different strategies for encoding sex affect model performance?"
   ]
  },
  {
   "cell_type": "markdown",
   "id": "632a4a73-27de-45e3-ae3d-339e21012836",
   "metadata": {},
   "source": [
    "## Bonus3: scikit-learn's LogisticRegression classifier is actually applying a regularization penalty to the coefficients by default. "
   ]
  },
  {
   "cell_type": "markdown",
   "id": "2f543a22-5be8-4e7b-9a34-91ead9a1e7ee",
   "metadata": {},
   "source": [
    "This penalty causes the magnitude of the coefficients in the resulting model to be smaller than they otherwise would be. This value can be modified with the C hyper parameter. Small values of C correspond to a larger penalty, and large values of C correspond to a smaller penalty.\n",
    "Try out the following values for C and note how the coefficients and the model's performance on both the dataset it was trained on and on the validate split are affected.\n",
    "\n",
    "C= .01, .1, 1, 10, 100, 1000"
   ]
  },
  {
   "cell_type": "markdown",
   "id": "b3136249-5e15-4b4d-ba57-4e76d1ae0137",
   "metadata": {},
   "source": [
    "## Bonus Bonus: how does scaling the data interact with your choice of C?"
   ]
  },
  {
   "cell_type": "code",
   "execution_count": null,
   "id": "e57ef3ca-09e4-43ed-baca-6c1a8836dd2b",
   "metadata": {},
   "outputs": [],
   "source": []
  }
 ],
 "metadata": {
  "kernelspec": {
   "display_name": "Python 3 (ipykernel)",
   "language": "python",
   "name": "python3"
  },
  "language_info": {
   "codemirror_mode": {
    "name": "ipython",
    "version": 3
   },
   "file_extension": ".py",
   "mimetype": "text/x-python",
   "name": "python",
   "nbconvert_exporter": "python",
   "pygments_lexer": "ipython3",
   "version": "3.9.15"
  }
 },
 "nbformat": 4,
 "nbformat_minor": 5
}
