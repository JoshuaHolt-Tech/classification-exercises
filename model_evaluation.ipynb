{
 "cells": [
  {
   "cell_type": "code",
   "execution_count": 1,
   "id": "3c161196-96fa-4db3-8ad6-2803856e725c",
   "metadata": {},
   "outputs": [],
   "source": [
    "import pandas as pd\n",
    "import numpy as np\n",
    "from scipy import stats\n",
    "import seaborn as sns\n",
    "import matplotlib.pyplot as plt"
   ]
  },
  {
   "cell_type": "markdown",
   "id": "b33982ea-e2e9-4580-86f5-4bc9b11b66fa",
   "metadata": {},
   "source": [
    "### 1. model_evaluation Exercises:"
   ]
  },
  {
   "cell_type": "markdown",
   "id": "5d877f68-c69b-4d9d-8e9e-1aa94d0de956",
   "metadata": {
    "jp-MarkdownHeadingCollapsed": true,
    "tags": []
   },
   "source": [
    "### 2."
   ]
  },
  {
   "cell_type": "markdown",
   "id": "8a551035-8880-4ac3-b5d6-76d64d9c5d9f",
   "metadata": {},
   "source": [
    "|               | pred dog   | pred cat   |\n",
    "|:------------  |-----------:|-----------:|\n",
    "| actual dog    |         46 |         7  |\n",
    "| actual cat    |         13 |         34 |\n"
   ]
  },
  {
   "cell_type": "markdown",
   "id": "5a9ae900-b9c5-4f47-aeb2-10d64e5373bc",
   "metadata": {},
   "source": [
    "**Dog = True**\n",
    "- In the context of this problem, what is a false positive?\n",
    "    - Answer: Predicted Cat but it was actually a dog. Value 7\n",
    "- In the context of this problem, what is a false negative?\n",
    "    - Answer: Predicted Dog but it was actually a cat. Value 13\n",
    "- How would you describe this model?\n",
    "    - Answer: Precision = 87%, Accuracy = 80%, Recall = 78%\n"
   ]
  },
  {
   "cell_type": "markdown",
   "id": "ef73c138-6932-4e31-ab49-f334238d4e5e",
   "metadata": {
    "tags": []
   },
   "source": [
    "### 3. You are working as a datascientist working for Codeup Cody Creator (C3 for short), a rubber-duck manufacturing plant."
   ]
  },
  {
   "cell_type": "markdown",
   "id": "4ee8e739-c22d-45b3-ba6a-a7e5828cce95",
   "metadata": {},
   "source": [
    "Unfortunately, some of the rubber ducks that are produced will have defects. Your team has built several models that try to predict those defects, and the data from their predictions can be found here."
   ]
  },
  {
   "cell_type": "code",
   "execution_count": 2,
   "id": "2139c805-8e04-475d-835a-772d15a898ce",
   "metadata": {
    "tags": []
   },
   "outputs": [],
   "source": [
    "cody = pd.read_csv('c3.csv')"
   ]
  },
  {
   "cell_type": "code",
   "execution_count": 3,
   "id": "d86e321f-7a19-4fc9-ac26-8635942c3fa5",
   "metadata": {},
   "outputs": [
    {
     "data": {
      "text/plain": [
       "No Defect    184\n",
       "Defect        16\n",
       "Name: actual, dtype: int64"
      ]
     },
     "execution_count": 3,
     "metadata": {},
     "output_type": "execute_result"
    }
   ],
   "source": [
    "cody.actual.value_counts()"
   ]
  },
  {
   "cell_type": "code",
   "execution_count": 4,
   "id": "8e212592-1e6e-45ac-b229-24d177f22914",
   "metadata": {},
   "outputs": [],
   "source": [
    "#Changing the data to be a little bit more usable:\n",
    "defect = {'No Defect': False, 'Defect': True}"
   ]
  },
  {
   "cell_type": "code",
   "execution_count": 5,
   "id": "1cf38fce-beb4-4ed7-899c-87dc779f6648",
   "metadata": {},
   "outputs": [],
   "source": [
    "cody.rename(columns={'actual':'actual_defect'}, inplace=True)"
   ]
  },
  {
   "cell_type": "code",
   "execution_count": 6,
   "id": "80cd56e7-86c3-4da7-83c5-45f4c2dea647",
   "metadata": {},
   "outputs": [],
   "source": [
    "cody.actual_defect = cody.actual_defect.map(defect)"
   ]
  },
  {
   "cell_type": "code",
   "execution_count": 7,
   "id": "6da49d12-5c18-4645-82e3-79f1dc3d00d9",
   "metadata": {},
   "outputs": [],
   "source": [
    "cody.model1 = cody.model1.map(defect)"
   ]
  },
  {
   "cell_type": "code",
   "execution_count": 8,
   "id": "5c695494-9633-4016-8151-60b1d9c7396c",
   "metadata": {},
   "outputs": [],
   "source": [
    "cody.model2 = cody.model2.map(defect)"
   ]
  },
  {
   "cell_type": "code",
   "execution_count": 9,
   "id": "2843504a-339c-42ca-937d-47da32d57754",
   "metadata": {},
   "outputs": [],
   "source": [
    "cody.model3 = cody.model3.map(defect)"
   ]
  },
  {
   "cell_type": "code",
   "execution_count": 10,
   "id": "0818cccb-3b19-455e-b26b-e3267a0d3c22",
   "metadata": {},
   "outputs": [
    {
     "data": {
      "text/html": [
       "<div>\n",
       "<style scoped>\n",
       "    .dataframe tbody tr th:only-of-type {\n",
       "        vertical-align: middle;\n",
       "    }\n",
       "\n",
       "    .dataframe tbody tr th {\n",
       "        vertical-align: top;\n",
       "    }\n",
       "\n",
       "    .dataframe thead th {\n",
       "        text-align: right;\n",
       "    }\n",
       "</style>\n",
       "<table border=\"1\" class=\"dataframe\">\n",
       "  <thead>\n",
       "    <tr style=\"text-align: right;\">\n",
       "      <th></th>\n",
       "      <th>actual_defect</th>\n",
       "      <th>model1</th>\n",
       "      <th>model2</th>\n",
       "      <th>model3</th>\n",
       "    </tr>\n",
       "  </thead>\n",
       "  <tbody>\n",
       "    <tr>\n",
       "      <th>0</th>\n",
       "      <td>False</td>\n",
       "      <td>False</td>\n",
       "      <td>True</td>\n",
       "      <td>False</td>\n",
       "    </tr>\n",
       "    <tr>\n",
       "      <th>1</th>\n",
       "      <td>False</td>\n",
       "      <td>False</td>\n",
       "      <td>True</td>\n",
       "      <td>True</td>\n",
       "    </tr>\n",
       "    <tr>\n",
       "      <th>2</th>\n",
       "      <td>False</td>\n",
       "      <td>False</td>\n",
       "      <td>True</td>\n",
       "      <td>False</td>\n",
       "    </tr>\n",
       "    <tr>\n",
       "      <th>3</th>\n",
       "      <td>False</td>\n",
       "      <td>True</td>\n",
       "      <td>True</td>\n",
       "      <td>True</td>\n",
       "    </tr>\n",
       "    <tr>\n",
       "      <th>4</th>\n",
       "      <td>False</td>\n",
       "      <td>False</td>\n",
       "      <td>True</td>\n",
       "      <td>False</td>\n",
       "    </tr>\n",
       "  </tbody>\n",
       "</table>\n",
       "</div>"
      ],
      "text/plain": [
       "   actual_defect  model1  model2  model3\n",
       "0          False   False    True   False\n",
       "1          False   False    True    True\n",
       "2          False   False    True   False\n",
       "3          False    True    True    True\n",
       "4          False   False    True   False"
      ]
     },
     "execution_count": 10,
     "metadata": {},
     "output_type": "execute_result"
    }
   ],
   "source": [
    "#Exploring the data with head and crosstab:\n",
    "cody.head()"
   ]
  },
  {
   "cell_type": "code",
   "execution_count": 11,
   "id": "47a4a697-b001-49c3-92f2-7dd0f6efb7c7",
   "metadata": {},
   "outputs": [
    {
     "data": {
      "text/html": [
       "<div>\n",
       "<style scoped>\n",
       "    .dataframe tbody tr th:only-of-type {\n",
       "        vertical-align: middle;\n",
       "    }\n",
       "\n",
       "    .dataframe tbody tr th {\n",
       "        vertical-align: top;\n",
       "    }\n",
       "\n",
       "    .dataframe thead th {\n",
       "        text-align: right;\n",
       "    }\n",
       "</style>\n",
       "<table border=\"1\" class=\"dataframe\">\n",
       "  <thead>\n",
       "    <tr style=\"text-align: right;\">\n",
       "      <th>model1</th>\n",
       "      <th>False</th>\n",
       "      <th>True</th>\n",
       "    </tr>\n",
       "    <tr>\n",
       "      <th>actual_defect</th>\n",
       "      <th></th>\n",
       "      <th></th>\n",
       "    </tr>\n",
       "  </thead>\n",
       "  <tbody>\n",
       "    <tr>\n",
       "      <th>False</th>\n",
       "      <td>182</td>\n",
       "      <td>2</td>\n",
       "    </tr>\n",
       "    <tr>\n",
       "      <th>True</th>\n",
       "      <td>8</td>\n",
       "      <td>8</td>\n",
       "    </tr>\n",
       "  </tbody>\n",
       "</table>\n",
       "</div>"
      ],
      "text/plain": [
       "model1         False  True\n",
       "actual_defect             \n",
       "False            182     2\n",
       "True               8     8"
      ]
     },
     "execution_count": 11,
     "metadata": {},
     "output_type": "execute_result"
    }
   ],
   "source": [
    "pd.crosstab(cody.actual_defect, cody.model1)"
   ]
  },
  {
   "cell_type": "code",
   "execution_count": 12,
   "id": "dfe0bb01-4b85-4c49-96d1-c5de78e1ba08",
   "metadata": {},
   "outputs": [
    {
     "data": {
      "text/html": [
       "<div>\n",
       "<style scoped>\n",
       "    .dataframe tbody tr th:only-of-type {\n",
       "        vertical-align: middle;\n",
       "    }\n",
       "\n",
       "    .dataframe tbody tr th {\n",
       "        vertical-align: top;\n",
       "    }\n",
       "\n",
       "    .dataframe thead th {\n",
       "        text-align: right;\n",
       "    }\n",
       "</style>\n",
       "<table border=\"1\" class=\"dataframe\">\n",
       "  <thead>\n",
       "    <tr style=\"text-align: right;\">\n",
       "      <th>model2</th>\n",
       "      <th>False</th>\n",
       "      <th>True</th>\n",
       "    </tr>\n",
       "    <tr>\n",
       "      <th>actual_defect</th>\n",
       "      <th></th>\n",
       "      <th></th>\n",
       "    </tr>\n",
       "  </thead>\n",
       "  <tbody>\n",
       "    <tr>\n",
       "      <th>False</th>\n",
       "      <td>103</td>\n",
       "      <td>81</td>\n",
       "    </tr>\n",
       "    <tr>\n",
       "      <th>True</th>\n",
       "      <td>7</td>\n",
       "      <td>9</td>\n",
       "    </tr>\n",
       "  </tbody>\n",
       "</table>\n",
       "</div>"
      ],
      "text/plain": [
       "model2         False  True\n",
       "actual_defect             \n",
       "False            103    81\n",
       "True               7     9"
      ]
     },
     "execution_count": 12,
     "metadata": {},
     "output_type": "execute_result"
    }
   ],
   "source": [
    "pd.crosstab(cody.actual_defect, cody.model2)"
   ]
  },
  {
   "cell_type": "code",
   "execution_count": 13,
   "id": "9e97fdd0-7bac-45b2-ac09-0902d7bc32f1",
   "metadata": {},
   "outputs": [
    {
     "data": {
      "text/html": [
       "<div>\n",
       "<style scoped>\n",
       "    .dataframe tbody tr th:only-of-type {\n",
       "        vertical-align: middle;\n",
       "    }\n",
       "\n",
       "    .dataframe tbody tr th {\n",
       "        vertical-align: top;\n",
       "    }\n",
       "\n",
       "    .dataframe thead th {\n",
       "        text-align: right;\n",
       "    }\n",
       "</style>\n",
       "<table border=\"1\" class=\"dataframe\">\n",
       "  <thead>\n",
       "    <tr style=\"text-align: right;\">\n",
       "      <th>model3</th>\n",
       "      <th>False</th>\n",
       "      <th>True</th>\n",
       "    </tr>\n",
       "    <tr>\n",
       "      <th>actual_defect</th>\n",
       "      <th></th>\n",
       "      <th></th>\n",
       "    </tr>\n",
       "  </thead>\n",
       "  <tbody>\n",
       "    <tr>\n",
       "      <th>False</th>\n",
       "      <td>98</td>\n",
       "      <td>86</td>\n",
       "    </tr>\n",
       "    <tr>\n",
       "      <th>True</th>\n",
       "      <td>3</td>\n",
       "      <td>13</td>\n",
       "    </tr>\n",
       "  </tbody>\n",
       "</table>\n",
       "</div>"
      ],
      "text/plain": [
       "model3         False  True\n",
       "actual_defect             \n",
       "False             98    86\n",
       "True               3    13"
      ]
     },
     "execution_count": 13,
     "metadata": {},
     "output_type": "execute_result"
    }
   ],
   "source": [
    "pd.crosstab(cody.actual_defect, cody.model3)"
   ]
  },
  {
   "cell_type": "code",
   "execution_count": 14,
   "id": "1c8da843-c23f-4e4a-bbf4-cbf838f9b3f1",
   "metadata": {
    "tags": []
   },
   "outputs": [],
   "source": [
    "#Model 1 numbers;\n",
    "model1_TP = cody[(cody.model1 == True) & (cody.actual_defect == True)].actual_defect.agg('count')\n",
    "model1_FP = cody[(cody.model1 == True) & (cody.actual_defect == False)].actual_defect.agg('count')\n",
    "model1_TN = cody[(cody.model1 == False) & (cody.actual_defect == False)].actual_defect.agg('count')\n",
    "model1_FN = cody[(cody.model1 == False) & (cody.actual_defect == True)].actual_defect.agg('count')"
   ]
  },
  {
   "cell_type": "code",
   "execution_count": 15,
   "id": "231d307f-10c2-4036-8e2d-5ed0f65b2a0c",
   "metadata": {},
   "outputs": [],
   "source": [
    "#Model 2 numbers;\n",
    "model2_TP = cody[(cody.model2 == True) & (cody.actual_defect == True)].actual_defect.agg('count')\n",
    "model2_FP = cody[(cody.model2 == True) & (cody.actual_defect == False)].actual_defect.agg('count')\n",
    "model2_TN = cody[(cody.model2 == False) & (cody.actual_defect == False)].actual_defect.agg('count')\n",
    "model2_FN = cody[(cody.model2 == False) & (cody.actual_defect == True)].actual_defect.agg('count')"
   ]
  },
  {
   "cell_type": "code",
   "execution_count": 16,
   "id": "92817000-1714-4206-8c3d-8b02ba979330",
   "metadata": {},
   "outputs": [],
   "source": [
    "#Model 3 numbers;\n",
    "model3_TP = cody[(cody.model3 == True) & (cody.actual_defect == True)].actual_defect.agg('count')\n",
    "model3_FP = cody[(cody.model3 == True) & (cody.actual_defect == False)].actual_defect.agg('count')\n",
    "model3_TN = cody[(cody.model3 == False) & (cody.actual_defect == False)].actual_defect.agg('count')\n",
    "model3_FN = cody[(cody.model3 == False) & (cody.actual_defect == True)].actual_defect.agg('count')"
   ]
  },
  {
   "cell_type": "markdown",
   "id": "dc1a7f70-e2b1-40a8-a528-5d63ebf9976c",
   "metadata": {},
   "source": [
    "Use the predictions dataset and pandas to help answer the following questions:"
   ]
  },
  {
   "cell_type": "markdown",
   "id": "f7853b09-1eba-474b-b6ee-4a8c0885c7df",
   "metadata": {},
   "source": [
    "3. Q1- An internal team wants to investigate the cause of the manufacturing defects. \n",
    "- They tell you that they want to identify as many of the ducks that have a defect as possible.\n",
    "    - Answer: Recall and Precision focus on True Positive. Recall focuses on the Actual Positive column.\n",
    "- Which evaluation metric would be appropriate here?\n",
    "    - Answer: Recall seems the most appropriate\n",
    "- Which model would be the best fit for this use case?\n",
    "    - Answer: Model 3 has the best Recall score."
   ]
  },
  {
   "cell_type": "markdown",
   "id": "10aa8c33-1cd6-4879-bc69-acfc5c42870e",
   "metadata": {},
   "source": [
    "3. Q2- Recently several stories in the local news have come out highlighting customers who received a rubber duck with a defect, and portraying C3 in a bad light. The PR team has decided to launch a program that gives customers with a defective duck a vacation to Hawaii. \n",
    "- They need you to predict which ducks will have defects, but tell you the really don't want to accidentally give out a vacation package when the duck really doesn't have a defect. \n",
    "    - Goal: Minimize False Positives\n",
    "- Which evaluation metric would be appropriate here? \n",
    "    - Answer: Precision focuses on the Predicted Positive row which is what the PR team is concerned with.\n",
    "- Which model would be the best fit for this use case?\n",
    "    - Answer: Model 1 has the best Precision"
   ]
  },
  {
   "cell_type": "markdown",
   "id": "7324ff2f-afb8-456a-8181-5614117d4e57",
   "metadata": {
    "tags": []
   },
   "source": [
    "### 4. Gives You Paws"
   ]
  },
  {
   "cell_type": "markdown",
   "id": "f62a6d86-d2c8-4374-add3-ba92b71aca9b",
   "metadata": {},
   "source": [
    "You are working as a data scientist for Gives You Paws ™, a subscription based service that shows you cute pictures of dogs or cats (or both for an additional fee). At Gives You Paws, anyone can upload pictures of their cats or dogs. The photos are then put through a two step process. First an automated algorithm tags pictures as either a cat or a dog (Phase I). Next, the photos that have been initially identified are put through another round of review, possibly with some human oversight, before being presented to the users (Phase II).\n",
    "\n",
    "Several models have already been developed with the data, and you can find their results here.\n",
    "\n",
    "Given this dataset, use pandas to create a baseline model (i.e. a model that just predicts the most common class) and answer the following questions:"
   ]
  },
  {
   "cell_type": "code",
   "execution_count": 17,
   "id": "4ced33cd-d80e-4fc9-8a16-a181af498dc7",
   "metadata": {},
   "outputs": [],
   "source": [
    "paws = pd.read_csv('gives_you_paws.csv')"
   ]
  },
  {
   "cell_type": "code",
   "execution_count": 18,
   "id": "d5afd205-4862-4283-b835-3a59f101c62e",
   "metadata": {},
   "outputs": [
    {
     "data": {
      "text/html": [
       "<div>\n",
       "<style scoped>\n",
       "    .dataframe tbody tr th:only-of-type {\n",
       "        vertical-align: middle;\n",
       "    }\n",
       "\n",
       "    .dataframe tbody tr th {\n",
       "        vertical-align: top;\n",
       "    }\n",
       "\n",
       "    .dataframe thead th {\n",
       "        text-align: right;\n",
       "    }\n",
       "</style>\n",
       "<table border=\"1\" class=\"dataframe\">\n",
       "  <thead>\n",
       "    <tr style=\"text-align: right;\">\n",
       "      <th></th>\n",
       "      <th>actual</th>\n",
       "      <th>model1</th>\n",
       "      <th>model2</th>\n",
       "      <th>model3</th>\n",
       "      <th>model4</th>\n",
       "    </tr>\n",
       "  </thead>\n",
       "  <tbody>\n",
       "    <tr>\n",
       "      <th>0</th>\n",
       "      <td>cat</td>\n",
       "      <td>cat</td>\n",
       "      <td>dog</td>\n",
       "      <td>cat</td>\n",
       "      <td>dog</td>\n",
       "    </tr>\n",
       "    <tr>\n",
       "      <th>1</th>\n",
       "      <td>dog</td>\n",
       "      <td>dog</td>\n",
       "      <td>cat</td>\n",
       "      <td>cat</td>\n",
       "      <td>dog</td>\n",
       "    </tr>\n",
       "    <tr>\n",
       "      <th>2</th>\n",
       "      <td>dog</td>\n",
       "      <td>cat</td>\n",
       "      <td>cat</td>\n",
       "      <td>cat</td>\n",
       "      <td>dog</td>\n",
       "    </tr>\n",
       "    <tr>\n",
       "      <th>3</th>\n",
       "      <td>dog</td>\n",
       "      <td>dog</td>\n",
       "      <td>dog</td>\n",
       "      <td>cat</td>\n",
       "      <td>dog</td>\n",
       "    </tr>\n",
       "    <tr>\n",
       "      <th>4</th>\n",
       "      <td>cat</td>\n",
       "      <td>cat</td>\n",
       "      <td>cat</td>\n",
       "      <td>dog</td>\n",
       "      <td>dog</td>\n",
       "    </tr>\n",
       "  </tbody>\n",
       "</table>\n",
       "</div>"
      ],
      "text/plain": [
       "  actual model1 model2 model3 model4\n",
       "0    cat    cat    dog    cat    dog\n",
       "1    dog    dog    cat    cat    dog\n",
       "2    dog    cat    cat    cat    dog\n",
       "3    dog    dog    dog    cat    dog\n",
       "4    cat    cat    cat    dog    dog"
      ]
     },
     "execution_count": 18,
     "metadata": {},
     "output_type": "execute_result"
    }
   ],
   "source": [
    "paws.head()"
   ]
  },
  {
   "cell_type": "code",
   "execution_count": 19,
   "id": "f48d497b-52ea-45fe-aa77-513e46ad1ed5",
   "metadata": {},
   "outputs": [],
   "source": [
    "#Changing the data to be a bit easier to use:\n",
    "dog = {'cat': False, 'dog': True}"
   ]
  },
  {
   "cell_type": "code",
   "execution_count": 20,
   "id": "0c70d8e6-f1b2-42d9-9250-ba7d54eb0b5a",
   "metadata": {},
   "outputs": [],
   "source": [
    "paws.rename(columns={'actual':'actual_dog'}, inplace=True)"
   ]
  },
  {
   "cell_type": "code",
   "execution_count": 21,
   "id": "00f11056-c568-4ac8-b9dc-64ce1f71eb2f",
   "metadata": {},
   "outputs": [],
   "source": [
    "paws.actual_dog = paws.actual_dog.map(dog)"
   ]
  },
  {
   "cell_type": "code",
   "execution_count": 22,
   "id": "f86c1f9a-d611-47c3-a3a4-13252c6efd3a",
   "metadata": {},
   "outputs": [],
   "source": [
    "paws.model1 = paws.model1.map(dog)"
   ]
  },
  {
   "cell_type": "code",
   "execution_count": 23,
   "id": "6370cb88-957b-4215-83ed-3635c1b4ee58",
   "metadata": {},
   "outputs": [],
   "source": [
    "paws.model2 = paws.model2.map(dog)"
   ]
  },
  {
   "cell_type": "code",
   "execution_count": 24,
   "id": "04439a50-8c3d-4f26-bd45-accef115e848",
   "metadata": {
    "tags": []
   },
   "outputs": [],
   "source": [
    "paws.model3 = paws.model3.map(dog)"
   ]
  },
  {
   "cell_type": "code",
   "execution_count": 25,
   "id": "e0ca0129-37ea-43f4-844d-3339ac5dd142",
   "metadata": {
    "tags": []
   },
   "outputs": [],
   "source": [
    "paws.model4 = paws.model4.map(dog)"
   ]
  },
  {
   "cell_type": "code",
   "execution_count": 26,
   "id": "670c364b-89fc-4fd3-8d5a-bee93d1b80c0",
   "metadata": {},
   "outputs": [
    {
     "data": {
      "text/html": [
       "<div>\n",
       "<style scoped>\n",
       "    .dataframe tbody tr th:only-of-type {\n",
       "        vertical-align: middle;\n",
       "    }\n",
       "\n",
       "    .dataframe tbody tr th {\n",
       "        vertical-align: top;\n",
       "    }\n",
       "\n",
       "    .dataframe thead th {\n",
       "        text-align: right;\n",
       "    }\n",
       "</style>\n",
       "<table border=\"1\" class=\"dataframe\">\n",
       "  <thead>\n",
       "    <tr style=\"text-align: right;\">\n",
       "      <th></th>\n",
       "      <th>actual_dog</th>\n",
       "      <th>model1</th>\n",
       "      <th>model2</th>\n",
       "      <th>model3</th>\n",
       "      <th>model4</th>\n",
       "    </tr>\n",
       "  </thead>\n",
       "  <tbody>\n",
       "    <tr>\n",
       "      <th>0</th>\n",
       "      <td>False</td>\n",
       "      <td>False</td>\n",
       "      <td>True</td>\n",
       "      <td>False</td>\n",
       "      <td>True</td>\n",
       "    </tr>\n",
       "    <tr>\n",
       "      <th>1</th>\n",
       "      <td>True</td>\n",
       "      <td>True</td>\n",
       "      <td>False</td>\n",
       "      <td>False</td>\n",
       "      <td>True</td>\n",
       "    </tr>\n",
       "    <tr>\n",
       "      <th>2</th>\n",
       "      <td>True</td>\n",
       "      <td>False</td>\n",
       "      <td>False</td>\n",
       "      <td>False</td>\n",
       "      <td>True</td>\n",
       "    </tr>\n",
       "    <tr>\n",
       "      <th>3</th>\n",
       "      <td>True</td>\n",
       "      <td>True</td>\n",
       "      <td>True</td>\n",
       "      <td>False</td>\n",
       "      <td>True</td>\n",
       "    </tr>\n",
       "    <tr>\n",
       "      <th>4</th>\n",
       "      <td>False</td>\n",
       "      <td>False</td>\n",
       "      <td>False</td>\n",
       "      <td>True</td>\n",
       "      <td>True</td>\n",
       "    </tr>\n",
       "  </tbody>\n",
       "</table>\n",
       "</div>"
      ],
      "text/plain": [
       "   actual_dog  model1  model2  model3  model4\n",
       "0       False   False    True   False    True\n",
       "1        True    True   False   False    True\n",
       "2        True   False   False   False    True\n",
       "3        True    True    True   False    True\n",
       "4       False   False   False    True    True"
      ]
     },
     "execution_count": 26,
     "metadata": {},
     "output_type": "execute_result"
    }
   ],
   "source": [
    "paws.head()"
   ]
  },
  {
   "cell_type": "code",
   "execution_count": 27,
   "id": "eadef51d-d36b-4494-b5bb-a2b85a6b5244",
   "metadata": {},
   "outputs": [
    {
     "data": {
      "text/plain": [
       "0.6508"
      ]
     },
     "execution_count": 27,
     "metadata": {},
     "output_type": "execute_result"
    }
   ],
   "source": [
    "# Calculating the baseline:\n",
    "baseline_dogs = paws.actual_dog.sum() / len(paws.actual_dog)\n",
    "baseline_dogs"
   ]
  },
  {
   "cell_type": "code",
   "execution_count": 28,
   "id": "f04fe35c-c37b-4df8-b29c-d6b939cfe9bd",
   "metadata": {
    "tags": []
   },
   "outputs": [],
   "source": [
    "#Model 1 numbers:\n",
    "model1_TP = paws[(paws.model1 == True) & (paws.actual_dog == True)].actual_dog.agg('count')\n",
    "model1_FP = paws[(paws.model1 == True) & (paws.actual_dog == False)].actual_dog.agg('count')\n",
    "model1_TN = paws[(paws.model1 == False) & (paws.actual_dog == False)].actual_dog.agg('count')\n",
    "model1_FN = paws[(paws.model1 == False) & (paws.actual_dog == True)].actual_dog.agg('count')"
   ]
  },
  {
   "cell_type": "code",
   "execution_count": 29,
   "id": "85cc0218-fa7c-49f5-8e70-43a78be3b16d",
   "metadata": {},
   "outputs": [],
   "source": [
    "#Model 2 numbers:\n",
    "model2_TP = paws[(paws.model2 == True) & (paws.actual_dog == True)].actual_dog.agg('count')\n",
    "model2_FP = paws[(paws.model2 == True) & (paws.actual_dog == False)].actual_dog.agg('count')\n",
    "model2_TN = paws[(paws.model2 == False) & (paws.actual_dog == False)].actual_dog.agg('count')\n",
    "model2_FN = paws[(paws.model2 == False) & (paws.actual_dog == True)].actual_dog.agg('count')"
   ]
  },
  {
   "cell_type": "code",
   "execution_count": 30,
   "id": "a37d6f74-2d83-4bf5-a88b-606b7b27c367",
   "metadata": {},
   "outputs": [],
   "source": [
    "#Model 3 numbers:\n",
    "model3_TP = paws[(paws.model3 == True) & (paws.actual_dog == True)].actual_dog.agg('count')\n",
    "model3_FP = paws[(paws.model3 == True) & (paws.actual_dog == False)].actual_dog.agg('count')\n",
    "model3_TN = paws[(paws.model3 == False) & (paws.actual_dog == False)].actual_dog.agg('count')\n",
    "model3_FN = paws[(paws.model3 == False) & (paws.actual_dog == True)].actual_dog.agg('count')"
   ]
  },
  {
   "cell_type": "code",
   "execution_count": 31,
   "id": "5a62fc74-954f-4dce-82d0-a10e2a225a2a",
   "metadata": {},
   "outputs": [],
   "source": [
    "#Model 4 numbers:\n",
    "model4_TP = paws[(paws.model4 == True) & (paws.actual_dog == True)].actual_dog.agg('count')\n",
    "model4_FP = paws[(paws.model4 == True) & (paws.actual_dog == False)].actual_dog.agg('count')\n",
    "model4_TN = paws[(paws.model4 == False) & (paws.actual_dog == False)].actual_dog.agg('count')\n",
    "model4_FN = paws[(paws.model4 == False) & (paws.actual_dog == True)].actual_dog.agg('count')"
   ]
  },
  {
   "cell_type": "code",
   "execution_count": 32,
   "id": "97858214-a54b-43de-b288-f5a3473edba1",
   "metadata": {
    "tags": []
   },
   "outputs": [],
   "source": [
    "#This calculates the precision for each model:\n",
    "m1_precision = model1_TP / (model1_TP + model1_FP)\n",
    "\n",
    "m2_precision = model2_TP / (model2_TP + model2_FP)\n",
    "\n",
    "m3_precision = model3_TP / (model3_TP + model3_FP)\n",
    "\n",
    "m4_precision = model4_TP / (model4_TP + model4_FP)"
   ]
  },
  {
   "cell_type": "code",
   "execution_count": 33,
   "id": "2e6ecef5-3528-401e-b1fb-153c9fa533b7",
   "metadata": {},
   "outputs": [],
   "source": [
    "#This calculates the accuracy for each model:\n",
    "m3_accuracy = (model3_TP + model3_TN) / (model3_TP + model3_FP + model3_TN + model3_FN)\n",
    "\n",
    "m2_accuracy = (model2_TP + model2_TN) / (model2_TP + model2_FP + model2_TN + model2_FN)\n",
    "\n",
    "m1_accuracy = (model1_TP + model1_TN) / (model1_TP + model1_FP + model1_TN + model1_FN)\n",
    "\n",
    "m4_accuracy = (model4_TP + model4_TN) / (model4_TP + model4_FP + model4_TN + model4_FN)"
   ]
  },
  {
   "cell_type": "code",
   "execution_count": 34,
   "id": "5b1c2ba8-aa5a-42e1-9d3f-4fba70e96b4c",
   "metadata": {},
   "outputs": [],
   "source": [
    "##This calculates the recall for each model:\n",
    "m1_recall = model1_TP / (model1_TP + model1_FN)\n",
    "\n",
    "m2_recall = model2_TP / (model2_TP + model2_FN)\n",
    "\n",
    "m3_recall = model3_TP / (model3_TP + model3_FN)\n",
    "\n",
    "m4_recall = model4_TP / (model4_TP + model4_FN)"
   ]
  },
  {
   "cell_type": "code",
   "execution_count": 35,
   "id": "a0d0aa93-36ad-4539-b562-d409e07717c5",
   "metadata": {},
   "outputs": [],
   "source": [
    "#This calculates the specificity for each model:\n",
    "m1_spec = model1_TN / (model1_FP + model1_TN)\n",
    "\n",
    "m2_spec = model2_TN / (model2_FP + model2_TN)\n",
    "\n",
    "m3_spec = model3_TN / (model3_FP + model3_TN)\n",
    "\n",
    "m4_spec = model4_TN / (model4_FP + model4_TN)"
   ]
  },
  {
   "cell_type": "code",
   "execution_count": 36,
   "id": "2f36219c-9f10-4bb4-9881-1ca03d0d8e85",
   "metadata": {},
   "outputs": [
    {
     "name": "stdout",
     "output_type": "stream",
     "text": [
      " Baseline: 3254 dogs / 5000 total = 0.6508\n",
      " ---------------------------------------------------------\n",
      " ------------ Accuracy | Precision | Recall | Specificity|\n",
      " ---------------------------------------------------------\n",
      " Model 1:        0.807 |  0.8900   | 0.8033 |   0.8150 |\n",
      " Model 2:        0.630 |  0.8932   | 0.4908 |   0.8906 |\n",
      " Model 3:        0.510 |  0.6599   | 0.5086 |   0.5115 |\n",
      " Model 4:        0.743 |  0.7312   | 0.9557 |   0.3454 |\n"
     ]
    }
   ],
   "source": [
    "print(f' Baseline: {paws.actual_dog.sum()} dogs / {len(paws.actual_dog)} total = {baseline_dogs}')\n",
    "print(f' ---------------------------------------------------------')\n",
    "print(f' ------------ Accuracy | Precision | Recall | Specificity|')\n",
    "print(f' ---------------------------------------------------------')\n",
    "print(f' Model 1:       {m1_accuracy:6.3f} | {m1_precision:^9.4f} | {m1_recall:4.4f} | {m1_spec:8.4f} |')\n",
    "print(f' Model 2:       {m2_accuracy:6.3f} | {m2_precision:^9.4f} | {m2_recall:6.4f} | {m2_spec:8.4f} |')\n",
    "print(f' Model 3:       {m3_accuracy:6.3f} | {m3_precision:^9.4f} | {m3_recall:4.4f} | {m3_spec:8.4f} |')\n",
    "print(f' Model 4:       {m4_accuracy:6.3f} | {m4_precision:^9.4f} | {m4_recall:4.4f} | {m4_spec:8.4f} |')\n"
   ]
  },
  {
   "cell_type": "markdown",
   "id": "e922e252-28a3-43c0-bae1-be60fb4e899c",
   "metadata": {},
   "source": [
    "- In terms of accuracy, how do the various models compare to the baseline model? Are any of the models better than the baseline?\n",
    "    - Answer: Model 1 and 4 are over the 65% that is the baseline.\n",
    "- Suppose you are working on a team that solely deals with dog pictures. Which of these models would you recommend?\n",
    "    - Answer: Recall deals with Actual images of dogs so Model 4 since it does the best with that.\n",
    "- Suppose you are working on a team that solely deals with cat pictures. Which of these models would you recommend?\n",
    "    - Answer: Specificity deals with Actual images that aren't dogs so Model 2 since it does the best with that."
   ]
  },
  {
   "cell_type": "markdown",
   "id": "85985290-81e4-454e-83c1-89d5d69e5fa3",
   "metadata": {},
   "source": [
    "### 5. Follow the links below to read the documentation about each function."
   ]
  },
  {
   "cell_type": "code",
   "execution_count": 37,
   "id": "44f2443f-4cad-449d-9937-271aeb2da19c",
   "metadata": {},
   "outputs": [],
   "source": [
    "from sklearn.metrics import accuracy_score\n",
    "from sklearn.metrics import precision_score\n",
    "from sklearn.metrics import recall_score\n",
    "from sklearn.metrics import classification_report"
   ]
  },
  {
   "cell_type": "markdown",
   "id": "e96791f0-ca41-4999-902a-fdc957dc5584",
   "metadata": {},
   "source": [
    "Apply those functions to the data from the previous problem.\n",
    "\n",
    "- sklearn.metrics.accuracy_score\n",
    "- sklearn.metrics.precision_score\n",
    "- sklearn.metrics.recall_score\n",
    "- sklearn.metrics.classification_report"
   ]
  },
  {
   "cell_type": "code",
   "execution_count": 38,
   "id": "bd3bd27b-ae95-41bd-894f-afb47ce58dbe",
   "metadata": {},
   "outputs": [],
   "source": [
    "paws5 = pd.read_csv('gives_you_paws.csv')"
   ]
  },
  {
   "cell_type": "code",
   "execution_count": 39,
   "id": "140b21a0-3c70-4aeb-b647-600b4d843362",
   "metadata": {},
   "outputs": [
    {
     "data": {
      "text/plain": [
       "0.8074"
      ]
     },
     "execution_count": 39,
     "metadata": {},
     "output_type": "execute_result"
    }
   ],
   "source": [
    "accuracy_score(paws5.actual, paws5.model1)"
   ]
  },
  {
   "cell_type": "code",
   "execution_count": 40,
   "id": "760d1290-72e4-4051-932e-fb859cbc1175",
   "metadata": {},
   "outputs": [
    {
     "data": {
      "text/plain": [
       "0.6304"
      ]
     },
     "execution_count": 40,
     "metadata": {},
     "output_type": "execute_result"
    }
   ],
   "source": [
    "accuracy_score(paws5.actual, paws5.model2)"
   ]
  },
  {
   "cell_type": "code",
   "execution_count": 41,
   "id": "a8bf3734-9b8f-4055-8db3-4cb73a8c9130",
   "metadata": {},
   "outputs": [
    {
     "data": {
      "text/plain": [
       "0.5096"
      ]
     },
     "execution_count": 41,
     "metadata": {},
     "output_type": "execute_result"
    }
   ],
   "source": [
    "accuracy_score(paws5.actual, paws5.model3)"
   ]
  },
  {
   "cell_type": "code",
   "execution_count": 42,
   "id": "f7d33864-27c1-4af1-a213-9fc6565988d3",
   "metadata": {},
   "outputs": [
    {
     "data": {
      "text/plain": [
       "0.7426"
      ]
     },
     "execution_count": 42,
     "metadata": {},
     "output_type": "execute_result"
    }
   ],
   "source": [
    "accuracy_score(paws5.actual, paws5.model4)"
   ]
  },
  {
   "cell_type": "code",
   "execution_count": 43,
   "id": "c36e48c8-ccb0-438b-8a54-85694efac177",
   "metadata": {},
   "outputs": [
    {
     "data": {
      "text/plain": [
       "0.8900238338440586"
      ]
     },
     "execution_count": 43,
     "metadata": {},
     "output_type": "execute_result"
    }
   ],
   "source": [
    "precision_score(paws5.actual, paws5.model1, pos_label='dog')"
   ]
  },
  {
   "cell_type": "code",
   "execution_count": 44,
   "id": "7e9d48e5-421c-4247-8ea8-024039016bf6",
   "metadata": {},
   "outputs": [
    {
     "data": {
      "text/plain": [
       "0.8931767337807607"
      ]
     },
     "execution_count": 44,
     "metadata": {},
     "output_type": "execute_result"
    }
   ],
   "source": [
    "precision_score(paws5.actual, paws5.model2, pos_label='dog')"
   ]
  },
  {
   "cell_type": "code",
   "execution_count": 45,
   "id": "5019a35e-88f7-4d04-bbaf-1624e4f3fca8",
   "metadata": {},
   "outputs": [
    {
     "data": {
      "text/plain": [
       "0.6598883572567783"
      ]
     },
     "execution_count": 45,
     "metadata": {},
     "output_type": "execute_result"
    }
   ],
   "source": [
    "precision_score(paws5.actual, paws5.model3, pos_label='dog')"
   ]
  },
  {
   "cell_type": "code",
   "execution_count": 46,
   "id": "2bf28b4a-2735-4d4c-8b09-485d8e27047b",
   "metadata": {},
   "outputs": [
    {
     "data": {
      "text/plain": [
       "0.7312485304490948"
      ]
     },
     "execution_count": 46,
     "metadata": {},
     "output_type": "execute_result"
    }
   ],
   "source": [
    "precision_score(paws5.actual, paws5.model4, pos_label='dog')"
   ]
  },
  {
   "cell_type": "code",
   "execution_count": 47,
   "id": "5e1a6a8a-f71f-491c-91c1-8832bb4da56b",
   "metadata": {},
   "outputs": [
    {
     "data": {
      "text/plain": [
       "0.803318992009834"
      ]
     },
     "execution_count": 47,
     "metadata": {},
     "output_type": "execute_result"
    }
   ],
   "source": [
    "recall_score(paws5.actual, paws5.model1, pos_label='dog')"
   ]
  },
  {
   "cell_type": "code",
   "execution_count": 48,
   "id": "6b9d4ea9-df0a-4353-a4ba-d7760a47f17f",
   "metadata": {},
   "outputs": [
    {
     "data": {
      "text/plain": [
       "0.49078057775046097"
      ]
     },
     "execution_count": 48,
     "metadata": {},
     "output_type": "execute_result"
    }
   ],
   "source": [
    "recall_score(paws5.actual, paws5.model2, pos_label='dog')"
   ]
  },
  {
   "cell_type": "code",
   "execution_count": 49,
   "id": "81215fc5-6320-42d8-bf0a-920fd1249a54",
   "metadata": {},
   "outputs": [
    {
     "data": {
      "text/plain": [
       "0.5086047940995697"
      ]
     },
     "execution_count": 49,
     "metadata": {},
     "output_type": "execute_result"
    }
   ],
   "source": [
    "recall_score(paws5.actual, paws5.model3, pos_label='dog')"
   ]
  },
  {
   "cell_type": "code",
   "execution_count": 50,
   "id": "bcc12fc4-33ee-4f3a-b5a2-351f3e8177a1",
   "metadata": {},
   "outputs": [
    {
     "data": {
      "text/plain": [
       "0.9557467732022127"
      ]
     },
     "execution_count": 50,
     "metadata": {},
     "output_type": "execute_result"
    }
   ],
   "source": [
    "recall_score(paws5.actual, paws5.model4, pos_label='dog')"
   ]
  },
  {
   "cell_type": "code",
   "execution_count": 51,
   "id": "5949292e-f033-4f4a-8b22-1943faa95982",
   "metadata": {},
   "outputs": [
    {
     "name": "stdout",
     "output_type": "stream",
     "text": [
      "              precision    recall  f1-score   support\n",
      "\n",
      "         cat       0.69      0.82      0.75      1746\n",
      "         dog       0.89      0.80      0.84      3254\n",
      "\n",
      "    accuracy                           0.81      5000\n",
      "   macro avg       0.79      0.81      0.80      5000\n",
      "weighted avg       0.82      0.81      0.81      5000\n",
      "\n"
     ]
    }
   ],
   "source": [
    "print(classification_report(paws5.actual, paws5.model1))"
   ]
  },
  {
   "cell_type": "code",
   "execution_count": 52,
   "id": "a59f78de-a922-4ced-887c-35201f1683ce",
   "metadata": {},
   "outputs": [
    {
     "name": "stdout",
     "output_type": "stream",
     "text": [
      "              precision    recall  f1-score   support\n",
      "\n",
      "         cat       0.48      0.89      0.63      1746\n",
      "         dog       0.89      0.49      0.63      3254\n",
      "\n",
      "    accuracy                           0.63      5000\n",
      "   macro avg       0.69      0.69      0.63      5000\n",
      "weighted avg       0.75      0.63      0.63      5000\n",
      "\n"
     ]
    }
   ],
   "source": [
    "print(classification_report(paws5.actual, paws5.model2))"
   ]
  },
  {
   "cell_type": "code",
   "execution_count": 53,
   "id": "95a63fc9-efb2-405f-99e3-58637517b125",
   "metadata": {},
   "outputs": [
    {
     "name": "stdout",
     "output_type": "stream",
     "text": [
      "              precision    recall  f1-score   support\n",
      "\n",
      "         cat       0.36      0.51      0.42      1746\n",
      "         dog       0.66      0.51      0.57      3254\n",
      "\n",
      "    accuracy                           0.51      5000\n",
      "   macro avg       0.51      0.51      0.50      5000\n",
      "weighted avg       0.55      0.51      0.52      5000\n",
      "\n"
     ]
    }
   ],
   "source": [
    "print(classification_report(paws5.actual, paws5.model3))"
   ]
  },
  {
   "cell_type": "code",
   "execution_count": 54,
   "id": "eba1b0e2-0d39-4e00-b845-a33db88d32fe",
   "metadata": {},
   "outputs": [
    {
     "name": "stdout",
     "output_type": "stream",
     "text": [
      "              precision    recall  f1-score   support\n",
      "\n",
      "         cat       0.81      0.35      0.48      1746\n",
      "         dog       0.73      0.96      0.83      3254\n",
      "\n",
      "    accuracy                           0.74      5000\n",
      "   macro avg       0.77      0.65      0.66      5000\n",
      "weighted avg       0.76      0.74      0.71      5000\n",
      "\n"
     ]
    }
   ],
   "source": [
    "print(classification_report(paws5.actual, paws5.model4))"
   ]
  },
  {
   "cell_type": "code",
   "execution_count": null,
   "id": "77006ec6-d6fb-4a24-a352-b98cfadbe97d",
   "metadata": {},
   "outputs": [],
   "source": []
  }
 ],
 "metadata": {
  "kernelspec": {
   "display_name": "Python 3 (ipykernel)",
   "language": "python",
   "name": "python3"
  },
  "language_info": {
   "codemirror_mode": {
    "name": "ipython",
    "version": 3
   },
   "file_extension": ".py",
   "mimetype": "text/x-python",
   "name": "python",
   "nbconvert_exporter": "python",
   "pygments_lexer": "ipython3",
   "version": "3.9.15"
  }
 },
 "nbformat": 4,
 "nbformat_minor": 5
}
