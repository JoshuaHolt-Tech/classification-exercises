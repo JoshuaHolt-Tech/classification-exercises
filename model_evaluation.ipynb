{
 "cells": [
  {
   "cell_type": "code",
   "execution_count": 1,
   "id": "3c161196-96fa-4db3-8ad6-2803856e725c",
   "metadata": {},
   "outputs": [],
   "source": [
    "import pandas as pd\n",
    "import numpy as np\n",
    "from scipy import stats\n",
    "import seaborn as sns\n",
    "import matplotlib.pyplot as plt"
   ]
  },
  {
   "cell_type": "markdown",
   "id": "b33982ea-e2e9-4580-86f5-4bc9b11b66fa",
   "metadata": {},
   "source": [
    "### 1. model_evaluation Exercises:"
   ]
  },
  {
   "cell_type": "markdown",
   "id": "5d877f68-c69b-4d9d-8e9e-1aa94d0de956",
   "metadata": {},
   "source": [
    "### 2."
   ]
  },
  {
   "cell_type": "markdown",
   "id": "8a551035-8880-4ac3-b5d6-76d64d9c5d9f",
   "metadata": {},
   "source": [
    "|               | pred dog   | pred cat   |\n",
    "|:------------  |-----------:|-----------:|\n",
    "| actual dog    |         46 |         7  |\n",
    "| actual cat    |         13 |         34 |\n"
   ]
  },
  {
   "cell_type": "markdown",
   "id": "5a9ae900-b9c5-4f47-aeb2-10d64e5373bc",
   "metadata": {},
   "source": [
    "**Dog = True**\n",
    "- In the context of this problem, what is a false positive?\n",
    "    - Answer: Predicted Cat but it was actually a dog. Value 7\n",
    "- In the context of this problem, what is a false negative?\n",
    "    - Answer: Predicted Dog but it was actually a cat. Value 13\n",
    "- How would you describe this model?\n",
    "    - Answer: Precision = 87%, Accuracy = 80%, Recall = 78%\n"
   ]
  },
  {
   "cell_type": "markdown",
   "id": "d89c18c6-43a8-422f-bc34-996de4fd5466",
   "metadata": {},
   "source": [
    "3. You are working as a datascientist working for Codeup Cody Creator (C3 for short), a rubber-duck manufacturing plant.\n",
    "\n",
    "Unfortunately, some of the rubber ducks that are produced will have defects. Your team has built several models that try to predict those defects, and the data from their predictions can be found here.\n",
    "\n",
    "Use the predictions dataset and pandas to help answer the following questions:\n",
    "\n",
    "- An internal team wants to investigate the cause of the manufacturing defects. They tell you that they want to identify as many of the ducks that have a defect as possible. Which evaluation metric would be appropriate here? Which model would be the best fit for this use case?\n",
    "\n",
    "- Recently several stories in the local news have come out highlighting customers who received a rubber duck with a defect, and portraying C3 in a bad light. The PR team has decided to launch a program that gives customers with a defective duck a vacation to Hawaii. They need you to predict which ducks will have defects, but tell you the really don't want to accidentally give out a vacation package when the duck really doesn't have a defect. Which evaluation metric would be appropriate here? Which model would be the best fit for this use case?"
   ]
  },
  {
   "cell_type": "code",
   "execution_count": 2,
   "id": "2139c805-8e04-475d-835a-772d15a898ce",
   "metadata": {
    "tags": []
   },
   "outputs": [],
   "source": [
    "cody = pd.read_csv('c3.csv')"
   ]
  },
  {
   "cell_type": "code",
   "execution_count": 3,
   "id": "d86e321f-7a19-4fc9-ac26-8635942c3fa5",
   "metadata": {},
   "outputs": [
    {
     "data": {
      "text/plain": [
       "No Defect    101\n",
       "Defect        99\n",
       "Name: model3, dtype: int64"
      ]
     },
     "execution_count": 3,
     "metadata": {},
     "output_type": "execute_result"
    }
   ],
   "source": [
    "cody.model3.value_counts()"
   ]
  },
  {
   "cell_type": "code",
   "execution_count": 4,
   "id": "8e212592-1e6e-45ac-b229-24d177f22914",
   "metadata": {},
   "outputs": [],
   "source": [
    "defect = {'No Defect': False, 'Defect': True}"
   ]
  },
  {
   "cell_type": "code",
   "execution_count": 5,
   "id": "1cf38fce-beb4-4ed7-899c-87dc779f6648",
   "metadata": {},
   "outputs": [],
   "source": [
    "cody.rename(columns={'actual':'actual_defect'}, inplace=True)"
   ]
  },
  {
   "cell_type": "code",
   "execution_count": 6,
   "id": "80cd56e7-86c3-4da7-83c5-45f4c2dea647",
   "metadata": {},
   "outputs": [],
   "source": [
    "cody.actual_defect = cody.actual_defect.map(defect)"
   ]
  },
  {
   "cell_type": "code",
   "execution_count": 7,
   "id": "6da49d12-5c18-4645-82e3-79f1dc3d00d9",
   "metadata": {},
   "outputs": [],
   "source": [
    "cody.model1 = cody.model1.map(defect)"
   ]
  },
  {
   "cell_type": "code",
   "execution_count": 8,
   "id": "5c695494-9633-4016-8151-60b1d9c7396c",
   "metadata": {},
   "outputs": [],
   "source": [
    "cody.model2 = cody.model2.map(defect)"
   ]
  },
  {
   "cell_type": "code",
   "execution_count": 9,
   "id": "2843504a-339c-42ca-937d-47da32d57754",
   "metadata": {},
   "outputs": [],
   "source": [
    "cody.model3 = cody.model3.map(defect)"
   ]
  },
  {
   "cell_type": "code",
   "execution_count": 10,
   "id": "0818cccb-3b19-455e-b26b-e3267a0d3c22",
   "metadata": {},
   "outputs": [
    {
     "data": {
      "text/html": [
       "<div>\n",
       "<style scoped>\n",
       "    .dataframe tbody tr th:only-of-type {\n",
       "        vertical-align: middle;\n",
       "    }\n",
       "\n",
       "    .dataframe tbody tr th {\n",
       "        vertical-align: top;\n",
       "    }\n",
       "\n",
       "    .dataframe thead th {\n",
       "        text-align: right;\n",
       "    }\n",
       "</style>\n",
       "<table border=\"1\" class=\"dataframe\">\n",
       "  <thead>\n",
       "    <tr style=\"text-align: right;\">\n",
       "      <th></th>\n",
       "      <th>actual_defect</th>\n",
       "      <th>model1</th>\n",
       "      <th>model2</th>\n",
       "      <th>model3</th>\n",
       "    </tr>\n",
       "  </thead>\n",
       "  <tbody>\n",
       "    <tr>\n",
       "      <th>0</th>\n",
       "      <td>False</td>\n",
       "      <td>False</td>\n",
       "      <td>True</td>\n",
       "      <td>False</td>\n",
       "    </tr>\n",
       "    <tr>\n",
       "      <th>1</th>\n",
       "      <td>False</td>\n",
       "      <td>False</td>\n",
       "      <td>True</td>\n",
       "      <td>True</td>\n",
       "    </tr>\n",
       "    <tr>\n",
       "      <th>2</th>\n",
       "      <td>False</td>\n",
       "      <td>False</td>\n",
       "      <td>True</td>\n",
       "      <td>False</td>\n",
       "    </tr>\n",
       "    <tr>\n",
       "      <th>3</th>\n",
       "      <td>False</td>\n",
       "      <td>True</td>\n",
       "      <td>True</td>\n",
       "      <td>True</td>\n",
       "    </tr>\n",
       "    <tr>\n",
       "      <th>4</th>\n",
       "      <td>False</td>\n",
       "      <td>False</td>\n",
       "      <td>True</td>\n",
       "      <td>False</td>\n",
       "    </tr>\n",
       "  </tbody>\n",
       "</table>\n",
       "</div>"
      ],
      "text/plain": [
       "   actual_defect  model1  model2  model3\n",
       "0          False   False    True   False\n",
       "1          False   False    True    True\n",
       "2          False   False    True   False\n",
       "3          False    True    True    True\n",
       "4          False   False    True   False"
      ]
     },
     "execution_count": 10,
     "metadata": {},
     "output_type": "execute_result"
    }
   ],
   "source": [
    "cody.head()"
   ]
  },
  {
   "cell_type": "code",
   "execution_count": 11,
   "id": "47a4a697-b001-49c3-92f2-7dd0f6efb7c7",
   "metadata": {},
   "outputs": [
    {
     "data": {
      "text/html": [
       "<div>\n",
       "<style scoped>\n",
       "    .dataframe tbody tr th:only-of-type {\n",
       "        vertical-align: middle;\n",
       "    }\n",
       "\n",
       "    .dataframe tbody tr th {\n",
       "        vertical-align: top;\n",
       "    }\n",
       "\n",
       "    .dataframe thead th {\n",
       "        text-align: right;\n",
       "    }\n",
       "</style>\n",
       "<table border=\"1\" class=\"dataframe\">\n",
       "  <thead>\n",
       "    <tr style=\"text-align: right;\">\n",
       "      <th>model1</th>\n",
       "      <th>False</th>\n",
       "      <th>True</th>\n",
       "    </tr>\n",
       "    <tr>\n",
       "      <th>actual_defect</th>\n",
       "      <th></th>\n",
       "      <th></th>\n",
       "    </tr>\n",
       "  </thead>\n",
       "  <tbody>\n",
       "    <tr>\n",
       "      <th>False</th>\n",
       "      <td>182</td>\n",
       "      <td>2</td>\n",
       "    </tr>\n",
       "    <tr>\n",
       "      <th>True</th>\n",
       "      <td>8</td>\n",
       "      <td>8</td>\n",
       "    </tr>\n",
       "  </tbody>\n",
       "</table>\n",
       "</div>"
      ],
      "text/plain": [
       "model1         False  True\n",
       "actual_defect             \n",
       "False            182     2\n",
       "True               8     8"
      ]
     },
     "execution_count": 11,
     "metadata": {},
     "output_type": "execute_result"
    }
   ],
   "source": [
    "pd.crosstab(cody.actual_defect, cody.model1)"
   ]
  },
  {
   "cell_type": "code",
   "execution_count": 12,
   "id": "dfe0bb01-4b85-4c49-96d1-c5de78e1ba08",
   "metadata": {},
   "outputs": [
    {
     "data": {
      "text/html": [
       "<div>\n",
       "<style scoped>\n",
       "    .dataframe tbody tr th:only-of-type {\n",
       "        vertical-align: middle;\n",
       "    }\n",
       "\n",
       "    .dataframe tbody tr th {\n",
       "        vertical-align: top;\n",
       "    }\n",
       "\n",
       "    .dataframe thead th {\n",
       "        text-align: right;\n",
       "    }\n",
       "</style>\n",
       "<table border=\"1\" class=\"dataframe\">\n",
       "  <thead>\n",
       "    <tr style=\"text-align: right;\">\n",
       "      <th>model2</th>\n",
       "      <th>False</th>\n",
       "      <th>True</th>\n",
       "    </tr>\n",
       "    <tr>\n",
       "      <th>actual_defect</th>\n",
       "      <th></th>\n",
       "      <th></th>\n",
       "    </tr>\n",
       "  </thead>\n",
       "  <tbody>\n",
       "    <tr>\n",
       "      <th>False</th>\n",
       "      <td>103</td>\n",
       "      <td>81</td>\n",
       "    </tr>\n",
       "    <tr>\n",
       "      <th>True</th>\n",
       "      <td>7</td>\n",
       "      <td>9</td>\n",
       "    </tr>\n",
       "  </tbody>\n",
       "</table>\n",
       "</div>"
      ],
      "text/plain": [
       "model2         False  True\n",
       "actual_defect             \n",
       "False            103    81\n",
       "True               7     9"
      ]
     },
     "execution_count": 12,
     "metadata": {},
     "output_type": "execute_result"
    }
   ],
   "source": [
    "pd.crosstab(cody.actual_defect, cody.model2)"
   ]
  },
  {
   "cell_type": "code",
   "execution_count": 13,
   "id": "9e97fdd0-7bac-45b2-ac09-0902d7bc32f1",
   "metadata": {},
   "outputs": [
    {
     "data": {
      "text/html": [
       "<div>\n",
       "<style scoped>\n",
       "    .dataframe tbody tr th:only-of-type {\n",
       "        vertical-align: middle;\n",
       "    }\n",
       "\n",
       "    .dataframe tbody tr th {\n",
       "        vertical-align: top;\n",
       "    }\n",
       "\n",
       "    .dataframe thead th {\n",
       "        text-align: right;\n",
       "    }\n",
       "</style>\n",
       "<table border=\"1\" class=\"dataframe\">\n",
       "  <thead>\n",
       "    <tr style=\"text-align: right;\">\n",
       "      <th>model3</th>\n",
       "      <th>False</th>\n",
       "      <th>True</th>\n",
       "    </tr>\n",
       "    <tr>\n",
       "      <th>actual_defect</th>\n",
       "      <th></th>\n",
       "      <th></th>\n",
       "    </tr>\n",
       "  </thead>\n",
       "  <tbody>\n",
       "    <tr>\n",
       "      <th>False</th>\n",
       "      <td>98</td>\n",
       "      <td>86</td>\n",
       "    </tr>\n",
       "    <tr>\n",
       "      <th>True</th>\n",
       "      <td>3</td>\n",
       "      <td>13</td>\n",
       "    </tr>\n",
       "  </tbody>\n",
       "</table>\n",
       "</div>"
      ],
      "text/plain": [
       "model3         False  True\n",
       "actual_defect             \n",
       "False             98    86\n",
       "True               3    13"
      ]
     },
     "execution_count": 13,
     "metadata": {},
     "output_type": "execute_result"
    }
   ],
   "source": [
    "pd.crosstab(cody.actual_defect, cody.model3)"
   ]
  },
  {
   "cell_type": "markdown",
   "id": "a2ed41b6-d0aa-4f99-96e1-663aff6dd2a7",
   "metadata": {},
   "source": [
    "Model1 Numbers:"
   ]
  },
  {
   "cell_type": "code",
   "execution_count": 14,
   "id": "1c8da843-c23f-4e4a-bbf4-cbf838f9b3f1",
   "metadata": {},
   "outputs": [],
   "source": [
    "model1_TP = cody[(cody.model1 == True) & (cody.actual_defect == True)].actual_defect.agg('count')\n",
    "model1_TN = cody[(cody.model1 == True) & (cody.actual_defect == False)].actual_defect.agg('count')\n",
    "model1_FN = cody[(cody.model1 == False) & (cody.actual_defect == False)].actual_defect.agg('count')\n",
    "model1_FP = cody[(cody.model1 == False) & (cody.actual_defect == True)].actual_defect.agg('count')"
   ]
  },
  {
   "cell_type": "code",
   "execution_count": 33,
   "id": "221e828c-dfef-4e2f-bf60-56cdcbaf2b9f",
   "metadata": {},
   "outputs": [
    {
     "data": {
      "text/plain": [
       "182"
      ]
     },
     "execution_count": 33,
     "metadata": {},
     "output_type": "execute_result"
    }
   ],
   "source": [
    "model1_FN"
   ]
  },
  {
   "cell_type": "code",
   "execution_count": 16,
   "id": "231d307f-10c2-4036-8e2d-5ed0f65b2a0c",
   "metadata": {},
   "outputs": [],
   "source": [
    "model2_TP = cody[(cody.model2 == True) & (cody.actual_defect == True)].actual_defect.agg('count')\n",
    "model2_TN = cody[(cody.model2 == True) & (cody.actual_defect == False)].actual_defect.agg('count')\n",
    "model2_FN = cody[(cody.model2 == False) & (cody.actual_defect == False)].actual_defect.agg('count')\n",
    "model2_FP = cody[(cody.model2 == False) & (cody.actual_defect == True)].actual_defect.agg('count')"
   ]
  },
  {
   "cell_type": "code",
   "execution_count": 17,
   "id": "92817000-1714-4206-8c3d-8b02ba979330",
   "metadata": {},
   "outputs": [],
   "source": [
    "model3_TP = cody[(cody.model3 == True) & (cody.actual_defect == True)].actual_defect.agg('count')\n",
    "model3_TN = cody[(cody.model3 == True) & (cody.actual_defect == False)].actual_defect.agg('count')\n",
    "model3_FN = cody[(cody.model3 == False) & (cody.actual_defect == False)].actual_defect.agg('count')\n",
    "model3_FP = cody[(cody.model3 == False) & (cody.actual_defect == True)].actual_defect.agg('count')"
   ]
  },
  {
   "cell_type": "code",
   "execution_count": 18,
   "id": "8293eae6-1eea-46a5-84a2-4d0271483b24",
   "metadata": {
    "tags": []
   },
   "outputs": [],
   "source": [
    "m1_precision = model1_TP / (model1_TP + model1_FP)"
   ]
  },
  {
   "cell_type": "code",
   "execution_count": 19,
   "id": "d4d7964c-be0b-4dd5-bd61-a9b267e568a0",
   "metadata": {},
   "outputs": [],
   "source": [
    "m2_precision = model2_TP / (model2_TP + model2_FP)"
   ]
  },
  {
   "cell_type": "code",
   "execution_count": 20,
   "id": "ad011dad-e792-4071-8abc-b7cb1b89653a",
   "metadata": {},
   "outputs": [],
   "source": [
    "m3_precision = model3_TP / (model3_TP + model3_FP)"
   ]
  },
  {
   "cell_type": "code",
   "execution_count": 21,
   "id": "1723d487-debe-4d3a-bf16-30ada3fa008e",
   "metadata": {},
   "outputs": [],
   "source": [
    "m3_accuracy = (model3_TP + model3_TN) / (model3_TP + model3_FP + model3_TN + model3_FN)"
   ]
  },
  {
   "cell_type": "code",
   "execution_count": 22,
   "id": "37435d05-eb34-4b8f-8350-acc2a80f313b",
   "metadata": {},
   "outputs": [],
   "source": [
    "m2_accuracy = (model2_TP + model2_TN) / (model2_TP + model2_FP + model2_TN + model2_FN)"
   ]
  },
  {
   "cell_type": "code",
   "execution_count": 23,
   "id": "4947520f-2c62-4d37-aaad-a29fe649dd6f",
   "metadata": {},
   "outputs": [],
   "source": [
    "m1_accuracy = (model1_TP + model1_TN) / (model1_TP + model1_FP + model1_TN + model1_FN)"
   ]
  },
  {
   "cell_type": "code",
   "execution_count": 24,
   "id": "18a9732a-abab-420e-a8ff-52af75053418",
   "metadata": {},
   "outputs": [],
   "source": [
    "m1_recall = model1_TP / (model1_TP + model1_FN)"
   ]
  },
  {
   "cell_type": "code",
   "execution_count": 25,
   "id": "1b4d9676-da7e-45c0-8c0c-fb1238d29648",
   "metadata": {},
   "outputs": [],
   "source": [
    "m2_recall = model2_TP / (model2_TP + model2_FN)"
   ]
  },
  {
   "cell_type": "code",
   "execution_count": 26,
   "id": "92a3b73d-0b0d-496a-840b-87c07c14fe2d",
   "metadata": {},
   "outputs": [],
   "source": [
    "m3_recall = model3_TP / (model3_TP + model3_FN)"
   ]
  },
  {
   "cell_type": "code",
   "execution_count": 27,
   "id": "2f36219c-9f10-4bb4-9881-1ca03d0d8e85",
   "metadata": {},
   "outputs": [
    {
     "name": "stdout",
     "output_type": "stream",
     "text": [
      " ------------ Accuracy | Precision | Recall |\n",
      " -------------------------------------------\n",
      " Model 1:        0.050 |  0.5000   | 0.0421 |\n",
      " Model 2:        0.450 |  0.5625   | 0.0804 |\n",
      " Model 3:        0.495 |  0.8125   | 0.1171 |\n"
     ]
    }
   ],
   "source": [
    "print(f' ------------ Accuracy | Precision | Recall |')\n",
    "print(f' -------------------------------------------')\n",
    "print(f' Model 1:       {m1_accuracy:6.3f} | {m1_precision:^9.4f} | {m1_recall:4.4f} |')\n",
    "print(f' Model 2:       {m2_accuracy:6.3f} | {m2_precision:^9.4f} | {m2_recall:6.4f} |')\n",
    "print(f' Model 3:       {m3_accuracy:6.3f} | {m3_precision:^9.4f} | {m3_recall:.4f} |')\n"
   ]
  },
  {
   "cell_type": "markdown",
   "id": "2fe633dd-78ab-4031-a497-5af6d37caa51",
   "metadata": {},
   "source": [
    "4. You are working as a data scientist for Gives You Paws ™, a subscription based service that shows you cute pictures of dogs or cats (or both for an additional fee).\n",
    "\n",
    "At Gives You Paws, anyone can upload pictures of their cats or dogs. The photos are then put through a two step process. First an automated algorithm tags pictures as either a cat or a dog (Phase I). Next, the photos that have been initially identified are put through another round of review, possibly with some human oversight, before being presented to the users (Phase II).\n",
    "\n",
    "Several models have already been developed with the data, and you can find their results here.\n",
    "\n",
    "Given this dataset, use pandas to create a baseline model (i.e. a model that just predicts the most common class) and answer the following questions:\n",
    "\n",
    "- In terms of accuracy, how do the various models compare to the baseline model? Are any of the models better than the baseline?\n",
    "- Suppose you are working on a team that solely deals with dog pictures. Which of these models would you recommend?\n",
    "- Suppose you are working on a team that solely deals with cat pictures. Which of these models would you recommend?"
   ]
  },
  {
   "cell_type": "markdown",
   "id": "8c7b1e88-d627-402e-ae1d-77d20060868a",
   "metadata": {},
   "source": [
    "5. Follow the links below to read the documentation about each function, then apply those functions to the data from the previous problem.\n",
    "\n",
    "- sklearn.metrics.accuracy_score\n",
    "- sklearn.metrics.precision_score\n",
    "- sklearn.metrics.recall_score\n",
    "- sklearn.metrics.classification_report"
   ]
  },
  {
   "cell_type": "code",
   "execution_count": null,
   "id": "bd3bd27b-ae95-41bd-894f-afb47ce58dbe",
   "metadata": {},
   "outputs": [],
   "source": []
  }
 ],
 "metadata": {
  "kernelspec": {
   "display_name": "Python 3 (ipykernel)",
   "language": "python",
   "name": "python3"
  },
  "language_info": {
   "codemirror_mode": {
    "name": "ipython",
    "version": 3
   },
   "file_extension": ".py",
   "mimetype": "text/x-python",
   "name": "python",
   "nbconvert_exporter": "python",
   "pygments_lexer": "ipython3",
   "version": "3.9.15"
  }
 },
 "nbformat": 4,
 "nbformat_minor": 5
}
