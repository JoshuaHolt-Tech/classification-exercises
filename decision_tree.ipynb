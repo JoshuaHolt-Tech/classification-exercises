{
 "cells": [
  {
   "cell_type": "markdown",
   "id": "1ba7b938-73d7-4075-b476-308fd9e39ed4",
   "metadata": {
    "tags": []
   },
   "source": [
    "# Imports:"
   ]
  },
  {
   "cell_type": "code",
   "execution_count": 1,
   "id": "68d1de92-266d-4d39-981d-b136fb3bb1ea",
   "metadata": {},
   "outputs": [],
   "source": [
    "# ignore warnings\n",
    "import warnings\n",
    "warnings.filterwarnings(\"ignore\")\n",
    "\n",
    "import pandas as pd\n",
    "import numpy as np\n",
    "\n",
    "from pydataset import data\n",
    "\n",
    "from sklearn.model_selection import train_test_split\n",
    "from sklearn.tree import DecisionTreeClassifier, plot_tree\n",
    "from sklearn.metrics import classification_report\n",
    "from sklearn.metrics import confusion_matrix\n",
    "from sklearn.metrics import accuracy_score\n",
    "from sklearn.metrics import precision_score\n",
    "from sklearn.metrics import recall_score\n",
    "from sklearn.metrics import ConfusionMatrixDisplay\n",
    "\n",
    "import matplotlib.pyplot as plt\n",
    "import seaborn as sns\n",
    "from env import get_connection\n",
    "\n",
    "import acquire, prepare\n",
    "\n",
    "pd.options.display.max_columns = None"
   ]
  },
  {
   "cell_type": "code",
   "execution_count": 2,
   "id": "74590a3d-ab3d-4fcd-8130-773cbfa5447c",
   "metadata": {},
   "outputs": [],
   "source": [
    "# 20% test, 80% train_validate\n",
    "# then of the 80% train_validate: 30% validate, 70% train. \n",
    "def train_validate(df, stratify_col = None):\n",
    "    \"\"\"\n",
    "    This function takes in a DataFrame and column name for the stratify argument (defualt is None).\n",
    "    It will split the data into three parts for training, testing and validating.\n",
    "    \"\"\"\n",
    "    #This is logic to set the stratify argument:\n",
    "    stratify_arg = ''\n",
    "    if stratify_col != None:\n",
    "        stratify_arg = df[stratify_col]\n",
    "    else:\n",
    "        stratify_arg = None\n",
    "    \n",
    "    #This splits the DataFrame into 'train' and 'test':\n",
    "    train, test = train_test_split(df, train_size=.7, stratify=stratify_arg, random_state = 321)\n",
    "    \n",
    "    #The length of the stratify column changed and needs to be adjusted:\n",
    "    if stratify_col != None:\n",
    "        stratify_arg = train[stratify_col]\n",
    "        \n",
    "    #This splits the larger 'train' DataFrame into a smaller 'train' and 'validate' DataFrames:\n",
    "    train, validate = train_test_split(train, test_size=.5, stratify=stratify_arg, random_state = 321)\n",
    "    return train, validate, test"
   ]
  },
  {
   "cell_type": "markdown",
   "id": "0d361795-454b-4e1c-8f8b-2e2834fce682",
   "metadata": {
    "tags": []
   },
   "source": [
    "# Part 1: Titanic"
   ]
  },
  {
   "cell_type": "code",
   "execution_count": 3,
   "id": "00dcbc63-9b00-42d3-8975-c51a8a7ee274",
   "metadata": {},
   "outputs": [],
   "source": [
    "#Acquire and prepare data for processing:\n",
    "titanic = acquire.get_titanic_data()\n",
    "titanic = prepare.prep_titanic(titanic)"
   ]
  },
  {
   "cell_type": "code",
   "execution_count": 4,
   "id": "b0cea294-023c-4ed9-9547-f955e1892a34",
   "metadata": {},
   "outputs": [],
   "source": [
    "#Splits data into three sets for testing. Stratifies on target column 'survived'.\n",
    "ti_train, ti_val, ti_test = train_validate(titanic, 'survived')"
   ]
  },
  {
   "cell_type": "code",
   "execution_count": 5,
   "id": "a1c971aa-2983-496f-9be7-a069c822006b",
   "metadata": {},
   "outputs": [
    {
     "data": {
      "text/plain": [
       "0    192\n",
       "1    119\n",
       "Name: survived, dtype: int64"
      ]
     },
     "execution_count": 5,
     "metadata": {},
     "output_type": "execute_result"
    }
   ],
   "source": [
    "#Establish baseline using the majority option of target column.\n",
    "ti_train.survived.value_counts()"
   ]
  },
  {
   "cell_type": "markdown",
   "id": "cd696e9f-a400-4225-9498-2c26e8364290",
   "metadata": {
    "tags": []
   },
   "source": [
    "### 1. What is your baseline prediction? What is your baseline accuracy? remember: your baseline prediction for a classification problem is predicting the most prevelant class in the training dataset (the mode). When you make those predictions, what is your accuracy? This is your baseline accuracy."
   ]
  },
  {
   "cell_type": "code",
   "execution_count": 6,
   "id": "b9a6d3e7-5944-4c98-8422-992098256142",
   "metadata": {},
   "outputs": [],
   "source": [
    "#Builds a DataFrame the same size as the train data set with the baseline of 0 or 'did not survive.'\n",
    "ti_base = pd.DataFrame()\n",
    "ti_base['baseline_prediction'] = ti_train['survived']\n",
    "ti_base['baseline_prediction'] = ti_base['baseline_prediction'] * 0"
   ]
  },
  {
   "cell_type": "code",
   "execution_count": 7,
   "id": "9fc98eb0-c76f-46f1-bb4b-28b3ba2459eb",
   "metadata": {},
   "outputs": [],
   "source": [
    "# In the telco example, the accuracy_score does not like 'int' type inputs. \n",
    "# For some reason it works here and all input as similar in type..."
   ]
  },
  {
   "cell_type": "code",
   "execution_count": 8,
   "id": "fda27aa8-2a0f-47c3-9101-4eac59b11385",
   "metadata": {},
   "outputs": [],
   "source": [
    "#Used to evaluate inputs to the accuracy_score function:\n",
    "#print(ti_base.info())\n",
    "#print(ti_train.survived.info())\n",
    "#print(ti_base.value_counts())\n",
    "#print(ti_train.survived.value_counts())"
   ]
  },
  {
   "cell_type": "code",
   "execution_count": 9,
   "id": "da8cf1c1-9210-4491-a1d7-6dded0ce1699",
   "metadata": {},
   "outputs": [
    {
     "name": "stdout",
     "output_type": "stream",
     "text": [
      "The baseline is: 0.617\n"
     ]
    }
   ],
   "source": [
    "ti_baseline = accuracy_score(ti_train.survived, ti_base.baseline_prediction)\n",
    "print(f'The baseline is: {ti_baseline:.3f}')"
   ]
  },
  {
   "cell_type": "markdown",
   "id": "2683de45-848c-4e67-84e4-3a59f451ea0a",
   "metadata": {
    "tags": []
   },
   "source": [
    "### 2. Fit the decision tree classifier to your training sample and transform (i.e. make predictions on the training sample)"
   ]
  },
  {
   "cell_type": "code",
   "execution_count": 10,
   "id": "b6ab45e4-03da-45be-8001-bb6cb739c70c",
   "metadata": {},
   "outputs": [],
   "source": [
    "#Creates the various sets and drops the target column from the X set:\n",
    "X_train = ti_train.drop(columns=['survived'])\n",
    "y_train = ti_train['survived']\n",
    "\n",
    "X_val = ti_val.drop(columns=['survived'])\n",
    "y_val = ti_val['survived']\n",
    "\n",
    "X_test = ti_test.drop(columns=['survived'])\n",
    "y_test = ti_test['survived']"
   ]
  },
  {
   "cell_type": "code",
   "execution_count": 11,
   "id": "46789603-9200-4133-b01f-b6e05cfa7942",
   "metadata": {},
   "outputs": [],
   "source": [
    "seed = 42\n",
    "\n",
    "clf = DecisionTreeClassifier(max_depth=3, random_state=42)"
   ]
  },
  {
   "cell_type": "code",
   "execution_count": 12,
   "id": "300404bb-0b08-4348-9e96-0cffc237e079",
   "metadata": {},
   "outputs": [],
   "source": [
    "# This is for an error where clf is trying to concat a string to an int.\n",
    "# It did not occure in my code and I'm unsure why.\n",
    "\n",
    "#class_names = np.array(clf.classes_).astype('str').tolist()"
   ]
  },
  {
   "cell_type": "code",
   "execution_count": 13,
   "id": "73491e19-db47-4037-90c6-fa6832155304",
   "metadata": {},
   "outputs": [
    {
     "data": {
      "text/plain": [
       "DecisionTreeClassifier(max_depth=3, random_state=42)"
      ]
     },
     "execution_count": 13,
     "metadata": {},
     "output_type": "execute_result"
    }
   ],
   "source": [
    "clf.fit(X_train, y_train)"
   ]
  },
  {
   "cell_type": "markdown",
   "id": "4665863f-7069-494c-a8a0-a6eed13f04b8",
   "metadata": {
    "tags": []
   },
   "source": [
    "### 3. Evaluate your in-sample results using the model score, confusion matrix, and classification report."
   ]
  },
  {
   "cell_type": "code",
   "execution_count": 14,
   "id": "d42e85af-1a84-498f-af89-b230e4bd6cd0",
   "metadata": {},
   "outputs": [
    {
     "data": {
      "text/plain": [
       "0.8167202572347267"
      ]
     },
     "execution_count": 14,
     "metadata": {},
     "output_type": "execute_result"
    }
   ],
   "source": [
    "#Model score:\n",
    "clf.score(X_train, y_train)"
   ]
  },
  {
   "cell_type": "code",
   "execution_count": 15,
   "id": "50751b12-654a-4cc0-bb3c-92e8351bc365",
   "metadata": {},
   "outputs": [
    {
     "data": {
      "text/html": [
       "<div>\n",
       "<style scoped>\n",
       "    .dataframe tbody tr th:only-of-type {\n",
       "        vertical-align: middle;\n",
       "    }\n",
       "\n",
       "    .dataframe tbody tr th {\n",
       "        vertical-align: top;\n",
       "    }\n",
       "\n",
       "    .dataframe thead th {\n",
       "        text-align: right;\n",
       "    }\n",
       "</style>\n",
       "<table border=\"1\" class=\"dataframe\">\n",
       "  <thead>\n",
       "    <tr style=\"text-align: right;\">\n",
       "      <th></th>\n",
       "      <th>Act_live</th>\n",
       "      <th>Act_death</th>\n",
       "    </tr>\n",
       "  </thead>\n",
       "  <tbody>\n",
       "    <tr>\n",
       "      <th>Pred_live</th>\n",
       "      <td>173</td>\n",
       "      <td>19</td>\n",
       "    </tr>\n",
       "    <tr>\n",
       "      <th>Pred_death</th>\n",
       "      <td>38</td>\n",
       "      <td>81</td>\n",
       "    </tr>\n",
       "  </tbody>\n",
       "</table>\n",
       "</div>"
      ],
      "text/plain": [
       "            Act_live  Act_death\n",
       "Pred_live        173         19\n",
       "Pred_death        38         81"
      ]
     },
     "execution_count": 15,
     "metadata": {},
     "output_type": "execute_result"
    }
   ],
   "source": [
    "#Confusion matrix:\n",
    "\n",
    "#Makes prediction on train obeservations\n",
    "y_pred = clf.predict(X_train)\n",
    "\n",
    "pd.DataFrame(confusion_matrix(y_train, y_pred), index=['Pred_live', 'Pred_death'], columns=['Act_live','Act_death'])"
   ]
  },
  {
   "cell_type": "code",
   "execution_count": 16,
   "id": "c5293631-02a4-459e-9b2f-b9d77e0795db",
   "metadata": {},
   "outputs": [],
   "source": [
    "#This is plotting the confusion matrix but I'm unsure how to get it to work at this time:\n",
    "\n",
    "#Website: https://scikit-learn.org/stable/auto_examples/model_selection/plot_confusion_matrix.html\n",
    "\n",
    "#plot_confusion_matrix(clf, X_train, y_train)"
   ]
  },
  {
   "cell_type": "code",
   "execution_count": 17,
   "id": "9d33868b-c77f-488b-ac14-b521e8ae405f",
   "metadata": {},
   "outputs": [
    {
     "name": "stdout",
     "output_type": "stream",
     "text": [
      "              precision    recall  f1-score   support\n",
      "\n",
      "           0       0.82      0.90      0.86       192\n",
      "           1       0.81      0.68      0.74       119\n",
      "\n",
      "    accuracy                           0.82       311\n",
      "   macro avg       0.81      0.79      0.80       311\n",
      "weighted avg       0.82      0.82      0.81       311\n",
      "\n"
     ]
    }
   ],
   "source": [
    "#Classification report:\n",
    "print(classification_report(y_train, y_pred),)"
   ]
  },
  {
   "cell_type": "markdown",
   "id": "1d598a07-4e28-4180-9f67-962a21a2207b",
   "metadata": {
    "tags": []
   },
   "source": [
    "### 4. Compute: Accuracy, true positive rate, false positive rate, true negative rate, false negative rate, precision, recall, f1-score, and support."
   ]
  },
  {
   "cell_type": "code",
   "execution_count": 18,
   "id": "05400541-8abf-42a9-9bca-06555ae22af7",
   "metadata": {},
   "outputs": [
    {
     "name": "stdout",
     "output_type": "stream",
     "text": [
      "              precision    recall  f1-score   support\n",
      "\n",
      "           0       0.82      0.90      0.86       192\n",
      "           1       0.81      0.68      0.74       119\n",
      "\n",
      "    accuracy                           0.82       311\n",
      "   macro avg       0.81      0.79      0.80       311\n",
      "weighted avg       0.82      0.82      0.81       311\n",
      "\n"
     ]
    }
   ],
   "source": [
    "#This seems repetitive so I incorperated the validate data set:\n",
    "print(classification_report(y_train, y_pred))"
   ]
  },
  {
   "cell_type": "code",
   "execution_count": 19,
   "id": "5b589f1f-ee6b-4587-aeb3-361919cf6ca8",
   "metadata": {},
   "outputs": [
    {
     "data": {
      "text/html": [
       "<div>\n",
       "<style scoped>\n",
       "    .dataframe tbody tr th:only-of-type {\n",
       "        vertical-align: middle;\n",
       "    }\n",
       "\n",
       "    .dataframe tbody tr th {\n",
       "        vertical-align: top;\n",
       "    }\n",
       "\n",
       "    .dataframe thead th {\n",
       "        text-align: right;\n",
       "    }\n",
       "</style>\n",
       "<table border=\"1\" class=\"dataframe\">\n",
       "  <thead>\n",
       "    <tr style=\"text-align: right;\">\n",
       "      <th></th>\n",
       "      <th>Act_live</th>\n",
       "      <th>Act_death</th>\n",
       "    </tr>\n",
       "  </thead>\n",
       "  <tbody>\n",
       "    <tr>\n",
       "      <th>Pred_live</th>\n",
       "      <td>174</td>\n",
       "      <td>18</td>\n",
       "    </tr>\n",
       "    <tr>\n",
       "      <th>Pred_death</th>\n",
       "      <td>44</td>\n",
       "      <td>76</td>\n",
       "    </tr>\n",
       "  </tbody>\n",
       "</table>\n",
       "</div>"
      ],
      "text/plain": [
       "            Act_live  Act_death\n",
       "Pred_live        174         18\n",
       "Pred_death        44         76"
      ]
     },
     "execution_count": 19,
     "metadata": {},
     "output_type": "execute_result"
    }
   ],
   "source": [
    "#Prediction based on validate data:\n",
    "y_val_pred = clf.predict(X_val)\n",
    "pd.DataFrame(confusion_matrix(y_val, y_val_pred), index=['Pred_live', 'Pred_death'], columns=['Act_live','Act_death'])"
   ]
  },
  {
   "cell_type": "code",
   "execution_count": 20,
   "id": "047b7208-a8f6-43bc-830c-317aeffe57c3",
   "metadata": {},
   "outputs": [
    {
     "data": {
      "text/plain": [
       "0.8167202572347267"
      ]
     },
     "execution_count": 20,
     "metadata": {},
     "output_type": "execute_result"
    }
   ],
   "source": [
    "#Comparison of the model on the training and validate data sets:\n",
    "#Training data set\n",
    "accuracy_score(y_train, y_pred)"
   ]
  },
  {
   "cell_type": "code",
   "execution_count": 21,
   "id": "b6d47f9b-d61a-4004-8217-8f46f4c24216",
   "metadata": {},
   "outputs": [
    {
     "data": {
      "text/plain": [
       "0.8012820512820513"
      ]
     },
     "execution_count": 21,
     "metadata": {},
     "output_type": "execute_result"
    }
   ],
   "source": [
    "#Validate data set\n",
    "accuracy_score(y_val, y_val_pred)"
   ]
  },
  {
   "cell_type": "code",
   "execution_count": 22,
   "id": "44d76d26-325e-4825-852b-83083267a6bd",
   "metadata": {},
   "outputs": [
    {
     "data": {
      "text/plain": [
       "(173, 19, 38, 81)"
      ]
     },
     "execution_count": 22,
     "metadata": {},
     "output_type": "execute_result"
    }
   ],
   "source": [
    "#Interesting way to snag values from confusion_matrix:\n",
    "TN, FP, FN, TP = confusion_matrix(y_train, y_pred).ravel()\n",
    "TN, FP, FN, TP"
   ]
  },
  {
   "cell_type": "code",
   "execution_count": 23,
   "id": "7d30d2e2-096c-4c05-b252-073686566855",
   "metadata": {},
   "outputs": [
    {
     "name": "stdout",
     "output_type": "stream",
     "text": [
      "Tree with max depth of 1\n",
      "                    0           1  accuracy   macro avg  weighted avg\n",
      "precision    0.811881    0.743119  0.787781    0.777500      0.785570\n",
      "recall       0.854167    0.680672  0.787781    0.767419      0.787781\n",
      "f1-score     0.832487    0.710526  0.787781    0.771507      0.785821\n",
      "support    192.000000  119.000000  0.787781  311.000000    311.000000\n",
      "\n",
      "Tree with max depth of 2\n",
      "                    0           1  accuracy   macro avg  weighted avg\n",
      "precision    0.769231    0.968750  0.810289    0.868990      0.845574\n",
      "recall       0.989583    0.521008  0.810289    0.755296      0.810289\n",
      "f1-score     0.865604    0.677596  0.810289    0.771600      0.793665\n",
      "support    192.000000  119.000000  0.810289  311.000000    311.000000\n",
      "\n",
      "Tree with max depth of 3\n",
      "                    0           1  accuracy   macro avg  weighted avg\n",
      "precision    0.819905    0.810000   0.81672    0.814953      0.816115\n",
      "recall       0.901042    0.680672   0.81672    0.790857      0.816720\n",
      "f1-score     0.858561    0.739726   0.81672    0.799143      0.813090\n",
      "support    192.000000  119.000000   0.81672  311.000000    311.000000\n",
      "\n",
      "Tree with max depth of 4\n",
      "                    0           1  accuracy   macro avg  weighted avg\n",
      "precision    0.811159    0.961538  0.848875    0.886349      0.868700\n",
      "recall       0.984375    0.630252  0.848875    0.807314      0.848875\n",
      "f1-score     0.889412    0.761421  0.848875    0.825417      0.840438\n",
      "support    192.000000  119.000000  0.848875  311.000000    311.000000\n",
      "\n",
      "Tree with max depth of 5\n",
      "                    0           1  accuracy   macro avg  weighted avg\n",
      "precision    0.859223    0.857143  0.858521    0.858183      0.858427\n",
      "recall       0.921875    0.756303  0.858521    0.839089      0.858521\n",
      "f1-score     0.889447    0.803571  0.858521    0.846509      0.856588\n",
      "support    192.000000  119.000000  0.858521  311.000000    311.000000\n",
      "\n",
      "Tree with max depth of 6\n",
      "                    0           1  accuracy   macro avg  weighted avg\n",
      "precision    0.861111    0.936842  0.884244    0.898977      0.890089\n",
      "recall       0.968750    0.747899  0.884244    0.858325      0.884244\n",
      "f1-score     0.911765    0.831776  0.884244    0.871770      0.881158\n",
      "support    192.000000  119.000000  0.884244  311.000000    311.000000\n",
      "\n",
      "Tree with max depth of 7\n",
      "                    0           1  accuracy   macro avg  weighted avg\n",
      "precision    0.890476    0.950495  0.909968    0.920486      0.913442\n",
      "recall       0.973958    0.806723  0.909968    0.890341      0.909968\n",
      "f1-score     0.930348    0.872727  0.909968    0.901538      0.908300\n",
      "support    192.000000  119.000000  0.909968  311.000000    311.000000\n",
      "\n",
      "Tree with max depth of 8\n",
      "                    0           1  accuracy   macro avg  weighted avg\n",
      "precision    0.912621    0.961905   0.92926    0.937263      0.931479\n",
      "recall       0.979167    0.848739   0.92926    0.913953      0.929260\n",
      "f1-score     0.944724    0.901786   0.92926    0.923255      0.928294\n",
      "support    192.000000  119.000000   0.92926  311.000000    311.000000\n",
      "\n",
      "Tree with max depth of 9\n",
      "                    0           1  accuracy   macro avg  weighted avg\n",
      "precision    0.913043    0.971154  0.932476    0.942099      0.935279\n",
      "recall       0.984375    0.848739  0.932476    0.916557      0.932476\n",
      "f1-score     0.947368    0.905830  0.932476    0.926599      0.931474\n",
      "support    192.000000  119.000000  0.932476  311.000000    311.000000\n",
      "\n",
      "Tree with max depth of 10\n",
      "                    0           1  accuracy   macro avg  weighted avg\n",
      "precision    0.921951    0.971698  0.938907    0.946825      0.940986\n",
      "recall       0.984375    0.865546  0.938907    0.924961      0.938907\n",
      "f1-score     0.952141    0.915556  0.938907    0.933848      0.938142\n",
      "support    192.000000  119.000000  0.938907  311.000000    311.000000\n",
      "\n",
      "Tree with max depth of 11\n",
      "                    0           1  accuracy   macro avg  weighted avg\n",
      "precision    0.921951    0.971698  0.938907    0.946825      0.940986\n",
      "recall       0.984375    0.865546  0.938907    0.924961      0.938907\n",
      "f1-score     0.952141    0.915556  0.938907    0.933848      0.938142\n",
      "support    192.000000  119.000000  0.938907  311.000000    311.000000\n",
      "\n",
      "Tree with max depth of 12\n",
      "                    0           1  accuracy   macro avg  weighted avg\n",
      "precision    0.926471    0.971963  0.942122    0.949217      0.943878\n",
      "recall       0.984375    0.873950  0.942122    0.929162      0.942122\n",
      "f1-score     0.954545    0.920354  0.942122    0.937450      0.941463\n",
      "support    192.000000  119.000000  0.942122  311.000000    311.000000\n",
      "\n",
      "Tree with max depth of 13\n",
      "                    0           1  accuracy   macro avg  weighted avg\n",
      "precision    0.926471    0.971963  0.942122    0.949217      0.943878\n",
      "recall       0.984375    0.873950  0.942122    0.929162      0.942122\n",
      "f1-score     0.954545    0.920354  0.942122    0.937450      0.941463\n",
      "support    192.000000  119.000000  0.942122  311.000000    311.000000\n",
      "\n",
      "Tree with max depth of 14\n",
      "                    0           1  accuracy   macro avg  weighted avg\n",
      "precision    0.926471    0.971963  0.942122    0.949217      0.943878\n",
      "recall       0.984375    0.873950  0.942122    0.929162      0.942122\n",
      "f1-score     0.954545    0.920354  0.942122    0.937450      0.941463\n",
      "support    192.000000  119.000000  0.942122  311.000000    311.000000\n",
      "\n",
      "Tree with max depth of 15\n",
      "                    0           1  accuracy   macro avg  weighted avg\n",
      "precision    0.926471    0.971963  0.942122    0.949217      0.943878\n",
      "recall       0.984375    0.873950  0.942122    0.929162      0.942122\n",
      "f1-score     0.954545    0.920354  0.942122    0.937450      0.941463\n",
      "support    192.000000  119.000000  0.942122  311.000000    311.000000\n",
      "\n",
      "Tree with max depth of 16\n",
      "                    0           1  accuracy   macro avg  weighted avg\n",
      "precision    0.926471    0.971963  0.942122    0.949217      0.943878\n",
      "recall       0.984375    0.873950  0.942122    0.929162      0.942122\n",
      "f1-score     0.954545    0.920354  0.942122    0.937450      0.941463\n",
      "support    192.000000  119.000000  0.942122  311.000000    311.000000\n",
      "\n",
      "Tree with max depth of 17\n",
      "                    0           1  accuracy   macro avg  weighted avg\n",
      "precision    0.926471    0.971963  0.942122    0.949217      0.943878\n",
      "recall       0.984375    0.873950  0.942122    0.929162      0.942122\n",
      "f1-score     0.954545    0.920354  0.942122    0.937450      0.941463\n",
      "support    192.000000  119.000000  0.942122  311.000000    311.000000\n",
      "\n",
      "Tree with max depth of 18\n",
      "                    0           1  accuracy   macro avg  weighted avg\n",
      "precision    0.926471    0.971963  0.942122    0.949217      0.943878\n",
      "recall       0.984375    0.873950  0.942122    0.929162      0.942122\n",
      "f1-score     0.954545    0.920354  0.942122    0.937450      0.941463\n",
      "support    192.000000  119.000000  0.942122  311.000000    311.000000\n",
      "\n",
      "Tree with max depth of 19\n",
      "                    0           1  accuracy   macro avg  weighted avg\n",
      "precision    0.926471    0.971963  0.942122    0.949217      0.943878\n",
      "recall       0.984375    0.873950  0.942122    0.929162      0.942122\n",
      "f1-score     0.954545    0.920354  0.942122    0.937450      0.941463\n",
      "support    192.000000  119.000000  0.942122  311.000000    311.000000\n",
      "\n",
      "Tree with max depth of 20\n",
      "                    0           1  accuracy   macro avg  weighted avg\n",
      "precision    0.926471    0.971963  0.942122    0.949217      0.943878\n",
      "recall       0.984375    0.873950  0.942122    0.929162      0.942122\n",
      "f1-score     0.954545    0.920354  0.942122    0.937450      0.941463\n",
      "support    192.000000  119.000000  0.942122  311.000000    311.000000\n",
      "\n"
     ]
    }
   ],
   "source": [
    "for i in range(1, 21):\n",
    "    trees = DecisionTreeClassifier(max_depth=i, random_state=42)\n",
    "    trees = trees.fit(X_train, y_train)\n",
    "    y_preds = trees.predict(X_train)\n",
    "    report = classification_report(y_train, y_preds, output_dict=True) #output_dict makes the output a dictionary.\n",
    "    print(f'Tree with max depth of {i}')\n",
    "    print(pd.DataFrame(report))\n",
    "    print()"
   ]
  },
  {
   "cell_type": "code",
   "execution_count": 24,
   "id": "8ba040f2-7a45-4aea-85b4-6ddc71f62f89",
   "metadata": {},
   "outputs": [
    {
     "data": {
      "text/html": [
       "<div>\n",
       "<style scoped>\n",
       "    .dataframe tbody tr th:only-of-type {\n",
       "        vertical-align: middle;\n",
       "    }\n",
       "\n",
       "    .dataframe tbody tr th {\n",
       "        vertical-align: top;\n",
       "    }\n",
       "\n",
       "    .dataframe thead th {\n",
       "        text-align: right;\n",
       "    }\n",
       "</style>\n",
       "<table border=\"1\" class=\"dataframe\">\n",
       "  <thead>\n",
       "    <tr style=\"text-align: right;\">\n",
       "      <th></th>\n",
       "      <th>max_depth</th>\n",
       "      <th>train_accuracy</th>\n",
       "      <th>validate_accuracy</th>\n",
       "      <th>difference</th>\n",
       "    </tr>\n",
       "  </thead>\n",
       "  <tbody>\n",
       "    <tr>\n",
       "      <th>0</th>\n",
       "      <td>1</td>\n",
       "      <td>0.787781</td>\n",
       "      <td>0.778846</td>\n",
       "      <td>0.008935</td>\n",
       "    </tr>\n",
       "    <tr>\n",
       "      <th>1</th>\n",
       "      <td>2</td>\n",
       "      <td>0.810289</td>\n",
       "      <td>0.778846</td>\n",
       "      <td>0.031443</td>\n",
       "    </tr>\n",
       "    <tr>\n",
       "      <th>2</th>\n",
       "      <td>3</td>\n",
       "      <td>0.816720</td>\n",
       "      <td>0.801282</td>\n",
       "      <td>0.015438</td>\n",
       "    </tr>\n",
       "    <tr>\n",
       "      <th>3</th>\n",
       "      <td>4</td>\n",
       "      <td>0.848875</td>\n",
       "      <td>0.775641</td>\n",
       "      <td>0.073234</td>\n",
       "    </tr>\n",
       "    <tr>\n",
       "      <th>4</th>\n",
       "      <td>5</td>\n",
       "      <td>0.858521</td>\n",
       "      <td>0.791667</td>\n",
       "      <td>0.066854</td>\n",
       "    </tr>\n",
       "    <tr>\n",
       "      <th>5</th>\n",
       "      <td>6</td>\n",
       "      <td>0.884244</td>\n",
       "      <td>0.788462</td>\n",
       "      <td>0.095783</td>\n",
       "    </tr>\n",
       "    <tr>\n",
       "      <th>6</th>\n",
       "      <td>7</td>\n",
       "      <td>0.909968</td>\n",
       "      <td>0.782051</td>\n",
       "      <td>0.127917</td>\n",
       "    </tr>\n",
       "    <tr>\n",
       "      <th>7</th>\n",
       "      <td>8</td>\n",
       "      <td>0.929260</td>\n",
       "      <td>0.791667</td>\n",
       "      <td>0.137594</td>\n",
       "    </tr>\n",
       "    <tr>\n",
       "      <th>8</th>\n",
       "      <td>9</td>\n",
       "      <td>0.932476</td>\n",
       "      <td>0.791667</td>\n",
       "      <td>0.140809</td>\n",
       "    </tr>\n",
       "    <tr>\n",
       "      <th>9</th>\n",
       "      <td>10</td>\n",
       "      <td>0.938907</td>\n",
       "      <td>0.794872</td>\n",
       "      <td>0.144035</td>\n",
       "    </tr>\n",
       "    <tr>\n",
       "      <th>10</th>\n",
       "      <td>11</td>\n",
       "      <td>0.938907</td>\n",
       "      <td>0.794872</td>\n",
       "      <td>0.144035</td>\n",
       "    </tr>\n",
       "    <tr>\n",
       "      <th>11</th>\n",
       "      <td>12</td>\n",
       "      <td>0.942122</td>\n",
       "      <td>0.791667</td>\n",
       "      <td>0.150456</td>\n",
       "    </tr>\n",
       "    <tr>\n",
       "      <th>12</th>\n",
       "      <td>13</td>\n",
       "      <td>0.942122</td>\n",
       "      <td>0.798077</td>\n",
       "      <td>0.144045</td>\n",
       "    </tr>\n",
       "    <tr>\n",
       "      <th>13</th>\n",
       "      <td>14</td>\n",
       "      <td>0.942122</td>\n",
       "      <td>0.798077</td>\n",
       "      <td>0.144045</td>\n",
       "    </tr>\n",
       "    <tr>\n",
       "      <th>14</th>\n",
       "      <td>15</td>\n",
       "      <td>0.942122</td>\n",
       "      <td>0.798077</td>\n",
       "      <td>0.144045</td>\n",
       "    </tr>\n",
       "    <tr>\n",
       "      <th>15</th>\n",
       "      <td>16</td>\n",
       "      <td>0.942122</td>\n",
       "      <td>0.798077</td>\n",
       "      <td>0.144045</td>\n",
       "    </tr>\n",
       "    <tr>\n",
       "      <th>16</th>\n",
       "      <td>17</td>\n",
       "      <td>0.942122</td>\n",
       "      <td>0.798077</td>\n",
       "      <td>0.144045</td>\n",
       "    </tr>\n",
       "    <tr>\n",
       "      <th>17</th>\n",
       "      <td>18</td>\n",
       "      <td>0.942122</td>\n",
       "      <td>0.798077</td>\n",
       "      <td>0.144045</td>\n",
       "    </tr>\n",
       "    <tr>\n",
       "      <th>18</th>\n",
       "      <td>19</td>\n",
       "      <td>0.942122</td>\n",
       "      <td>0.798077</td>\n",
       "      <td>0.144045</td>\n",
       "    </tr>\n",
       "    <tr>\n",
       "      <th>19</th>\n",
       "      <td>20</td>\n",
       "      <td>0.942122</td>\n",
       "      <td>0.798077</td>\n",
       "      <td>0.144045</td>\n",
       "    </tr>\n",
       "    <tr>\n",
       "      <th>20</th>\n",
       "      <td>21</td>\n",
       "      <td>0.942122</td>\n",
       "      <td>0.798077</td>\n",
       "      <td>0.144045</td>\n",
       "    </tr>\n",
       "    <tr>\n",
       "      <th>21</th>\n",
       "      <td>22</td>\n",
       "      <td>0.942122</td>\n",
       "      <td>0.798077</td>\n",
       "      <td>0.144045</td>\n",
       "    </tr>\n",
       "    <tr>\n",
       "      <th>22</th>\n",
       "      <td>23</td>\n",
       "      <td>0.942122</td>\n",
       "      <td>0.798077</td>\n",
       "      <td>0.144045</td>\n",
       "    </tr>\n",
       "    <tr>\n",
       "      <th>23</th>\n",
       "      <td>24</td>\n",
       "      <td>0.942122</td>\n",
       "      <td>0.798077</td>\n",
       "      <td>0.144045</td>\n",
       "    </tr>\n",
       "  </tbody>\n",
       "</table>\n",
       "</div>"
      ],
      "text/plain": [
       "    max_depth  train_accuracy  validate_accuracy  difference\n",
       "0           1        0.787781           0.778846    0.008935\n",
       "1           2        0.810289           0.778846    0.031443\n",
       "2           3        0.816720           0.801282    0.015438\n",
       "3           4        0.848875           0.775641    0.073234\n",
       "4           5        0.858521           0.791667    0.066854\n",
       "5           6        0.884244           0.788462    0.095783\n",
       "6           7        0.909968           0.782051    0.127917\n",
       "7           8        0.929260           0.791667    0.137594\n",
       "8           9        0.932476           0.791667    0.140809\n",
       "9          10        0.938907           0.794872    0.144035\n",
       "10         11        0.938907           0.794872    0.144035\n",
       "11         12        0.942122           0.791667    0.150456\n",
       "12         13        0.942122           0.798077    0.144045\n",
       "13         14        0.942122           0.798077    0.144045\n",
       "14         15        0.942122           0.798077    0.144045\n",
       "15         16        0.942122           0.798077    0.144045\n",
       "16         17        0.942122           0.798077    0.144045\n",
       "17         18        0.942122           0.798077    0.144045\n",
       "18         19        0.942122           0.798077    0.144045\n",
       "19         20        0.942122           0.798077    0.144045\n",
       "20         21        0.942122           0.798077    0.144045\n",
       "21         22        0.942122           0.798077    0.144045\n",
       "22         23        0.942122           0.798077    0.144045\n",
       "23         24        0.942122           0.798077    0.144045"
      ]
     },
     "execution_count": 24,
     "metadata": {},
     "output_type": "execute_result"
    }
   ],
   "source": [
    "metrics = []\n",
    "\n",
    "for i in range(1, 25):\n",
    "    trees = DecisionTreeClassifier(max_depth=i, random_state=42)\n",
    "    trees = trees.fit(X_train, y_train)\n",
    "    in_sample_accuracy = trees.score(X_train, y_train)\n",
    "    out_of_sample_accuracy = trees.score(X_val, y_val)\n",
    "\n",
    "    output = {\"max_depth\" : i, \"train_accuracy\": in_sample_accuracy, \"validate_accuracy\": out_of_sample_accuracy}\n",
    "              \n",
    "    metrics.append(output)\n",
    "\n",
    "df = pd.DataFrame(metrics)              \n",
    "df['difference'] = df.train_accuracy - df.validate_accuracy              \n",
    "df              \n"
   ]
  },
  {
   "cell_type": "code",
   "execution_count": 25,
   "id": "5dcb2e13-105f-4e68-aa73-2fe8dcdabac8",
   "metadata": {},
   "outputs": [
    {
     "data": {
      "image/png": "[encoded data removed]",
      "text/plain": [
       "<Figure size 1200x600 with 1 Axes>"
      ]
     },
     "metadata": {},
     "output_type": "display_data"
    }
   ],
   "source": [
    "\n",
    "plt.figure(figsize=(12,6))\n",
    "plt.plot(df.max_depth, df.train_accuracy, marker = 'o', label= 'Train')\n",
    "plt.plot(df.max_depth, df.validate_accuracy, marker = 'o', label= 'Validate')\n",
    "plt.legend()\n",
    "plt.title(\"Decision Tree scores while adjusting max_depth\")\n",
    "plt.show()\n"
   ]
  },
  {
   "cell_type": "markdown",
   "id": "002c4336-9928-4564-9313-fb44be6f0ace",
   "metadata": {
    "tags": []
   },
   "source": [
    "### 5. Run through steps 2-4 using a different max_depth value."
   ]
  },
  {
   "cell_type": "code",
   "execution_count": 26,
   "id": "400cfb5e-9567-448b-aab5-b868243e3cc7",
   "metadata": {},
   "outputs": [],
   "source": [
    "seed = 42\n",
    "clf = DecisionTreeClassifier(max_depth=5, random_state=42)"
   ]
  },
  {
   "cell_type": "code",
   "execution_count": 27,
   "id": "0c3ac5dd-b69e-4a80-9a39-ed253f90c642",
   "metadata": {},
   "outputs": [
    {
     "data": {
      "text/plain": [
       "DecisionTreeClassifier(max_depth=5, random_state=42)"
      ]
     },
     "execution_count": 27,
     "metadata": {},
     "output_type": "execute_result"
    }
   ],
   "source": [
    "clf.fit(X_train, y_train)"
   ]
  },
  {
   "cell_type": "code",
   "execution_count": 28,
   "id": "65b56aa3-fdb6-43bd-93cf-cbdbbf1aabb9",
   "metadata": {},
   "outputs": [
    {
     "data": {
      "text/plain": [
       "0.8585209003215434"
      ]
     },
     "execution_count": 28,
     "metadata": {},
     "output_type": "execute_result"
    }
   ],
   "source": [
    "clf.score(X_train, y_train)"
   ]
  },
  {
   "cell_type": "code",
   "execution_count": 29,
   "id": "ce283440-e200-45ef-ae74-a54c97449908",
   "metadata": {},
   "outputs": [],
   "source": [
    "y_pred = clf.predict(X_train)"
   ]
  },
  {
   "cell_type": "code",
   "execution_count": 30,
   "id": "bd2fb5fa-6778-486a-90ce-5f5b41d9b1bf",
   "metadata": {},
   "outputs": [
    {
     "data": {
      "text/html": [
       "<div>\n",
       "<style scoped>\n",
       "    .dataframe tbody tr th:only-of-type {\n",
       "        vertical-align: middle;\n",
       "    }\n",
       "\n",
       "    .dataframe tbody tr th {\n",
       "        vertical-align: top;\n",
       "    }\n",
       "\n",
       "    .dataframe thead th {\n",
       "        text-align: right;\n",
       "    }\n",
       "</style>\n",
       "<table border=\"1\" class=\"dataframe\">\n",
       "  <thead>\n",
       "    <tr style=\"text-align: right;\">\n",
       "      <th></th>\n",
       "      <th>Act_live</th>\n",
       "      <th>Act_death</th>\n",
       "    </tr>\n",
       "  </thead>\n",
       "  <tbody>\n",
       "    <tr>\n",
       "      <th>Pred_live</th>\n",
       "      <td>177</td>\n",
       "      <td>15</td>\n",
       "    </tr>\n",
       "    <tr>\n",
       "      <th>Pred_death</th>\n",
       "      <td>29</td>\n",
       "      <td>90</td>\n",
       "    </tr>\n",
       "  </tbody>\n",
       "</table>\n",
       "</div>"
      ],
      "text/plain": [
       "            Act_live  Act_death\n",
       "Pred_live        177         15\n",
       "Pred_death        29         90"
      ]
     },
     "execution_count": 30,
     "metadata": {},
     "output_type": "execute_result"
    }
   ],
   "source": [
    "pd.DataFrame(confusion_matrix(y_train, y_pred), index=['Pred_live', 'Pred_death'], columns=['Act_live','Act_death'])"
   ]
  },
  {
   "cell_type": "code",
   "execution_count": 31,
   "id": "56661d86-e8e3-45dc-8bd7-47a56a6d44b7",
   "metadata": {},
   "outputs": [
    {
     "name": "stdout",
     "output_type": "stream",
     "text": [
      "              precision    recall  f1-score   support\n",
      "\n",
      "           0       0.86      0.92      0.89       192\n",
      "           1       0.86      0.76      0.80       119\n",
      "\n",
      "    accuracy                           0.86       311\n",
      "   macro avg       0.86      0.84      0.85       311\n",
      "weighted avg       0.86      0.86      0.86       311\n",
      "\n"
     ]
    }
   ],
   "source": [
    "print(\n",
    "    classification_report(y_train, y_pred),)"
   ]
  },
  {
   "cell_type": "code",
   "execution_count": 32,
   "id": "09bd5645-c65f-4486-b4e2-251ce989cbc2",
   "metadata": {},
   "outputs": [
    {
     "data": {
      "text/html": [
       "<div>\n",
       "<style scoped>\n",
       "    .dataframe tbody tr th:only-of-type {\n",
       "        vertical-align: middle;\n",
       "    }\n",
       "\n",
       "    .dataframe tbody tr th {\n",
       "        vertical-align: top;\n",
       "    }\n",
       "\n",
       "    .dataframe thead th {\n",
       "        text-align: right;\n",
       "    }\n",
       "</style>\n",
       "<table border=\"1\" class=\"dataframe\">\n",
       "  <thead>\n",
       "    <tr style=\"text-align: right;\">\n",
       "      <th></th>\n",
       "      <th>Act_live</th>\n",
       "      <th>Act_death</th>\n",
       "    </tr>\n",
       "  </thead>\n",
       "  <tbody>\n",
       "    <tr>\n",
       "      <th>Pred_live</th>\n",
       "      <td>178</td>\n",
       "      <td>14</td>\n",
       "    </tr>\n",
       "    <tr>\n",
       "      <th>Pred_death</th>\n",
       "      <td>51</td>\n",
       "      <td>69</td>\n",
       "    </tr>\n",
       "  </tbody>\n",
       "</table>\n",
       "</div>"
      ],
      "text/plain": [
       "            Act_live  Act_death\n",
       "Pred_live        178         14\n",
       "Pred_death        51         69"
      ]
     },
     "execution_count": 32,
     "metadata": {},
     "output_type": "execute_result"
    }
   ],
   "source": [
    "y_val_pred = clf.predict(X_val)\n",
    "\n",
    "pd.DataFrame(confusion_matrix(y_val, y_val_pred), index=['Pred_live', 'Pred_death'], columns=['Act_live','Act_death'])"
   ]
  },
  {
   "cell_type": "code",
   "execution_count": 33,
   "id": "e30c4e60-fb85-48d6-9bdc-56bdc2e83a68",
   "metadata": {},
   "outputs": [
    {
     "data": {
      "text/plain": [
       "0.7916666666666666"
      ]
     },
     "execution_count": 33,
     "metadata": {},
     "output_type": "execute_result"
    }
   ],
   "source": [
    "accuracy_score(y_val, y_val_pred)"
   ]
  },
  {
   "cell_type": "markdown",
   "id": "8c98dae8-25e7-468d-ae93-014ec715d800",
   "metadata": {
    "tags": []
   },
   "source": [
    "### 6. Which model performs better on your in-sample data?"
   ]
  },
  {
   "cell_type": "markdown",
   "id": "023bd4dd-072a-4329-8956-e6c4260524c7",
   "metadata": {},
   "source": [
    "The depth 5 model performs better on the training data. Step 5."
   ]
  },
  {
   "cell_type": "markdown",
   "id": "38540720-8f4e-46d7-8931-099379eeeca8",
   "metadata": {
    "tags": []
   },
   "source": [
    "### 7. Which model performs best on your out-of-sample data, the validate set?"
   ]
  },
  {
   "cell_type": "markdown",
   "id": "15d36d26-1bd7-4415-9e44-4e9fffb172df",
   "metadata": {},
   "source": [
    "The depth 3 model performs better on the training data. Steps <=4."
   ]
  },
  {
   "cell_type": "markdown",
   "id": "c467613d-1094-4373-95fa-ba65a64c22fd",
   "metadata": {
    "tags": []
   },
   "source": [
    "# Part 2: Telco churn"
   ]
  },
  {
   "cell_type": "markdown",
   "id": "dfe5642b-e296-4aa4-a3f9-0899cad82104",
   "metadata": {},
   "source": [
    "## 1. Work through these same exercises using the Telco dataset."
   ]
  },
  {
   "cell_type": "code",
   "execution_count": 34,
   "id": "c61ff5ab-1da1-47e5-b32b-1ff7960516f4",
   "metadata": {},
   "outputs": [],
   "source": [
    "telco = acquire.get_telco_data()"
   ]
  },
  {
   "cell_type": "code",
   "execution_count": 35,
   "id": "a6698444-588b-41a1-a66f-e43fab54db1a",
   "metadata": {},
   "outputs": [
    {
     "name": "stdout",
     "output_type": "stream",
     "text": [
      "<class 'pandas.core.frame.DataFrame'>\n",
      "RangeIndex: 7043 entries, 0 to 7042\n",
      "Data columns (total 24 columns):\n",
      " #   Column                    Non-Null Count  Dtype  \n",
      "---  ------                    --------------  -----  \n",
      " 0   payment_type_id           7043 non-null   int64  \n",
      " 1   internet_service_type_id  7043 non-null   int64  \n",
      " 2   contract_type_id          7043 non-null   int64  \n",
      " 3   customer_id               7043 non-null   object \n",
      " 4   gender                    7043 non-null   object \n",
      " 5   senior_citizen            7043 non-null   int64  \n",
      " 6   partner                   7043 non-null   object \n",
      " 7   dependents                7043 non-null   object \n",
      " 8   tenure                    7043 non-null   int64  \n",
      " 9   phone_service             7043 non-null   object \n",
      " 10  multiple_lines            7043 non-null   object \n",
      " 11  online_security           7043 non-null   object \n",
      " 12  online_backup             7043 non-null   object \n",
      " 13  device_protection         7043 non-null   object \n",
      " 14  tech_support              7043 non-null   object \n",
      " 15  streaming_tv              7043 non-null   object \n",
      " 16  streaming_movies          7043 non-null   object \n",
      " 17  paperless_billing         7043 non-null   object \n",
      " 18  monthly_charges           7043 non-null   float64\n",
      " 19  total_charges             7043 non-null   object \n",
      " 20  churn                     7043 non-null   object \n",
      " 21  contract_type             7043 non-null   object \n",
      " 22  internet_service_type     7043 non-null   object \n",
      " 23  payment_type              7043 non-null   object \n",
      "dtypes: float64(1), int64(5), object(18)\n",
      "memory usage: 1.3+ MB\n"
     ]
    }
   ],
   "source": [
    "init_info = telco.info()"
   ]
  },
  {
   "cell_type": "code",
   "execution_count": 36,
   "id": "feb56b18-bd16-41c8-bf6a-514c1adfdbf1",
   "metadata": {},
   "outputs": [],
   "source": [
    "telco = prepare.prep_telco(telco)"
   ]
  },
  {
   "cell_type": "code",
   "execution_count": 37,
   "id": "c818fbab-e37a-4f38-a9b4-e41a2ebe73bc",
   "metadata": {},
   "outputs": [
    {
     "name": "stdout",
     "output_type": "stream",
     "text": [
      "<class 'pandas.core.frame.DataFrame'>\n",
      "RangeIndex: 7043 entries, 0 to 7042\n",
      "Data columns (total 30 columns):\n",
      " #   Column                                 Non-Null Count  Dtype  \n",
      "---  ------                                 --------------  -----  \n",
      " 0   senior_citizen                         7043 non-null   int64  \n",
      " 1   partner                                7043 non-null   int64  \n",
      " 2   dependents                             7043 non-null   int64  \n",
      " 3   tenure                                 7043 non-null   int64  \n",
      " 4   paperless_billing                      7043 non-null   int64  \n",
      " 5   monthly_charges                        7043 non-null   float64\n",
      " 6   total_charges                          7043 non-null   float64\n",
      " 7   churn                                  7043 non-null   int64  \n",
      " 8   gender_Male                            7043 non-null   uint8  \n",
      " 9   streaming_movies_No internet service   7043 non-null   uint8  \n",
      " 10  streaming_movies_Yes                   7043 non-null   uint8  \n",
      " 11  streaming_tv_No internet service       7043 non-null   uint8  \n",
      " 12  streaming_tv_Yes                       7043 non-null   uint8  \n",
      " 13  tech_support_No internet service       7043 non-null   uint8  \n",
      " 14  tech_support_Yes                       7043 non-null   uint8  \n",
      " 15  multiple_lines_No phone service        7043 non-null   uint8  \n",
      " 16  multiple_lines_Yes                     7043 non-null   uint8  \n",
      " 17  online_backup_No internet service      7043 non-null   uint8  \n",
      " 18  online_backup_Yes                      7043 non-null   uint8  \n",
      " 19  online_security_No internet service    7043 non-null   uint8  \n",
      " 20  online_security_Yes                    7043 non-null   uint8  \n",
      " 21  device_protection_No internet service  7043 non-null   uint8  \n",
      " 22  device_protection_Yes                  7043 non-null   uint8  \n",
      " 23  payment_type_Credit card (automatic)   7043 non-null   uint8  \n",
      " 24  payment_type_Electronic check          7043 non-null   uint8  \n",
      " 25  payment_type_Mailed check              7043 non-null   uint8  \n",
      " 26  internet_service_type_Fiber optic      7043 non-null   uint8  \n",
      " 27  internet_service_type_None             7043 non-null   uint8  \n",
      " 28  contract_type_One year                 7043 non-null   uint8  \n",
      " 29  contract_type_Two year                 7043 non-null   uint8  \n",
      "dtypes: float64(2), int64(6), uint8(22)\n",
      "memory usage: 591.6 KB\n"
     ]
    }
   ],
   "source": [
    "processed_info = telco.info()"
   ]
  },
  {
   "cell_type": "markdown",
   "id": "5827da36-766e-46ac-b8bf-9740e2bbd40c",
   "metadata": {},
   "source": [
    "You have to drop sting columns:"
   ]
  },
  {
   "cell_type": "code",
   "execution_count": 38,
   "id": "dda25fb8-556f-47e6-a4a7-d51bdac84b30",
   "metadata": {},
   "outputs": [],
   "source": [
    "tel_train, tel_val, tel_test = train_validate(telco, 'churn')"
   ]
  },
  {
   "cell_type": "markdown",
   "id": "e2f33485-59b9-4f9d-bd12-336fd35e8524",
   "metadata": {},
   "source": [
    "### 1. What is your baseline prediction? What is your baseline accuracy? remember: your baseline prediction for a classification problem is predicting the most prevelant class in the training dataset (the mode). When you make those predictions, what is your accuracy? This is your baseline accuracy."
   ]
  },
  {
   "cell_type": "code",
   "execution_count": 39,
   "id": "02e73314-070c-4771-8699-9fa63ad892e2",
   "metadata": {},
   "outputs": [
    {
     "data": {
      "text/plain": [
       "0    1811\n",
       "1     654\n",
       "Name: churn, dtype: int64"
      ]
     },
     "execution_count": 39,
     "metadata": {},
     "output_type": "execute_result"
    }
   ],
   "source": [
    "tel_train.churn.value_counts()"
   ]
  },
  {
   "cell_type": "code",
   "execution_count": 40,
   "id": "bffa8a90-b2dc-4690-a2e0-73c88b2943cc",
   "metadata": {},
   "outputs": [
    {
     "name": "stdout",
     "output_type": "stream",
     "text": [
      "The baseline is: 0.735\n"
     ]
    }
   ],
   "source": [
    "#The accuracy_score does not like int input but it seems to work.\n",
    "#tel_base = tel_base.astype('string')\n",
    "#tel_train.churn = tel_train.churn.astype('string')\n",
    "\n",
    "tel_baseline = accuracy_score(tel_train.churn, (tel_train.churn * 0))\n",
    "print(f'The baseline is: {tel_baseline:.3f}')"
   ]
  },
  {
   "cell_type": "markdown",
   "id": "631a3b44-61fa-4027-99ab-eaf7430d4e46",
   "metadata": {},
   "source": [
    "### 2. Fit the decision tree classifier to your training sample and transform (i.e. make predictions on the training sample)"
   ]
  },
  {
   "cell_type": "code",
   "execution_count": 41,
   "id": "5cf6d46d-69cb-4fee-8d50-540e14d43156",
   "metadata": {},
   "outputs": [],
   "source": [
    "#tel_train.churn = tel_train.churn.astype('int')"
   ]
  },
  {
   "cell_type": "code",
   "execution_count": 42,
   "id": "5ea54cd8-3bbd-4845-9f8a-128c91e08b55",
   "metadata": {},
   "outputs": [],
   "source": [
    "X_train = tel_train.drop(columns=['churn'])\n",
    "y_train = tel_train['churn']\n",
    "\n",
    "X_val = tel_val.drop(columns=['churn'])\n",
    "y_val = tel_val['churn']\n",
    "\n",
    "X_test = tel_test.drop(columns=['churn'])\n",
    "y_test = tel_test['churn']"
   ]
  },
  {
   "cell_type": "code",
   "execution_count": 43,
   "id": "06626300-2d95-477f-823a-55affacab790",
   "metadata": {},
   "outputs": [],
   "source": [
    "seed = 42\n",
    "\n",
    "clf = DecisionTreeClassifier(max_depth=3, random_state=42)"
   ]
  },
  {
   "cell_type": "code",
   "execution_count": 44,
   "id": "13c65bb8-5be7-4940-ab73-5194d5f78809",
   "metadata": {},
   "outputs": [
    {
     "data": {
      "text/plain": [
       "DecisionTreeClassifier(max_depth=3, random_state=42)"
      ]
     },
     "execution_count": 44,
     "metadata": {},
     "output_type": "execute_result"
    }
   ],
   "source": [
    "clf.fit(X_train, y_train)"
   ]
  },
  {
   "cell_type": "markdown",
   "id": "dec11a8e-bec5-4fcb-86ac-8bc976a67bf6",
   "metadata": {},
   "source": [
    "### 3. Evaluate your in-sample results using the model score, confusion matrix, and classification report."
   ]
  },
  {
   "cell_type": "code",
   "execution_count": 45,
   "id": "88e83cff-b019-4082-a822-8262491cf10b",
   "metadata": {},
   "outputs": [],
   "source": [
    "y_pred = clf.predict(X_train)"
   ]
  },
  {
   "cell_type": "code",
   "execution_count": 46,
   "id": "21b9c13e-8970-4686-b2be-c91e14b12532",
   "metadata": {},
   "outputs": [
    {
     "data": {
      "text/html": [
       "<div>\n",
       "<style scoped>\n",
       "    .dataframe tbody tr th:only-of-type {\n",
       "        vertical-align: middle;\n",
       "    }\n",
       "\n",
       "    .dataframe tbody tr th {\n",
       "        vertical-align: top;\n",
       "    }\n",
       "\n",
       "    .dataframe thead th {\n",
       "        text-align: right;\n",
       "    }\n",
       "</style>\n",
       "<table border=\"1\" class=\"dataframe\">\n",
       "  <thead>\n",
       "    <tr style=\"text-align: right;\">\n",
       "      <th></th>\n",
       "      <th>Act Churn</th>\n",
       "      <th>Act Stay</th>\n",
       "    </tr>\n",
       "  </thead>\n",
       "  <tbody>\n",
       "    <tr>\n",
       "      <th>Pred Churn</th>\n",
       "      <td>1703</td>\n",
       "      <td>108</td>\n",
       "    </tr>\n",
       "    <tr>\n",
       "      <th>Pred Stay</th>\n",
       "      <td>404</td>\n",
       "      <td>250</td>\n",
       "    </tr>\n",
       "  </tbody>\n",
       "</table>\n",
       "</div>"
      ],
      "text/plain": [
       "            Act Churn  Act Stay\n",
       "Pred Churn       1703       108\n",
       "Pred Stay         404       250"
      ]
     },
     "execution_count": 46,
     "metadata": {},
     "output_type": "execute_result"
    }
   ],
   "source": [
    "pd.DataFrame(confusion_matrix(y_train, y_pred), index=['Pred Churn', 'Pred Stay'], columns=['Act Churn','Act Stay'])"
   ]
  },
  {
   "cell_type": "markdown",
   "id": "5bb1ce3c-0211-4add-820b-c31fc1c56139",
   "metadata": {},
   "source": [
    "### 4. Compute: Accuracy, true positive rate, false positive rate, true negative rate, false negative rate, precision, recall, f1-score, and support."
   ]
  },
  {
   "cell_type": "code",
   "execution_count": 47,
   "id": "2b1aada5-852e-458b-99e8-0ca33989395c",
   "metadata": {},
   "outputs": [
    {
     "data": {
      "text/html": [
       "<div>\n",
       "<style scoped>\n",
       "    .dataframe tbody tr th:only-of-type {\n",
       "        vertical-align: middle;\n",
       "    }\n",
       "\n",
       "    .dataframe tbody tr th {\n",
       "        vertical-align: top;\n",
       "    }\n",
       "\n",
       "    .dataframe thead th {\n",
       "        text-align: right;\n",
       "    }\n",
       "</style>\n",
       "<table border=\"1\" class=\"dataframe\">\n",
       "  <thead>\n",
       "    <tr style=\"text-align: right;\">\n",
       "      <th></th>\n",
       "      <th>Churn</th>\n",
       "      <th>Not Churn</th>\n",
       "      <th>accuracy</th>\n",
       "      <th>macro avg</th>\n",
       "      <th>weighted avg</th>\n",
       "    </tr>\n",
       "  </thead>\n",
       "  <tbody>\n",
       "    <tr>\n",
       "      <th>precision</th>\n",
       "      <td>0.808258</td>\n",
       "      <td>0.698324</td>\n",
       "      <td>0.792292</td>\n",
       "      <td>0.753291</td>\n",
       "      <td>0.779091</td>\n",
       "    </tr>\n",
       "    <tr>\n",
       "      <th>recall</th>\n",
       "      <td>0.940364</td>\n",
       "      <td>0.382263</td>\n",
       "      <td>0.792292</td>\n",
       "      <td>0.661314</td>\n",
       "      <td>0.792292</td>\n",
       "    </tr>\n",
       "    <tr>\n",
       "      <th>f1-score</th>\n",
       "      <td>0.869321</td>\n",
       "      <td>0.494071</td>\n",
       "      <td>0.792292</td>\n",
       "      <td>0.681696</td>\n",
       "      <td>0.769762</td>\n",
       "    </tr>\n",
       "    <tr>\n",
       "      <th>support</th>\n",
       "      <td>1811.000000</td>\n",
       "      <td>654.000000</td>\n",
       "      <td>0.792292</td>\n",
       "      <td>2465.000000</td>\n",
       "      <td>2465.000000</td>\n",
       "    </tr>\n",
       "  </tbody>\n",
       "</table>\n",
       "</div>"
      ],
      "text/plain": [
       "                 Churn   Not Churn  accuracy    macro avg  weighted avg\n",
       "precision     0.808258    0.698324  0.792292     0.753291      0.779091\n",
       "recall        0.940364    0.382263  0.792292     0.661314      0.792292\n",
       "f1-score      0.869321    0.494071  0.792292     0.681696      0.769762\n",
       "support    1811.000000  654.000000  0.792292  2465.000000   2465.000000"
      ]
     },
     "execution_count": 47,
     "metadata": {},
     "output_type": "execute_result"
    }
   ],
   "source": [
    "class_report = pd.DataFrame(classification_report(y_train, y_pred, output_dict=True, target_names = ['Churn', 'Not Churn']))\n",
    "class_report"
   ]
  },
  {
   "cell_type": "markdown",
   "id": "34f63fd2-3055-4bba-a5c0-040842aa8140",
   "metadata": {
    "tags": []
   },
   "source": [
    "### 5. Run through steps 2-4 using a different max_depth value."
   ]
  },
  {
   "cell_type": "code",
   "execution_count": 48,
   "id": "680d0642-e3b4-41b1-a54c-8e834d4682fc",
   "metadata": {},
   "outputs": [],
   "source": [
    "metrics = []\n",
    "\n",
    "for i in range(1,20):\n",
    "    clf = DecisionTreeClassifier(max_depth=i, random_state=42)\n",
    "    clf.fit(X_train, y_train)\n",
    "    in_sample_accuracy = clf.score(X_train, y_train)\n",
    "    out_of_sample_accuracy = clf.score(X_val, y_val)\n",
    "    \n",
    "    output = {\"max_depth\": i, \"train_accuracy\": in_sample_accuracy, \"validate_accuracy\": out_of_sample_accuracy}\n",
    "    \n",
    "    metrics.append(output)\n",
    "    \n",
    "df = pd.DataFrame(metrics)\n",
    "df['difference'] = df.train_accuracy - df.validate_accuracy"
   ]
  },
  {
   "cell_type": "code",
   "execution_count": 49,
   "id": "f3f441e8-9dad-4d23-94dc-3d724debd197",
   "metadata": {
    "tags": []
   },
   "outputs": [
    {
     "data": {
      "image/png": "[encoded data removed]",
      "text/plain": [
       "<Figure size 1200x400 with 1 Axes>"
      ]
     },
     "metadata": {},
     "output_type": "display_data"
    }
   ],
   "source": [
    "\n",
    "plt.figure(figsize=(12,4))\n",
    "plt.plot(df.max_depth, df.train_accuracy, marker = 'o', label= 'Train')\n",
    "plt.plot(df.max_depth, df.validate_accuracy, marker = 'o', label= 'Validate')\n",
    "plt.plot(df.max_depth, df.difference, marker = '.', label = 'Difference')\n",
    "plt.legend()\n",
    "plt.title(\"Decsion Tree using from 1 - 20 max_depth\")\n",
    "plt.xlabel(\"Number of max_depth\")\n",
    "plt.ylabel(\"Accuracy\")\n",
    "plt.show()\n"
   ]
  },
  {
   "cell_type": "markdown",
   "id": "e4a1315a-f1c2-4caf-873c-f928bb5f77c7",
   "metadata": {},
   "source": [
    "### 6. Which model performs better on your in-sample data?"
   ]
  },
  {
   "cell_type": "markdown",
   "id": "99a8eb92-ea58-41f3-a105-8a714b48a1d7",
   "metadata": {},
   "source": [
    "As the max_depth increases, the accuracy increases."
   ]
  },
  {
   "cell_type": "markdown",
   "id": "bfa554c2-15bb-4d9e-9fb4-b08b5e0395df",
   "metadata": {},
   "source": [
    "### 7. Which model performs best on your out-of-sample data, the validate set?"
   ]
  },
  {
   "cell_type": "markdown",
   "id": "43ce1a43-7633-42c3-8e0f-13a56b3f2289",
   "metadata": {},
   "source": [
    "From 2-5 max_depth, the validation set seems to perform the best."
   ]
  },
  {
   "cell_type": "markdown",
   "id": "782f07bf-38dd-4f01-a187-7beca96cd698",
   "metadata": {},
   "source": [
    "## 2. Experiment with this model on other datasets with a higher number of output classes."
   ]
  },
  {
   "cell_type": "code",
   "execution_count": null,
   "id": "98afbbe6-b52e-4454-9cc6-0c12bd1d93cb",
   "metadata": {},
   "outputs": [],
   "source": []
  }
 ],
 "metadata": {
  "kernelspec": {
   "display_name": "Python 3 (ipykernel)",
   "language": "python",
   "name": "python3"
  },
  "language_info": {
   "codemirror_mode": {
    "name": "ipython",
    "version": 3
   },
   "file_extension": ".py",
   "mimetype": "text/x-python",
   "name": "python",
   "nbconvert_exporter": "python",
   "pygments_lexer": "ipython3",
   "version": "3.9.15"
  }
 },
 "nbformat": 4,
 "nbformat_minor": 5
}
