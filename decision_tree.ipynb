{
 "cells": [
  {
   "cell_type": "markdown",
   "id": "1ba7b938-73d7-4075-b476-308fd9e39ed4",
   "metadata": {
    "jp-MarkdownHeadingCollapsed": true,
    "tags": []
   },
   "source": [
    "# Imports:"
   ]
  },
  {
   "cell_type": "code",
   "execution_count": 1,
   "id": "68d1de92-266d-4d39-981d-b136fb3bb1ea",
   "metadata": {},
   "outputs": [],
   "source": [
    "# ignore warnings\n",
    "import warnings\n",
    "warnings.filterwarnings(\"ignore\")\n",
    "\n",
    "import pandas as pd\n",
    "import numpy as np\n",
    "\n",
    "from pydataset import data\n",
    "\n",
    "from sklearn.model_selection import train_test_split\n",
    "from sklearn.tree import DecisionTreeClassifier, plot_tree\n",
    "from sklearn.metrics import classification_report\n",
    "from sklearn.metrics import confusion_matrix\n",
    "from sklearn.metrics import accuracy_score\n",
    "from sklearn.metrics import precision_score\n",
    "from sklearn.metrics import recall_score\n",
    "\n",
    "import matplotlib.pyplot as plt\n",
    "import seaborn as sns\n",
    "from env import get_connection\n",
    "\n",
    "import acquire, prepare\n",
    "\n",
    "pd.options.display.max_columns = None"
   ]
  },
  {
   "cell_type": "code",
   "execution_count": 2,
   "id": "74590a3d-ab3d-4fcd-8130-773cbfa5447c",
   "metadata": {},
   "outputs": [],
   "source": [
    "# 20% test, 80% train_validate\n",
    "# then of the 80% train_validate: 30% validate, 70% train. \n",
    "def train_validate(df, stratify_col = None):\n",
    "    \"\"\"\n",
    "    This function takes in a DataFrame and column name for the stratify argument (defualt is None).\n",
    "    It will split the data into three parts for training, testing and validating.\n",
    "    \"\"\"\n",
    "    #This is logic to set the stratify argument:\n",
    "    stratify_arg = ''\n",
    "    if stratify_col != None:\n",
    "        stratify_arg = df[stratify_col]\n",
    "    else:\n",
    "        stratify_arg = None\n",
    "    \n",
    "    #This splits the DataFrame into 'train' and 'test':\n",
    "    train, test = train_test_split(df, train_size=.7, stratify=stratify_arg, random_state = 321)\n",
    "    \n",
    "    #The length of the stratify column changed and needs to be adjusted:\n",
    "    if stratify_col != None:\n",
    "        stratify_arg = train[stratify_col]\n",
    "        \n",
    "    #This splits the larger 'train' DataFrame into a smaller 'train' and 'validate' DataFrames:\n",
    "    train, validate = train_test_split(train, test_size=.5, stratify=stratify_arg, random_state = 321)\n",
    "    return train, validate, test"
   ]
  },
  {
   "cell_type": "markdown",
   "id": "0d361795-454b-4e1c-8f8b-2e2834fce682",
   "metadata": {
    "tags": []
   },
   "source": [
    "# Part 1: Titanic"
   ]
  },
  {
   "cell_type": "code",
   "execution_count": 3,
   "id": "19d07c2f-d387-4202-9074-1faec9e72642",
   "metadata": {
    "tags": []
   },
   "outputs": [],
   "source": [
    "titanic = acquire.get_titanic_data()"
   ]
  },
  {
   "cell_type": "code",
   "execution_count": 4,
   "id": "39eb5735-d9d7-4c15-a2d2-5f04c182cd47",
   "metadata": {},
   "outputs": [],
   "source": [
    "titanic = prepare.prep_titanic(titanic)"
   ]
  },
  {
   "cell_type": "code",
   "execution_count": 5,
   "id": "ea37a9bd-23ac-4fc5-b188-3159b55f30b8",
   "metadata": {},
   "outputs": [],
   "source": [
    "titanic.drop(columns=['sex', 'embark_town'], inplace=True)"
   ]
  },
  {
   "cell_type": "code",
   "execution_count": 6,
   "id": "b0cea294-023c-4ed9-9547-f955e1892a34",
   "metadata": {},
   "outputs": [],
   "source": [
    "ti_train, ti_val, ti_test = train_validate(titanic, 'survived')"
   ]
  },
  {
   "cell_type": "code",
   "execution_count": 7,
   "id": "a1c971aa-2983-496f-9be7-a069c822006b",
   "metadata": {},
   "outputs": [
    {
     "data": {
      "text/plain": [
       "0    192\n",
       "1    119\n",
       "Name: survived, dtype: int64"
      ]
     },
     "execution_count": 7,
     "metadata": {},
     "output_type": "execute_result"
    }
   ],
   "source": [
    "ti_train.survived.value_counts()"
   ]
  },
  {
   "cell_type": "markdown",
   "id": "cd696e9f-a400-4225-9498-2c26e8364290",
   "metadata": {
    "tags": []
   },
   "source": [
    "### 1. What is your baseline prediction? What is your baseline accuracy? remember: your baseline prediction for a classification problem is predicting the most prevelant class in the training dataset (the mode). When you make those predictions, what is your accuracy? This is your baseline accuracy."
   ]
  },
  {
   "cell_type": "code",
   "execution_count": 8,
   "id": "b9a6d3e7-5944-4c98-8422-992098256142",
   "metadata": {},
   "outputs": [],
   "source": [
    "ti_base = pd.DataFrame()\n",
    "ti_base['baseline_prediction'] = ti_train['survived']\n",
    "ti_base['baseline_prediction'] = ti_base['baseline_prediction'] * 0"
   ]
  },
  {
   "cell_type": "markdown",
   "id": "7482b459-5ee4-499d-9ec0-442c53be4972",
   "metadata": {},
   "source": [
    "In the telco example, the accuracy_score does not like int inputs. For some reason it works here and all input as similar in type..."
   ]
  },
  {
   "cell_type": "code",
   "execution_count": 9,
   "id": "fda27aa8-2a0f-47c3-9101-4eac59b11385",
   "metadata": {},
   "outputs": [],
   "source": [
    "#print(ti_base.info())\n",
    "#print(ti_train.survived.info())\n",
    "#print(ti_base.value_counts())\n",
    "#print(ti_train.survived.value_counts())"
   ]
  },
  {
   "cell_type": "code",
   "execution_count": 10,
   "id": "da8cf1c1-9210-4491-a1d7-6dded0ce1699",
   "metadata": {},
   "outputs": [
    {
     "name": "stdout",
     "output_type": "stream",
     "text": [
      "The baseline is: 0.617\n"
     ]
    }
   ],
   "source": [
    "ti_baseline = accuracy_score(ti_train.survived, ti_base.baseline_prediction)\n",
    "print(f'The baseline is: {ti_baseline:.3f}')"
   ]
  },
  {
   "cell_type": "markdown",
   "id": "2683de45-848c-4e67-84e4-3a59f451ea0a",
   "metadata": {
    "tags": []
   },
   "source": [
    "### 2. Fit the decision tree classifier to your training sample and transform (i.e. make predictions on the training sample)"
   ]
  },
  {
   "cell_type": "code",
   "execution_count": 11,
   "id": "b6ab45e4-03da-45be-8001-bb6cb739c70c",
   "metadata": {},
   "outputs": [],
   "source": [
    "X_train = ti_train.drop(columns=['survived'])\n",
    "y_train = ti_train['survived']\n",
    "\n",
    "X_val = ti_val.drop(columns=['survived'])\n",
    "y_val = ti_val['survived']\n",
    "\n",
    "X_test = ti_test.drop(columns=['survived'])\n",
    "y_test = ti_test['survived']"
   ]
  },
  {
   "cell_type": "code",
   "execution_count": 12,
   "id": "46789603-9200-4133-b01f-b6e05cfa7942",
   "metadata": {},
   "outputs": [],
   "source": [
    "seed = 42\n",
    "\n",
    "clf = DecisionTreeClassifier(max_depth=3, random_state=42)"
   ]
  },
  {
   "cell_type": "code",
   "execution_count": 13,
   "id": "300404bb-0b08-4348-9e96-0cffc237e079",
   "metadata": {},
   "outputs": [],
   "source": [
    "# This is for some error where clf is trying to concat a string to an int.\n",
    "# It did not occure in my code and I'm unsure why.\n",
    "\n",
    "#class_names = np.array(clf.classes_).astype('str').tolist()"
   ]
  },
  {
   "cell_type": "code",
   "execution_count": 14,
   "id": "73491e19-db47-4037-90c6-fa6832155304",
   "metadata": {},
   "outputs": [
    {
     "data": {
      "text/plain": [
       "DecisionTreeClassifier(max_depth=3, random_state=42)"
      ]
     },
     "execution_count": 14,
     "metadata": {},
     "output_type": "execute_result"
    }
   ],
   "source": [
    "clf.fit(X_train, y_train)"
   ]
  },
  {
   "cell_type": "markdown",
   "id": "4665863f-7069-494c-a8a0-a6eed13f04b8",
   "metadata": {
    "tags": []
   },
   "source": [
    "### 3. Evaluate your in-sample results using the model score, confusion matrix, and classification report."
   ]
  },
  {
   "cell_type": "code",
   "execution_count": 15,
   "id": "d42e85af-1a84-498f-af89-b230e4bd6cd0",
   "metadata": {},
   "outputs": [
    {
     "data": {
      "text/plain": [
       "0.8167202572347267"
      ]
     },
     "execution_count": 15,
     "metadata": {},
     "output_type": "execute_result"
    }
   ],
   "source": [
    "#Model score:\n",
    "clf.score(X_train, y_train)"
   ]
  },
  {
   "cell_type": "code",
   "execution_count": 16,
   "id": "50751b12-654a-4cc0-bb3c-92e8351bc365",
   "metadata": {},
   "outputs": [
    {
     "data": {
      "text/html": [
       "<div>\n",
       "<style scoped>\n",
       "    .dataframe tbody tr th:only-of-type {\n",
       "        vertical-align: middle;\n",
       "    }\n",
       "\n",
       "    .dataframe tbody tr th {\n",
       "        vertical-align: top;\n",
       "    }\n",
       "\n",
       "    .dataframe thead th {\n",
       "        text-align: right;\n",
       "    }\n",
       "</style>\n",
       "<table border=\"1\" class=\"dataframe\">\n",
       "  <thead>\n",
       "    <tr style=\"text-align: right;\">\n",
       "      <th></th>\n",
       "      <th>Act_live</th>\n",
       "      <th>Act_death</th>\n",
       "    </tr>\n",
       "  </thead>\n",
       "  <tbody>\n",
       "    <tr>\n",
       "      <th>Pred_live</th>\n",
       "      <td>173</td>\n",
       "      <td>19</td>\n",
       "    </tr>\n",
       "    <tr>\n",
       "      <th>Pred_death</th>\n",
       "      <td>38</td>\n",
       "      <td>81</td>\n",
       "    </tr>\n",
       "  </tbody>\n",
       "</table>\n",
       "</div>"
      ],
      "text/plain": [
       "            Act_live  Act_death\n",
       "Pred_live        173         19\n",
       "Pred_death        38         81"
      ]
     },
     "execution_count": 16,
     "metadata": {},
     "output_type": "execute_result"
    }
   ],
   "source": [
    "#Confusion matrix:\n",
    "#Do the reading\n",
    "# make prediction on train obeservations\n",
    "\n",
    "y_pred = clf.predict(X_train)\n",
    "\n",
    "pd.DataFrame(confusion_matrix(y_train, y_pred), index=['Pred_live', 'Pred_death'], columns=['Act_live','Act_death'])"
   ]
  },
  {
   "cell_type": "code",
   "execution_count": 17,
   "id": "9d33868b-c77f-488b-ac14-b521e8ae405f",
   "metadata": {},
   "outputs": [
    {
     "name": "stdout",
     "output_type": "stream",
     "text": [
      "              precision    recall  f1-score   support\n",
      "\n",
      "           0       0.82      0.90      0.86       192\n",
      "           1       0.81      0.68      0.74       119\n",
      "\n",
      "    accuracy                           0.82       311\n",
      "   macro avg       0.81      0.79      0.80       311\n",
      "weighted avg       0.82      0.82      0.81       311\n",
      "\n"
     ]
    }
   ],
   "source": [
    "#Classification report:\n",
    "print(\n",
    "    classification_report(y_train, y_pred),)"
   ]
  },
  {
   "cell_type": "markdown",
   "id": "1d598a07-4e28-4180-9f67-962a21a2207b",
   "metadata": {
    "tags": []
   },
   "source": [
    "### 4. Compute: Accuracy, true positive rate, false positive rate, true negative rate, false negative rate, precision, recall, f1-score, and support."
   ]
  },
  {
   "cell_type": "code",
   "execution_count": 18,
   "id": "05400541-8abf-42a9-9bca-06555ae22af7",
   "metadata": {},
   "outputs": [
    {
     "name": "stdout",
     "output_type": "stream",
     "text": [
      "              precision    recall  f1-score   support\n",
      "\n",
      "           0       0.82      0.90      0.86       192\n",
      "           1       0.81      0.68      0.74       119\n",
      "\n",
      "    accuracy                           0.82       311\n",
      "   macro avg       0.81      0.79      0.80       311\n",
      "weighted avg       0.82      0.82      0.81       311\n",
      "\n"
     ]
    }
   ],
   "source": [
    "print(classification_report(y_train, y_pred))"
   ]
  },
  {
   "cell_type": "code",
   "execution_count": 19,
   "id": "5b589f1f-ee6b-4587-aeb3-361919cf6ca8",
   "metadata": {},
   "outputs": [
    {
     "data": {
      "text/html": [
       "<div>\n",
       "<style scoped>\n",
       "    .dataframe tbody tr th:only-of-type {\n",
       "        vertical-align: middle;\n",
       "    }\n",
       "\n",
       "    .dataframe tbody tr th {\n",
       "        vertical-align: top;\n",
       "    }\n",
       "\n",
       "    .dataframe thead th {\n",
       "        text-align: right;\n",
       "    }\n",
       "</style>\n",
       "<table border=\"1\" class=\"dataframe\">\n",
       "  <thead>\n",
       "    <tr style=\"text-align: right;\">\n",
       "      <th></th>\n",
       "      <th>Act_live</th>\n",
       "      <th>Act_death</th>\n",
       "    </tr>\n",
       "  </thead>\n",
       "  <tbody>\n",
       "    <tr>\n",
       "      <th>Pred_live</th>\n",
       "      <td>174</td>\n",
       "      <td>18</td>\n",
       "    </tr>\n",
       "    <tr>\n",
       "      <th>Pred_death</th>\n",
       "      <td>44</td>\n",
       "      <td>76</td>\n",
       "    </tr>\n",
       "  </tbody>\n",
       "</table>\n",
       "</div>"
      ],
      "text/plain": [
       "            Act_live  Act_death\n",
       "Pred_live        174         18\n",
       "Pred_death        44         76"
      ]
     },
     "execution_count": 19,
     "metadata": {},
     "output_type": "execute_result"
    }
   ],
   "source": [
    "y_val_pred = clf.predict(X_val)\n",
    "\n",
    "pd.DataFrame(confusion_matrix(y_val, y_val_pred), index=['Pred_live', 'Pred_death'], columns=['Act_live','Act_death'])"
   ]
  },
  {
   "cell_type": "code",
   "execution_count": 20,
   "id": "047b7208-a8f6-43bc-830c-317aeffe57c3",
   "metadata": {},
   "outputs": [
    {
     "data": {
      "text/plain": [
       "0.8167202572347267"
      ]
     },
     "execution_count": 20,
     "metadata": {},
     "output_type": "execute_result"
    }
   ],
   "source": [
    "accuracy_score(y_train, y_pred)"
   ]
  },
  {
   "cell_type": "code",
   "execution_count": 21,
   "id": "b6d47f9b-d61a-4004-8217-8f46f4c24216",
   "metadata": {},
   "outputs": [
    {
     "data": {
      "text/plain": [
       "0.8012820512820513"
      ]
     },
     "execution_count": 21,
     "metadata": {},
     "output_type": "execute_result"
    }
   ],
   "source": [
    "accuracy_score(y_val, y_val_pred)"
   ]
  },
  {
   "cell_type": "markdown",
   "id": "002c4336-9928-4564-9313-fb44be6f0ace",
   "metadata": {
    "jp-MarkdownHeadingCollapsed": true,
    "tags": []
   },
   "source": [
    "### 5. Run through steps 2-4 using a different max_depth value."
   ]
  },
  {
   "cell_type": "code",
   "execution_count": 22,
   "id": "400cfb5e-9567-448b-aab5-b868243e3cc7",
   "metadata": {},
   "outputs": [],
   "source": [
    "seed = 42\n",
    "clf = DecisionTreeClassifier(max_depth=5, random_state=42)"
   ]
  },
  {
   "cell_type": "code",
   "execution_count": 23,
   "id": "0c3ac5dd-b69e-4a80-9a39-ed253f90c642",
   "metadata": {},
   "outputs": [
    {
     "data": {
      "text/plain": [
       "DecisionTreeClassifier(max_depth=5, random_state=42)"
      ]
     },
     "execution_count": 23,
     "metadata": {},
     "output_type": "execute_result"
    }
   ],
   "source": [
    "clf.fit(X_train, y_train)"
   ]
  },
  {
   "cell_type": "code",
   "execution_count": 24,
   "id": "65b56aa3-fdb6-43bd-93cf-cbdbbf1aabb9",
   "metadata": {},
   "outputs": [
    {
     "data": {
      "text/plain": [
       "0.8585209003215434"
      ]
     },
     "execution_count": 24,
     "metadata": {},
     "output_type": "execute_result"
    }
   ],
   "source": [
    "clf.score(X_train, y_train)"
   ]
  },
  {
   "cell_type": "code",
   "execution_count": 25,
   "id": "ce283440-e200-45ef-ae74-a54c97449908",
   "metadata": {},
   "outputs": [],
   "source": [
    "y_pred = clf.predict(X_train)"
   ]
  },
  {
   "cell_type": "code",
   "execution_count": 26,
   "id": "bd2fb5fa-6778-486a-90ce-5f5b41d9b1bf",
   "metadata": {},
   "outputs": [
    {
     "data": {
      "text/html": [
       "<div>\n",
       "<style scoped>\n",
       "    .dataframe tbody tr th:only-of-type {\n",
       "        vertical-align: middle;\n",
       "    }\n",
       "\n",
       "    .dataframe tbody tr th {\n",
       "        vertical-align: top;\n",
       "    }\n",
       "\n",
       "    .dataframe thead th {\n",
       "        text-align: right;\n",
       "    }\n",
       "</style>\n",
       "<table border=\"1\" class=\"dataframe\">\n",
       "  <thead>\n",
       "    <tr style=\"text-align: right;\">\n",
       "      <th></th>\n",
       "      <th>Act_live</th>\n",
       "      <th>Act_death</th>\n",
       "    </tr>\n",
       "  </thead>\n",
       "  <tbody>\n",
       "    <tr>\n",
       "      <th>Pred_live</th>\n",
       "      <td>177</td>\n",
       "      <td>15</td>\n",
       "    </tr>\n",
       "    <tr>\n",
       "      <th>Pred_death</th>\n",
       "      <td>29</td>\n",
       "      <td>90</td>\n",
       "    </tr>\n",
       "  </tbody>\n",
       "</table>\n",
       "</div>"
      ],
      "text/plain": [
       "            Act_live  Act_death\n",
       "Pred_live        177         15\n",
       "Pred_death        29         90"
      ]
     },
     "execution_count": 26,
     "metadata": {},
     "output_type": "execute_result"
    }
   ],
   "source": [
    "pd.DataFrame(confusion_matrix(y_train, y_pred), index=['Pred_live', 'Pred_death'], columns=['Act_live','Act_death'])"
   ]
  },
  {
   "cell_type": "code",
   "execution_count": 27,
   "id": "56661d86-e8e3-45dc-8bd7-47a56a6d44b7",
   "metadata": {},
   "outputs": [
    {
     "name": "stdout",
     "output_type": "stream",
     "text": [
      "              precision    recall  f1-score   support\n",
      "\n",
      "           0       0.86      0.92      0.89       192\n",
      "           1       0.86      0.76      0.80       119\n",
      "\n",
      "    accuracy                           0.86       311\n",
      "   macro avg       0.86      0.84      0.85       311\n",
      "weighted avg       0.86      0.86      0.86       311\n",
      "\n"
     ]
    }
   ],
   "source": [
    "print(\n",
    "    classification_report(y_train, y_pred),)"
   ]
  },
  {
   "cell_type": "code",
   "execution_count": 28,
   "id": "09bd5645-c65f-4486-b4e2-251ce989cbc2",
   "metadata": {},
   "outputs": [
    {
     "data": {
      "text/html": [
       "<div>\n",
       "<style scoped>\n",
       "    .dataframe tbody tr th:only-of-type {\n",
       "        vertical-align: middle;\n",
       "    }\n",
       "\n",
       "    .dataframe tbody tr th {\n",
       "        vertical-align: top;\n",
       "    }\n",
       "\n",
       "    .dataframe thead th {\n",
       "        text-align: right;\n",
       "    }\n",
       "</style>\n",
       "<table border=\"1\" class=\"dataframe\">\n",
       "  <thead>\n",
       "    <tr style=\"text-align: right;\">\n",
       "      <th></th>\n",
       "      <th>Act_live</th>\n",
       "      <th>Act_death</th>\n",
       "    </tr>\n",
       "  </thead>\n",
       "  <tbody>\n",
       "    <tr>\n",
       "      <th>Pred_live</th>\n",
       "      <td>178</td>\n",
       "      <td>14</td>\n",
       "    </tr>\n",
       "    <tr>\n",
       "      <th>Pred_death</th>\n",
       "      <td>51</td>\n",
       "      <td>69</td>\n",
       "    </tr>\n",
       "  </tbody>\n",
       "</table>\n",
       "</div>"
      ],
      "text/plain": [
       "            Act_live  Act_death\n",
       "Pred_live        178         14\n",
       "Pred_death        51         69"
      ]
     },
     "execution_count": 28,
     "metadata": {},
     "output_type": "execute_result"
    }
   ],
   "source": [
    "y_val_pred = clf.predict(X_val)\n",
    "\n",
    "pd.DataFrame(confusion_matrix(y_val, y_val_pred), index=['Pred_live', 'Pred_death'], columns=['Act_live','Act_death'])"
   ]
  },
  {
   "cell_type": "code",
   "execution_count": 29,
   "id": "e30c4e60-fb85-48d6-9bdc-56bdc2e83a68",
   "metadata": {},
   "outputs": [
    {
     "data": {
      "text/plain": [
       "0.7916666666666666"
      ]
     },
     "execution_count": 29,
     "metadata": {},
     "output_type": "execute_result"
    }
   ],
   "source": [
    "accuracy_score(y_val, y_val_pred)"
   ]
  },
  {
   "cell_type": "markdown",
   "id": "8c98dae8-25e7-468d-ae93-014ec715d800",
   "metadata": {
    "jp-MarkdownHeadingCollapsed": true,
    "tags": []
   },
   "source": [
    "### 6. Which model performs better on your in-sample data?"
   ]
  },
  {
   "cell_type": "markdown",
   "id": "023bd4dd-072a-4329-8956-e6c4260524c7",
   "metadata": {},
   "source": [
    "The depth 5 model performs better on the training data. Step 5."
   ]
  },
  {
   "cell_type": "markdown",
   "id": "38540720-8f4e-46d7-8931-099379eeeca8",
   "metadata": {
    "jp-MarkdownHeadingCollapsed": true,
    "tags": []
   },
   "source": [
    "### 7. Which model performs best on your out-of-sample data, the validate set?"
   ]
  },
  {
   "cell_type": "markdown",
   "id": "15d36d26-1bd7-4415-9e44-4e9fffb172df",
   "metadata": {},
   "source": [
    "The depth 3 model performs better on the training data. Steps <=4."
   ]
  },
  {
   "cell_type": "markdown",
   "id": "c467613d-1094-4373-95fa-ba65a64c22fd",
   "metadata": {
    "tags": []
   },
   "source": [
    "# Part 2: Telco churn"
   ]
  },
  {
   "cell_type": "markdown",
   "id": "dfe5642b-e296-4aa4-a3f9-0899cad82104",
   "metadata": {},
   "source": [
    "## 1. Work through these same exercises using the Telco dataset."
   ]
  },
  {
   "cell_type": "code",
   "execution_count": 30,
   "id": "3a386c9f-e7a6-4e44-9f56-b83549b2b5e0",
   "metadata": {},
   "outputs": [],
   "source": [
    "telco = acquire.get_telco_data()\n",
    "telco = prepare.prep_telco(telco)"
   ]
  },
  {
   "cell_type": "code",
   "execution_count": 31,
   "id": "eda04046-b5e1-42cd-9cda-56ed626087bb",
   "metadata": {},
   "outputs": [],
   "source": [
    "telco = telco.T.drop_duplicates(keep='first').T"
   ]
  },
  {
   "cell_type": "markdown",
   "id": "5827da36-766e-46ac-b8bf-9740e2bbd40c",
   "metadata": {},
   "source": [
    "You have to drop sting columns:"
   ]
  },
  {
   "cell_type": "code",
   "execution_count": 32,
   "id": "abb4d6a9-05cb-49e4-8778-5da83315d593",
   "metadata": {},
   "outputs": [
    {
     "data": {
      "text/plain": [
       "\"\\nfor col in telco:\\n    if telco[col]dtypes() == 'object':\\n        pass\\n    else:\\n        new_df\\n\""
      ]
     },
     "execution_count": 32,
     "metadata": {},
     "output_type": "execute_result"
    }
   ],
   "source": [
    "\"\"\"\n",
    "for col in telco:\n",
    "    if telco[col]dtypes() == 'object':\n",
    "        pass\n",
    "    else:\n",
    "        new_df\n",
    "\"\"\""
   ]
  },
  {
   "cell_type": "code",
   "execution_count": 33,
   "id": "dda25fb8-556f-47e6-a4a7-d51bdac84b30",
   "metadata": {},
   "outputs": [],
   "source": [
    "tel_train, tel_val, tel_test = train_validate(telco, 'churn')"
   ]
  },
  {
   "cell_type": "markdown",
   "id": "e2f33485-59b9-4f9d-bd12-336fd35e8524",
   "metadata": {},
   "source": [
    "### 1. What is your baseline prediction? What is your baseline accuracy? remember: your baseline prediction for a classification problem is predicting the most prevelant class in the training dataset (the mode). When you make those predictions, what is your accuracy? This is your baseline accuracy."
   ]
  },
  {
   "cell_type": "code",
   "execution_count": 34,
   "id": "02e73314-070c-4771-8699-9fa63ad892e2",
   "metadata": {},
   "outputs": [
    {
     "data": {
      "text/plain": [
       "0    1811\n",
       "1     654\n",
       "Name: churn, dtype: int64"
      ]
     },
     "execution_count": 34,
     "metadata": {},
     "output_type": "execute_result"
    }
   ],
   "source": [
    "tel_train.churn.value_counts()"
   ]
  },
  {
   "cell_type": "code",
   "execution_count": 35,
   "id": "c9c8b9b9-a55d-46ff-ba6d-80463e05dd79",
   "metadata": {},
   "outputs": [],
   "source": [
    "tel_base = pd.DataFrame()\n",
    "tel_base['baseline_prediction'] = tel_train['churn']\n",
    "tel_base['baseline_prediction'] = tel_base['baseline_prediction'] * 0"
   ]
  },
  {
   "cell_type": "markdown",
   "id": "6d3faba3-b683-44f0-a4bc-48a630cdde13",
   "metadata": {},
   "source": [
    "The accuracy_score does not like int input."
   ]
  },
  {
   "cell_type": "code",
   "execution_count": 36,
   "id": "2855ae19-6086-4f02-9d9f-a3996d54f664",
   "metadata": {},
   "outputs": [],
   "source": [
    "tel_base = tel_base.astype('string')\n",
    "tel_train.churn = tel_train.churn.astype('string')"
   ]
  },
  {
   "cell_type": "code",
   "execution_count": 37,
   "id": "96ad5326-b4b2-4ec6-af22-0ebb03aabe80",
   "metadata": {},
   "outputs": [
    {
     "name": "stdout",
     "output_type": "stream",
     "text": [
      "The baseline is: 0.735\n"
     ]
    }
   ],
   "source": [
    "tel_baseline = accuracy_score(tel_train.churn, tel_base.baseline_prediction)\n",
    "print(f'The baseline is: {tel_baseline:.3f}')"
   ]
  },
  {
   "cell_type": "markdown",
   "id": "631a3b44-61fa-4027-99ab-eaf7430d4e46",
   "metadata": {},
   "source": [
    "### 2. Fit the decision tree classifier to your training sample and transform (i.e. make predictions on the training sample)"
   ]
  },
  {
   "cell_type": "code",
   "execution_count": 38,
   "id": "5cf6d46d-69cb-4fee-8d50-540e14d43156",
   "metadata": {},
   "outputs": [],
   "source": [
    "#tel_train.churn = tel_train.churn.astype('int')"
   ]
  },
  {
   "cell_type": "code",
   "execution_count": 39,
   "id": "5ea54cd8-3bbd-4845-9f8a-128c91e08b55",
   "metadata": {},
   "outputs": [],
   "source": [
    "X_train = tel_train.drop(columns=['churn'])\n",
    "y_train = tel_train['churn']\n",
    "\n",
    "X_val = tel_val.drop(columns=['churn'])\n",
    "y_val = tel_val['churn']\n",
    "\n",
    "X_test = tel_test.drop(columns=['churn'])\n",
    "y_test = tel_test['churn']"
   ]
  },
  {
   "cell_type": "code",
   "execution_count": 40,
   "id": "06626300-2d95-477f-823a-55affacab790",
   "metadata": {},
   "outputs": [],
   "source": [
    "seed = 42\n",
    "\n",
    "clf = DecisionTreeClassifier(max_depth=3, random_state=42)"
   ]
  },
  {
   "cell_type": "code",
   "execution_count": 41,
   "id": "13c65bb8-5be7-4940-ab73-5194d5f78809",
   "metadata": {},
   "outputs": [
    {
     "ename": "ValueError",
     "evalue": "could not convert string to float: 'Male'",
     "output_type": "error",
     "traceback": [
      "\u001b[0;31m---------------------------------------------------------------------------\u001b[0m",
      "\u001b[0;31mValueError\u001b[0m                                Traceback (most recent call last)",
      "\u001b[0;32m/var/folders/sg/9h_lqlfd6bgb63_prv2nr4mm0000gn/T/ipykernel_4372/2395142735.py\u001b[0m in \u001b[0;36m<module>\u001b[0;34m\u001b[0m\n\u001b[0;32m----> 1\u001b[0;31m \u001b[0mclf\u001b[0m\u001b[0;34m.\u001b[0m\u001b[0mfit\u001b[0m\u001b[0;34m(\u001b[0m\u001b[0mX_train\u001b[0m\u001b[0;34m,\u001b[0m \u001b[0my_train\u001b[0m\u001b[0;34m)\u001b[0m\u001b[0;34m\u001b[0m\u001b[0;34m\u001b[0m\u001b[0m\n\u001b[0m",
      "\u001b[0;32m~/opt/anaconda3/lib/python3.9/site-packages/sklearn/tree/_classes.py\u001b[0m in \u001b[0;36mfit\u001b[0;34m(self, X, y, sample_weight, check_input, X_idx_sorted)\u001b[0m\n\u001b[1;32m    935\u001b[0m         \"\"\"\n\u001b[1;32m    936\u001b[0m \u001b[0;34m\u001b[0m\u001b[0m\n\u001b[0;32m--> 937\u001b[0;31m         super().fit(\n\u001b[0m\u001b[1;32m    938\u001b[0m             \u001b[0mX\u001b[0m\u001b[0;34m,\u001b[0m\u001b[0;34m\u001b[0m\u001b[0;34m\u001b[0m\u001b[0m\n\u001b[1;32m    939\u001b[0m             \u001b[0my\u001b[0m\u001b[0;34m,\u001b[0m\u001b[0;34m\u001b[0m\u001b[0;34m\u001b[0m\u001b[0m\n",
      "\u001b[0;32m~/opt/anaconda3/lib/python3.9/site-packages/sklearn/tree/_classes.py\u001b[0m in \u001b[0;36mfit\u001b[0;34m(self, X, y, sample_weight, check_input, X_idx_sorted)\u001b[0m\n\u001b[1;32m    163\u001b[0m             \u001b[0mcheck_X_params\u001b[0m \u001b[0;34m=\u001b[0m \u001b[0mdict\u001b[0m\u001b[0;34m(\u001b[0m\u001b[0mdtype\u001b[0m\u001b[0;34m=\u001b[0m\u001b[0mDTYPE\u001b[0m\u001b[0;34m,\u001b[0m \u001b[0maccept_sparse\u001b[0m\u001b[0;34m=\u001b[0m\u001b[0;34m\"csc\"\u001b[0m\u001b[0;34m)\u001b[0m\u001b[0;34m\u001b[0m\u001b[0;34m\u001b[0m\u001b[0m\n\u001b[1;32m    164\u001b[0m             \u001b[0mcheck_y_params\u001b[0m \u001b[0;34m=\u001b[0m \u001b[0mdict\u001b[0m\u001b[0;34m(\u001b[0m\u001b[0mensure_2d\u001b[0m\u001b[0;34m=\u001b[0m\u001b[0;32mFalse\u001b[0m\u001b[0;34m,\u001b[0m \u001b[0mdtype\u001b[0m\u001b[0;34m=\u001b[0m\u001b[0;32mNone\u001b[0m\u001b[0;34m)\u001b[0m\u001b[0;34m\u001b[0m\u001b[0;34m\u001b[0m\u001b[0m\n\u001b[0;32m--> 165\u001b[0;31m             X, y = self._validate_data(\n\u001b[0m\u001b[1;32m    166\u001b[0m                 \u001b[0mX\u001b[0m\u001b[0;34m,\u001b[0m \u001b[0my\u001b[0m\u001b[0;34m,\u001b[0m \u001b[0mvalidate_separately\u001b[0m\u001b[0;34m=\u001b[0m\u001b[0;34m(\u001b[0m\u001b[0mcheck_X_params\u001b[0m\u001b[0;34m,\u001b[0m \u001b[0mcheck_y_params\u001b[0m\u001b[0;34m)\u001b[0m\u001b[0;34m\u001b[0m\u001b[0;34m\u001b[0m\u001b[0m\n\u001b[1;32m    167\u001b[0m             )\n",
      "\u001b[0;32m~/opt/anaconda3/lib/python3.9/site-packages/sklearn/base.py\u001b[0m in \u001b[0;36m_validate_data\u001b[0;34m(self, X, y, reset, validate_separately, **check_params)\u001b[0m\n\u001b[1;32m    576\u001b[0m                 \u001b[0;31m# :(\u001b[0m\u001b[0;34m\u001b[0m\u001b[0;34m\u001b[0m\u001b[0m\n\u001b[1;32m    577\u001b[0m                 \u001b[0mcheck_X_params\u001b[0m\u001b[0;34m,\u001b[0m \u001b[0mcheck_y_params\u001b[0m \u001b[0;34m=\u001b[0m \u001b[0mvalidate_separately\u001b[0m\u001b[0;34m\u001b[0m\u001b[0;34m\u001b[0m\u001b[0m\n\u001b[0;32m--> 578\u001b[0;31m                 \u001b[0mX\u001b[0m \u001b[0;34m=\u001b[0m \u001b[0mcheck_array\u001b[0m\u001b[0;34m(\u001b[0m\u001b[0mX\u001b[0m\u001b[0;34m,\u001b[0m \u001b[0;34m**\u001b[0m\u001b[0mcheck_X_params\u001b[0m\u001b[0;34m)\u001b[0m\u001b[0;34m\u001b[0m\u001b[0;34m\u001b[0m\u001b[0m\n\u001b[0m\u001b[1;32m    579\u001b[0m                 \u001b[0my\u001b[0m \u001b[0;34m=\u001b[0m \u001b[0mcheck_array\u001b[0m\u001b[0;34m(\u001b[0m\u001b[0my\u001b[0m\u001b[0;34m,\u001b[0m \u001b[0;34m**\u001b[0m\u001b[0mcheck_y_params\u001b[0m\u001b[0;34m)\u001b[0m\u001b[0;34m\u001b[0m\u001b[0;34m\u001b[0m\u001b[0m\n\u001b[1;32m    580\u001b[0m             \u001b[0;32melse\u001b[0m\u001b[0;34m:\u001b[0m\u001b[0;34m\u001b[0m\u001b[0;34m\u001b[0m\u001b[0m\n",
      "\u001b[0;32m~/opt/anaconda3/lib/python3.9/site-packages/sklearn/utils/validation.py\u001b[0m in \u001b[0;36mcheck_array\u001b[0;34m(array, accept_sparse, accept_large_sparse, dtype, order, copy, force_all_finite, ensure_2d, allow_nd, ensure_min_samples, ensure_min_features, estimator)\u001b[0m\n\u001b[1;32m    744\u001b[0m                     \u001b[0marray\u001b[0m \u001b[0;34m=\u001b[0m \u001b[0marray\u001b[0m\u001b[0;34m.\u001b[0m\u001b[0mastype\u001b[0m\u001b[0;34m(\u001b[0m\u001b[0mdtype\u001b[0m\u001b[0;34m,\u001b[0m \u001b[0mcasting\u001b[0m\u001b[0;34m=\u001b[0m\u001b[0;34m\"unsafe\"\u001b[0m\u001b[0;34m,\u001b[0m \u001b[0mcopy\u001b[0m\u001b[0;34m=\u001b[0m\u001b[0;32mFalse\u001b[0m\u001b[0;34m)\u001b[0m\u001b[0;34m\u001b[0m\u001b[0;34m\u001b[0m\u001b[0m\n\u001b[1;32m    745\u001b[0m                 \u001b[0;32melse\u001b[0m\u001b[0;34m:\u001b[0m\u001b[0;34m\u001b[0m\u001b[0;34m\u001b[0m\u001b[0m\n\u001b[0;32m--> 746\u001b[0;31m                     \u001b[0marray\u001b[0m \u001b[0;34m=\u001b[0m \u001b[0mnp\u001b[0m\u001b[0;34m.\u001b[0m\u001b[0masarray\u001b[0m\u001b[0;34m(\u001b[0m\u001b[0marray\u001b[0m\u001b[0;34m,\u001b[0m \u001b[0morder\u001b[0m\u001b[0;34m=\u001b[0m\u001b[0morder\u001b[0m\u001b[0;34m,\u001b[0m \u001b[0mdtype\u001b[0m\u001b[0;34m=\u001b[0m\u001b[0mdtype\u001b[0m\u001b[0;34m)\u001b[0m\u001b[0;34m\u001b[0m\u001b[0;34m\u001b[0m\u001b[0m\n\u001b[0m\u001b[1;32m    747\u001b[0m             \u001b[0;32mexcept\u001b[0m \u001b[0mComplexWarning\u001b[0m \u001b[0;32mas\u001b[0m \u001b[0mcomplex_warning\u001b[0m\u001b[0;34m:\u001b[0m\u001b[0;34m\u001b[0m\u001b[0;34m\u001b[0m\u001b[0m\n\u001b[1;32m    748\u001b[0m                 raise ValueError(\n",
      "\u001b[0;32m~/opt/anaconda3/lib/python3.9/site-packages/pandas/core/generic.py\u001b[0m in \u001b[0;36m__array__\u001b[0;34m(self, dtype)\u001b[0m\n\u001b[1;32m   2062\u001b[0m \u001b[0;34m\u001b[0m\u001b[0m\n\u001b[1;32m   2063\u001b[0m     \u001b[0;32mdef\u001b[0m \u001b[0m__array__\u001b[0m\u001b[0;34m(\u001b[0m\u001b[0mself\u001b[0m\u001b[0;34m,\u001b[0m \u001b[0mdtype\u001b[0m\u001b[0;34m:\u001b[0m \u001b[0mnpt\u001b[0m\u001b[0;34m.\u001b[0m\u001b[0mDTypeLike\u001b[0m \u001b[0;34m|\u001b[0m \u001b[0;32mNone\u001b[0m \u001b[0;34m=\u001b[0m \u001b[0;32mNone\u001b[0m\u001b[0;34m)\u001b[0m \u001b[0;34m->\u001b[0m \u001b[0mnp\u001b[0m\u001b[0;34m.\u001b[0m\u001b[0mndarray\u001b[0m\u001b[0;34m:\u001b[0m\u001b[0;34m\u001b[0m\u001b[0;34m\u001b[0m\u001b[0m\n\u001b[0;32m-> 2064\u001b[0;31m         \u001b[0;32mreturn\u001b[0m \u001b[0mnp\u001b[0m\u001b[0;34m.\u001b[0m\u001b[0masarray\u001b[0m\u001b[0;34m(\u001b[0m\u001b[0mself\u001b[0m\u001b[0;34m.\u001b[0m\u001b[0m_values\u001b[0m\u001b[0;34m,\u001b[0m \u001b[0mdtype\u001b[0m\u001b[0;34m=\u001b[0m\u001b[0mdtype\u001b[0m\u001b[0;34m)\u001b[0m\u001b[0;34m\u001b[0m\u001b[0;34m\u001b[0m\u001b[0m\n\u001b[0m\u001b[1;32m   2065\u001b[0m \u001b[0;34m\u001b[0m\u001b[0m\n\u001b[1;32m   2066\u001b[0m     def __array_wrap__(\n",
      "\u001b[0;31mValueError\u001b[0m: could not convert string to float: 'Male'"
     ]
    }
   ],
   "source": [
    "clf.fit(X_train, y_train)"
   ]
  },
  {
   "cell_type": "code",
   "execution_count": null,
   "id": "6be22178-2f70-4fed-8796-52901ded9aa9",
   "metadata": {},
   "outputs": [],
   "source": []
  },
  {
   "cell_type": "markdown",
   "id": "dec11a8e-bec5-4fcb-86ac-8bc976a67bf6",
   "metadata": {},
   "source": [
    "### 3. Evaluate your in-sample results using the model score, confusion matrix, and classification report."
   ]
  },
  {
   "cell_type": "code",
   "execution_count": null,
   "id": "88e83cff-b019-4082-a822-8262491cf10b",
   "metadata": {},
   "outputs": [],
   "source": [
    "y_pred = clf.predict(X_train)"
   ]
  },
  {
   "cell_type": "code",
   "execution_count": null,
   "id": "21b9c13e-8970-4686-b2be-c91e14b12532",
   "metadata": {},
   "outputs": [],
   "source": [
    "pd.DataFrame(confusion_matrix(y_train, y_pred), index=['Pred Churn', 'Pred Stay'], columns=['Act Churn','Act Stay'])"
   ]
  },
  {
   "cell_type": "code",
   "execution_count": null,
   "id": "5972af76-a296-42d7-8188-09f14f5e26bb",
   "metadata": {},
   "outputs": [],
   "source": []
  },
  {
   "cell_type": "markdown",
   "id": "5bb1ce3c-0211-4add-820b-c31fc1c56139",
   "metadata": {},
   "source": [
    "### 4. Compute: Accuracy, true positive rate, false positive rate, true negative rate, false negative rate, precision, recall, f1-score, and support."
   ]
  },
  {
   "cell_type": "markdown",
   "id": "34f63fd2-3055-4bba-a5c0-040842aa8140",
   "metadata": {},
   "source": [
    "### 5. Run through steps 2-4 using a different max_depth value."
   ]
  },
  {
   "cell_type": "markdown",
   "id": "e4a1315a-f1c2-4caf-873c-f928bb5f77c7",
   "metadata": {},
   "source": [
    "### 6. Which model performs better on your in-sample data?"
   ]
  },
  {
   "cell_type": "markdown",
   "id": "bfa554c2-15bb-4d9e-9fb4-b08b5e0395df",
   "metadata": {},
   "source": [
    "### 7. Which model performs best on your out-of-sample data, the validate set?"
   ]
  },
  {
   "cell_type": "markdown",
   "id": "782f07bf-38dd-4f01-a187-7beca96cd698",
   "metadata": {},
   "source": [
    "## 2. Experiment with this model on other datasets with a higher number of output classes."
   ]
  }
 ],
 "metadata": {
  "kernelspec": {
   "display_name": "Python 3 (ipykernel)",
   "language": "python",
   "name": "python3"
  },
  "language_info": {
   "codemirror_mode": {
    "name": "ipython",
    "version": 3
   },
   "file_extension": ".py",
   "mimetype": "text/x-python",
   "name": "python",
   "nbconvert_exporter": "python",
   "pygments_lexer": "ipython3",
   "version": "3.9.15"
  }
 },
 "nbformat": 4,
 "nbformat_minor": 5
}
